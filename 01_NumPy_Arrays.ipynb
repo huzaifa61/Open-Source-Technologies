{
  "nbformat": 4,
  "nbformat_minor": 0,
  "metadata": {
    "colab": {
      "name": "01-NumPy Arrays.ipynb",
      "version": "0.3.2",
      "provenance": [],
      "collapsed_sections": []
    },
    "kernelspec": {
      "display_name": "Python 3",
      "language": "python",
      "name": "python3"
    }
  },
  "cells": [
    {
      "metadata": {
        "id": "p3fAfvZU79Qr",
        "colab_type": "text"
      },
      "cell_type": "markdown",
      "source": [
        "#Introduction to NumPy \n",
        "\n",
        "![alt text](https://upload.wikimedia.org/wikipedia/commons/thumb/1/1a/NumPy_logo.svg/1200px-NumPy_logo.svg.png)\n",
        "\n",
        "NumPy (or Numpy) is a Linear Algebra Library for Python. NumPy is a Python package. It stands for 'Numerical Python'. It is a library consisting of multidimensional array objects and a collection of routines for processing of array.\n",
        "\n",
        "Numpy is also incredibly fast, as it has bindings to C libraries.\n",
        "\n",
        "## **About iPython Notebooks**\n",
        "\n",
        "iPython Notebooks are interactive coding environments embedded in a webpage. You will be using iPython notebooks in this class. You only need to write code between the ### START CODE HERE ### and ### END CODE HERE ### comments. After writing your code, you can run the cell by either pressing \"SHIFT\"+\"ENTER\" or by clicking on \"Run Cell\" (denoted by a play symbol) in the left bar of the cell.\n",
        "\n",
        "\n",
        "**In this notebook you will learn -**\n",
        "* Numpy arrays\n",
        "* Numpy Selecting and Indexing\n",
        "* Numpy Operations\n",
        "\n",
        "## Importing NumPy\n",
        "\n",
        "To import NumPy in Colaboratory under the name **np** type the following:\n"
      ]
    },
    {
      "metadata": {
        "id": "Z5W7oUq579Qt",
        "colab_type": "code",
        "colab": {}
      },
      "cell_type": "code",
      "source": [
        "import numpy as np"
      ],
      "execution_count": 0,
      "outputs": []
    },
    {
      "metadata": {
        "id": "x17cyH_g79Qw",
        "colab_type": "text"
      },
      "cell_type": "markdown",
      "source": [
        "Numpy has many built-in functions and capabilities. We won't cover them all but instead we will focus on some of the most important aspects of Numpy: vectors, arrays, matrices, and number generation. Let's start with arrays.\n",
        "\n",
        "# Numpy Arrays\n",
        "\n",
        "NumPy arrays are the main way we will use Numpy throughout the course. Numpy arrays essentially come in two flavors: vectors and matrices. Vectors are strictly 1-d arrays and matrices are 2-d.\n",
        "\n",
        "**Note:** A matrix can still have only one row or one column.\n",
        "\n",
        "\n",
        "## Creating NumPy Arrays\n",
        "\n",
        "### From a Python List\n",
        "\n",
        "We can create an array by directly converting a list or list of lists:"
      ]
    },
    {
      "metadata": {
        "id": "RkNn1uau79Qw",
        "colab_type": "code",
        "outputId": "e35a724c-0b46-4471-863e-f69493fd9f7d",
        "colab": {
          "base_uri": "https://localhost:8080/",
          "height": 34
        }
      },
      "cell_type": "code",
      "source": [
        "my_list = [1,2,3]\n",
        "my_list"
      ],
      "execution_count": 0,
      "outputs": [
        {
          "output_type": "execute_result",
          "data": {
            "text/plain": [
              "[1, 2, 3]"
            ]
          },
          "metadata": {
            "tags": []
          },
          "execution_count": 2
        }
      ]
    },
    {
      "metadata": {
        "id": "l66lIVZD79Q1",
        "colab_type": "code",
        "outputId": "bed4b8cf-55df-4049-a307-d674d06b27cf",
        "colab": {
          "base_uri": "https://localhost:8080/",
          "height": 34
        }
      },
      "cell_type": "code",
      "source": [
        "np.array(my_list)"
      ],
      "execution_count": 0,
      "outputs": [
        {
          "output_type": "execute_result",
          "data": {
            "text/plain": [
              "array([1, 2, 3])"
            ]
          },
          "metadata": {
            "tags": []
          },
          "execution_count": 3
        }
      ]
    },
    {
      "metadata": {
        "id": "Nju_NGec79Q3",
        "colab_type": "code",
        "outputId": "f91a0b04-c403-4172-cb67-c5403836d20a",
        "colab": {
          "base_uri": "https://localhost:8080/",
          "height": 34
        }
      },
      "cell_type": "code",
      "source": [
        "my_matrix = [[1,2,3],[4,5,6],[7,8,9]]      # list of lists\n",
        "my_matrix"
      ],
      "execution_count": 0,
      "outputs": [
        {
          "output_type": "execute_result",
          "data": {
            "text/plain": [
              "[[1, 2, 3], [4, 5, 6], [7, 8, 9]]"
            ]
          },
          "metadata": {
            "tags": []
          },
          "execution_count": 4
        }
      ]
    },
    {
      "metadata": {
        "id": "xKTK_Phg79Q6",
        "colab_type": "code",
        "outputId": "2cdb5575-e305-4422-985a-bcd6cbb7315d",
        "colab": {
          "base_uri": "https://localhost:8080/",
          "height": 67
        }
      },
      "cell_type": "code",
      "source": [
        "np.array(my_matrix)      # 3x3 matrix"
      ],
      "execution_count": 0,
      "outputs": [
        {
          "output_type": "execute_result",
          "data": {
            "text/plain": [
              "array([[1, 2, 3],\n",
              "       [4, 5, 6],\n",
              "       [7, 8, 9]])"
            ]
          },
          "metadata": {
            "tags": []
          },
          "execution_count": 5
        }
      ]
    },
    {
      "metadata": {
        "id": "67eqWRoz2vGp",
        "colab_type": "text"
      },
      "cell_type": "markdown",
      "source": [
        "**Exercise 1.1:**\n",
        "\n",
        "Create a list named **odd_list** containing all off numbers from 0 to 10 and print it."
      ]
    },
    {
      "metadata": {
        "id": "hs2cX2TG3Cu_",
        "colab_type": "code",
        "outputId": "d7bc31a6-110c-4079-8af8-34aaa0912d95",
        "colab": {
          "base_uri": "https://localhost:8080/",
          "height": 34
        }
      },
      "cell_type": "code",
      "source": [
        "### START CODE HERE ### (2 lines of code)\n",
        "\n",
        "\n",
        "### END CODE HERE ###"
      ],
      "execution_count": 0,
      "outputs": [
        {
          "output_type": "execute_result",
          "data": {
            "text/plain": [
              "[1, 3, 5, 7, 9]"
            ]
          },
          "metadata": {
            "tags": []
          },
          "execution_count": 10
        }
      ]
    },
    {
      "metadata": {
        "id": "rkiPm05o4FnU",
        "colab_type": "text"
      },
      "cell_type": "markdown",
      "source": [
        "**Expected Output:**\n",
        "\n",
        "[1, 3, 5, 7, 9]"
      ]
    },
    {
      "metadata": {
        "id": "sHSY6k8e1n6E",
        "colab_type": "text"
      },
      "cell_type": "markdown",
      "source": [
        "**Exercise 1.2:**\n",
        "\n",
        "Create a 2x2 matrix of all even numbers from 1 to 9."
      ]
    },
    {
      "metadata": {
        "id": "NuqLKQhf1-bQ",
        "colab_type": "code",
        "colab": {}
      },
      "cell_type": "code",
      "source": [
        "### START CODE HERE ###\n",
        " \n",
        "list = [[2,4],[6,8]]      #create list of 2 lists\n",
        "list                      #print the list\n",
        "np._____(list)            #convert the list into array\n",
        "  \n",
        "### END CODE HERE ###"
      ],
      "execution_count": 0,
      "outputs": []
    },
    {
      "metadata": {
        "id": "2ZET_cZtdKcE",
        "colab_type": "text"
      },
      "cell_type": "markdown",
      "source": [
        "**Expected Output:**\n",
        "\n",
        "array[[2, 4],\n",
        "\n",
        "     [6,8]]"
      ]
    },
    {
      "metadata": {
        "id": "FsSRvkex79Q8",
        "colab_type": "text"
      },
      "cell_type": "markdown",
      "source": [
        "#Built-in Methods\n",
        "\n",
        "There are lots of built-in ways to generate Arrays."
      ]
    },
    {
      "metadata": {
        "id": "J8tMTnB479Q9",
        "colab_type": "text"
      },
      "cell_type": "markdown",
      "source": [
        "### arange\n",
        "\n",
        "Return evenly spaced values within a given interval."
      ]
    },
    {
      "metadata": {
        "id": "hIYwXCqb79Q-",
        "colab_type": "code",
        "outputId": "d1e03994-95c7-4bf6-d3f4-cb431f86b0f1",
        "colab": {
          "base_uri": "https://localhost:8080/",
          "height": 34
        }
      },
      "cell_type": "code",
      "source": [
        "np.arange(0,10)     #creates an array from 0 to 9"
      ],
      "execution_count": 0,
      "outputs": [
        {
          "output_type": "execute_result",
          "data": {
            "text/plain": [
              "array([0, 1, 2, 3, 4, 5, 6, 7, 8, 9])"
            ]
          },
          "metadata": {
            "tags": []
          },
          "execution_count": 11
        }
      ]
    },
    {
      "metadata": {
        "id": "nYBzsZWU5GXL",
        "colab_type": "text"
      },
      "cell_type": "markdown",
      "source": [
        "**Note:** \n",
        "The first parameter is the starting value and second parameter (excluding) is the ending value."
      ]
    },
    {
      "metadata": {
        "id": "Hspb7Sda79RC",
        "colab_type": "code",
        "outputId": "a821c4d7-5d93-497e-b8fc-0b117320d463",
        "colab": {
          "base_uri": "https://localhost:8080/",
          "height": 34
        }
      },
      "cell_type": "code",
      "source": [
        "np.arange(0,11,2)"
      ],
      "execution_count": 0,
      "outputs": [
        {
          "output_type": "execute_result",
          "data": {
            "text/plain": [
              "array([ 0,  2,  4,  6,  8, 10])"
            ]
          },
          "metadata": {
            "tags": []
          },
          "execution_count": 12
        }
      ]
    },
    {
      "metadata": {
        "id": "GyBCiZsp5RjF",
        "colab_type": "text"
      },
      "cell_type": "markdown",
      "source": [
        "**Note:** \n",
        "The third parameter is the step value."
      ]
    },
    {
      "metadata": {
        "id": "kFR3KJ4GdrwK",
        "colab_type": "text"
      },
      "cell_type": "markdown",
      "source": [
        "**Exercise 1.3:**\n",
        "\n",
        "Create an array of odd numbers between 30 to 40 using **arrange** function."
      ]
    },
    {
      "metadata": {
        "id": "nJGMQKTWeASJ",
        "colab_type": "code",
        "colab": {}
      },
      "cell_type": "code",
      "source": [
        "np.______(31,40,_)"
      ],
      "execution_count": 0,
      "outputs": []
    },
    {
      "metadata": {
        "id": "SCjsLa3xeOQk",
        "colab_type": "text"
      },
      "cell_type": "markdown",
      "source": [
        "**Expected Output:**\n",
        "\n",
        "[31, 33, 35, 37, 39]"
      ]
    },
    {
      "metadata": {
        "id": "dz0TSlGF79RE",
        "colab_type": "text"
      },
      "cell_type": "markdown",
      "source": [
        "### zeros and ones\n",
        "\n",
        "Generate arrays of zeros or ones"
      ]
    },
    {
      "metadata": {
        "id": "gsrjGVwn79RF",
        "colab_type": "code",
        "outputId": "9b5432b2-baed-4e5e-c665-40220d02b974",
        "colab": {
          "base_uri": "https://localhost:8080/",
          "height": 34
        }
      },
      "cell_type": "code",
      "source": [
        "np.zeros(3)      #creates an array of 3 zeros"
      ],
      "execution_count": 0,
      "outputs": [
        {
          "output_type": "execute_result",
          "data": {
            "text/plain": [
              "array([0., 0., 0.])"
            ]
          },
          "metadata": {
            "tags": []
          },
          "execution_count": 13
        }
      ]
    },
    {
      "metadata": {
        "id": "mBvOazfY79RI",
        "colab_type": "code",
        "outputId": "9d1ddce1-79ce-4a27-bcc2-c26c0f5c8eef",
        "colab": {
          "base_uri": "https://localhost:8080/",
          "height": 101
        }
      },
      "cell_type": "code",
      "source": [
        "np.zeros((5,5))      #creates a 5x5 matrix of zeros"
      ],
      "execution_count": 0,
      "outputs": [
        {
          "output_type": "execute_result",
          "data": {
            "text/plain": [
              "array([[0., 0., 0., 0., 0.],\n",
              "       [0., 0., 0., 0., 0.],\n",
              "       [0., 0., 0., 0., 0.],\n",
              "       [0., 0., 0., 0., 0.],\n",
              "       [0., 0., 0., 0., 0.]])"
            ]
          },
          "metadata": {
            "tags": []
          },
          "execution_count": 14
        }
      ]
    },
    {
      "metadata": {
        "id": "HjLPYBV579RK",
        "colab_type": "code",
        "outputId": "de0fbc8e-9e62-4ae1-9932-3f580312061b",
        "colab": {
          "base_uri": "https://localhost:8080/",
          "height": 34
        }
      },
      "cell_type": "code",
      "source": [
        "np.ones(3)      #creates an array of 3 ones"
      ],
      "execution_count": 0,
      "outputs": [
        {
          "output_type": "execute_result",
          "data": {
            "text/plain": [
              "array([1., 1., 1.])"
            ]
          },
          "metadata": {
            "tags": []
          },
          "execution_count": 4
        }
      ]
    },
    {
      "metadata": {
        "id": "0DmosWJl79RM",
        "colab_type": "code",
        "outputId": "a00d5ee3-d830-4973-ba38-a58d9eb2287e",
        "colab": {
          "base_uri": "https://localhost:8080/",
          "height": 67
        }
      },
      "cell_type": "code",
      "source": [
        "np.ones((3,3))      #creates a 5x5 matrix of ones"
      ],
      "execution_count": 0,
      "outputs": [
        {
          "output_type": "execute_result",
          "data": {
            "text/plain": [
              "array([[1., 1., 1.],\n",
              "       [1., 1., 1.],\n",
              "       [1., 1., 1.]])"
            ]
          },
          "metadata": {
            "tags": []
          },
          "execution_count": 5
        }
      ]
    },
    {
      "metadata": {
        "id": "6FMuhAvA79RP",
        "colab_type": "text"
      },
      "cell_type": "markdown",
      "source": [
        "### linspace\n",
        "Return evenly spaced numbers over a specified interval."
      ]
    },
    {
      "metadata": {
        "id": "a0BDnMUA79RR",
        "colab_type": "code",
        "outputId": "69499819-d8c5-4436-a849-5e05ada97145",
        "colab": {}
      },
      "cell_type": "code",
      "source": [
        "np.linspace(0,10,3)"
      ],
      "execution_count": 0,
      "outputs": [
        {
          "output_type": "execute_result",
          "data": {
            "text/plain": [
              "array([  0.,   5.,  10.])"
            ]
          },
          "metadata": {
            "tags": []
          },
          "execution_count": 29
        }
      ]
    },
    {
      "metadata": {
        "id": "x5Q91cE179RU",
        "colab_type": "code",
        "outputId": "d86ecef5-d737-40e0-dd8b-8015cf1bd9ed",
        "colab": {}
      },
      "cell_type": "code",
      "source": [
        "np.linspace(0,10,50)"
      ],
      "execution_count": 0,
      "outputs": [
        {
          "output_type": "execute_result",
          "data": {
            "text/plain": [
              "array([  0.        ,   0.20408163,   0.40816327,   0.6122449 ,\n",
              "         0.81632653,   1.02040816,   1.2244898 ,   1.42857143,\n",
              "         1.63265306,   1.83673469,   2.04081633,   2.24489796,\n",
              "         2.44897959,   2.65306122,   2.85714286,   3.06122449,\n",
              "         3.26530612,   3.46938776,   3.67346939,   3.87755102,\n",
              "         4.08163265,   4.28571429,   4.48979592,   4.69387755,\n",
              "         4.89795918,   5.10204082,   5.30612245,   5.51020408,\n",
              "         5.71428571,   5.91836735,   6.12244898,   6.32653061,\n",
              "         6.53061224,   6.73469388,   6.93877551,   7.14285714,\n",
              "         7.34693878,   7.55102041,   7.75510204,   7.95918367,\n",
              "         8.16326531,   8.36734694,   8.57142857,   8.7755102 ,\n",
              "         8.97959184,   9.18367347,   9.3877551 ,   9.59183673,\n",
              "         9.79591837,  10.        ])"
            ]
          },
          "metadata": {
            "tags": []
          },
          "execution_count": 31
        }
      ]
    },
    {
      "metadata": {
        "id": "Z1SH2oCD79RY",
        "colab_type": "text"
      },
      "cell_type": "markdown",
      "source": [
        "### eye\n",
        "\n",
        "Creates an identity matrix"
      ]
    },
    {
      "metadata": {
        "id": "oxqRB5go79RY",
        "colab_type": "code",
        "outputId": "10e84d1d-8f15-478c-fcc2-5b2c0daa26f5",
        "colab": {
          "base_uri": "https://localhost:8080/",
          "height": 84
        }
      },
      "cell_type": "code",
      "source": [
        "np.eye(4)"
      ],
      "execution_count": 0,
      "outputs": [
        {
          "output_type": "execute_result",
          "data": {
            "text/plain": [
              "array([[1., 0., 0., 0.],\n",
              "       [0., 1., 0., 0.],\n",
              "       [0., 0., 1., 0.],\n",
              "       [0., 0., 0., 1.]])"
            ]
          },
          "metadata": {
            "tags": []
          },
          "execution_count": 15
        }
      ]
    },
    {
      "metadata": {
        "id": "FuWrJ_VH79Ra",
        "colab_type": "text"
      },
      "cell_type": "markdown",
      "source": [
        "###Random \n",
        "\n",
        "Numpy also has lots of ways to create random number arrays:\n",
        "\n",
        "### rand\n",
        "Create an array of the given shape and populate it with\n",
        "random samples from a uniform distribution\n",
        "over ``[0, 1]``."
      ]
    },
    {
      "metadata": {
        "id": "KCm1AhlN79Rb",
        "colab_type": "code",
        "outputId": "625eb76c-527e-41a4-99e0-1fd7e42c6336",
        "colab": {
          "base_uri": "https://localhost:8080/",
          "height": 34
        }
      },
      "cell_type": "code",
      "source": [
        "np.random.rand(2)"
      ],
      "execution_count": 0,
      "outputs": [
        {
          "output_type": "execute_result",
          "data": {
            "text/plain": [
              "array([0.09424201, 0.9729102 ])"
            ]
          },
          "metadata": {
            "tags": []
          },
          "execution_count": 16
        }
      ]
    },
    {
      "metadata": {
        "id": "N9mifLc479Rd",
        "colab_type": "code",
        "outputId": "5fa0b266-993c-45df-abdd-baffb3fa0b2d",
        "colab": {
          "base_uri": "https://localhost:8080/",
          "height": 101
        }
      },
      "cell_type": "code",
      "source": [
        "np.random.rand(5,5)"
      ],
      "execution_count": 0,
      "outputs": [
        {
          "output_type": "execute_result",
          "data": {
            "text/plain": [
              "array([[0.96119769, 0.66654362, 0.44037671, 0.99077464, 0.67054731],\n",
              "       [0.7632278 , 0.76418321, 0.50759305, 0.23413845, 0.97802182],\n",
              "       [0.7880287 , 0.96950813, 0.06866801, 0.80372106, 0.41532078],\n",
              "       [0.76720641, 0.79674922, 0.89244394, 0.59624529, 0.53143292],\n",
              "       [0.16466125, 0.03960232, 0.47130774, 0.82437061, 0.93424583]])"
            ]
          },
          "metadata": {
            "tags": []
          },
          "execution_count": 17
        }
      ]
    },
    {
      "metadata": {
        "id": "LlCkB4-o79Rf",
        "colab_type": "text"
      },
      "cell_type": "markdown",
      "source": [
        "### randn\n",
        "\n",
        "Return a sample (or samples) from the \"standard normal\" distribution. Unlike rand which is uniform:"
      ]
    },
    {
      "metadata": {
        "id": "HaSUtpGY79Rg",
        "colab_type": "code",
        "outputId": "35a712df-25a1-48b4-d685-eb085f7a6ade",
        "colab": {
          "base_uri": "https://localhost:8080/",
          "height": 34
        }
      },
      "cell_type": "code",
      "source": [
        "np.random.randn(2)"
      ],
      "execution_count": 0,
      "outputs": [
        {
          "output_type": "execute_result",
          "data": {
            "text/plain": [
              "array([-0.35950875,  0.55235977])"
            ]
          },
          "metadata": {
            "tags": []
          },
          "execution_count": 5
        }
      ]
    },
    {
      "metadata": {
        "id": "MXQKJ8zJ79Rj",
        "colab_type": "code",
        "outputId": "f134c640-43da-49c8-f420-abf7092e91b0",
        "colab": {}
      },
      "cell_type": "code",
      "source": [
        "np.random.randn(5,5)"
      ],
      "execution_count": 0,
      "outputs": [
        {
          "output_type": "execute_result",
          "data": {
            "text/plain": [
              "array([[ 0.70154515,  0.22441999,  1.33563186,  0.82872577, -0.28247509],\n",
              "       [ 0.64489788,  0.61815094, -0.81693168, -0.30102424, -0.29030574],\n",
              "       [ 0.8695976 ,  0.413755  ,  2.20047208,  0.17955692, -0.82159344],\n",
              "       [ 0.59264235,  1.29869894, -1.18870241,  0.11590888, -0.09181687],\n",
              "       [-0.96924265, -1.62888685, -2.05787102, -0.29705576,  0.68915542]])"
            ]
          },
          "metadata": {
            "tags": []
          },
          "execution_count": 45
        }
      ]
    },
    {
      "metadata": {
        "id": "mhC6aypJ79Rm",
        "colab_type": "text"
      },
      "cell_type": "markdown",
      "source": [
        "### randint\n",
        "Return random integers from `low` (inclusive) to `high` (exclusive)."
      ]
    },
    {
      "metadata": {
        "id": "NVIlrjJj79Rn",
        "colab_type": "code",
        "outputId": "02a8f6f6-baf9-4322-bdd1-3ccf0440d44c",
        "colab": {}
      },
      "cell_type": "code",
      "source": [
        "np.random.randint(1,100)"
      ],
      "execution_count": 0,
      "outputs": [
        {
          "output_type": "execute_result",
          "data": {
            "text/plain": [
              "44"
            ]
          },
          "metadata": {
            "tags": []
          },
          "execution_count": 50
        }
      ]
    },
    {
      "metadata": {
        "id": "nq-Dp-eK79Rp",
        "colab_type": "code",
        "outputId": "9c8e1e5c-fad7-4a07-9f2a-986326d31596",
        "colab": {}
      },
      "cell_type": "code",
      "source": [
        "np.random.randint(1,100,10)"
      ],
      "execution_count": 0,
      "outputs": [
        {
          "output_type": "execute_result",
          "data": {
            "text/plain": [
              "array([13, 64, 27, 63, 46, 68, 92, 10, 58, 24])"
            ]
          },
          "metadata": {
            "tags": []
          },
          "execution_count": 51
        }
      ]
    },
    {
      "metadata": {
        "id": "5zzG2wBC6FJR",
        "colab_type": "text"
      },
      "cell_type": "markdown",
      "source": [
        "**Note:**\n",
        "The third parameter indicates the number of values to be printed."
      ]
    },
    {
      "metadata": {
        "id": "ykJq10yM79Rs",
        "colab_type": "text"
      },
      "cell_type": "markdown",
      "source": [
        "# Array Attributes and Methods\n",
        "\n",
        "Let's discuss some useful attributes and methods or an array:"
      ]
    },
    {
      "metadata": {
        "id": "ouM2dwf479Rt",
        "colab_type": "code",
        "colab": {}
      },
      "cell_type": "code",
      "source": [
        "arr = np.arange(25)\n",
        "ranarr = np.random.randint(0,50,10)"
      ],
      "execution_count": 0,
      "outputs": []
    },
    {
      "metadata": {
        "id": "SYPFlzTY79Ru",
        "colab_type": "code",
        "outputId": "52c93d4a-7d53-4345-f0c2-3bed1bf903c0",
        "colab": {
          "base_uri": "https://localhost:8080/",
          "height": 50
        }
      },
      "cell_type": "code",
      "source": [
        "arr"
      ],
      "execution_count": 0,
      "outputs": [
        {
          "output_type": "execute_result",
          "data": {
            "text/plain": [
              "array([ 0,  1,  2,  3,  4,  5,  6,  7,  8,  9, 10, 11, 12, 13, 14, 15, 16,\n",
              "       17, 18, 19, 20, 21, 22, 23, 24])"
            ]
          },
          "metadata": {
            "tags": []
          },
          "execution_count": 7
        }
      ]
    },
    {
      "metadata": {
        "id": "SdqBj6hv79Rw",
        "colab_type": "code",
        "outputId": "09b7f8d5-2d8e-4458-bf33-555229b45860",
        "colab": {
          "base_uri": "https://localhost:8080/",
          "height": 34
        }
      },
      "cell_type": "code",
      "source": [
        "ranarr"
      ],
      "execution_count": 0,
      "outputs": [
        {
          "output_type": "execute_result",
          "data": {
            "text/plain": [
              "array([35, 40, 41, 18,  8, 42, 42, 24, 38, 15])"
            ]
          },
          "metadata": {
            "tags": []
          },
          "execution_count": 8
        }
      ]
    },
    {
      "metadata": {
        "id": "K7A-hX_Z79Ry",
        "colab_type": "text"
      },
      "cell_type": "markdown",
      "source": [
        "### Reshape\n",
        "Returns an array containing the same data with a new shape."
      ]
    },
    {
      "metadata": {
        "id": "IKXFPDAh79Rz",
        "colab_type": "code",
        "outputId": "c4de8d96-a7f8-4646-8d0b-1503c9b0a42c",
        "colab": {
          "base_uri": "https://localhost:8080/",
          "height": 101
        }
      },
      "cell_type": "code",
      "source": [
        "arr.reshape(5,5)"
      ],
      "execution_count": 0,
      "outputs": [
        {
          "output_type": "execute_result",
          "data": {
            "text/plain": [
              "array([[ 0,  1,  2,  3,  4],\n",
              "       [ 5,  6,  7,  8,  9],\n",
              "       [10, 11, 12, 13, 14],\n",
              "       [15, 16, 17, 18, 19],\n",
              "       [20, 21, 22, 23, 24]])"
            ]
          },
          "metadata": {
            "tags": []
          },
          "execution_count": 21
        }
      ]
    },
    {
      "metadata": {
        "id": "bCW_vWFp79R2",
        "colab_type": "text"
      },
      "cell_type": "markdown",
      "source": [
        "### max, min, argmax, argmin\n",
        "\n",
        "These are useful methods for finding max or min values. Or to find their index locations using argmin or argmax"
      ]
    },
    {
      "metadata": {
        "id": "XLXHQC0o79R2",
        "colab_type": "code",
        "outputId": "f49306ca-2058-4c2f-f234-190906e22909",
        "colab": {}
      },
      "cell_type": "code",
      "source": [
        "ranarr"
      ],
      "execution_count": 0,
      "outputs": [
        {
          "output_type": "execute_result",
          "data": {
            "text/plain": [
              "array([10, 12, 41, 17, 49,  2, 46,  3, 19, 39])"
            ]
          },
          "metadata": {
            "tags": []
          },
          "execution_count": 64
        }
      ]
    },
    {
      "metadata": {
        "id": "U4Hr0vjm79R4",
        "colab_type": "code",
        "outputId": "eb08fc54-7c1d-4c56-e600-968bf7f77a19",
        "colab": {}
      },
      "cell_type": "code",
      "source": [
        "ranarr.max()"
      ],
      "execution_count": 0,
      "outputs": [
        {
          "output_type": "execute_result",
          "data": {
            "text/plain": [
              "49"
            ]
          },
          "metadata": {
            "tags": []
          },
          "execution_count": 61
        }
      ]
    },
    {
      "metadata": {
        "id": "0-WGvsR279R6",
        "colab_type": "code",
        "outputId": "7a9378c5-24b3-4b23-e226-94c33584cb7d",
        "colab": {}
      },
      "cell_type": "code",
      "source": [
        "ranarr.argmax()"
      ],
      "execution_count": 0,
      "outputs": [
        {
          "output_type": "execute_result",
          "data": {
            "text/plain": [
              "4"
            ]
          },
          "metadata": {
            "tags": []
          },
          "execution_count": 62
        }
      ]
    },
    {
      "metadata": {
        "id": "GaUdvm6E79R7",
        "colab_type": "code",
        "outputId": "fc59c299-23c2-4396-cf2d-6ee3078c38d1",
        "colab": {}
      },
      "cell_type": "code",
      "source": [
        "ranarr.min()"
      ],
      "execution_count": 0,
      "outputs": [
        {
          "output_type": "execute_result",
          "data": {
            "text/plain": [
              "2"
            ]
          },
          "metadata": {
            "tags": []
          },
          "execution_count": 63
        }
      ]
    },
    {
      "metadata": {
        "id": "rfXruwWv79R-",
        "colab_type": "code",
        "outputId": "bf38a6da-98ba-4ed1-b707-8aab8bfc794a",
        "colab": {}
      },
      "cell_type": "code",
      "source": [
        "ranarr.argmin()"
      ],
      "execution_count": 0,
      "outputs": [
        {
          "output_type": "execute_result",
          "data": {
            "text/plain": [
              "5"
            ]
          },
          "metadata": {
            "tags": []
          },
          "execution_count": 60
        }
      ]
    },
    {
      "metadata": {
        "id": "r6dOQZos79SB",
        "colab_type": "text"
      },
      "cell_type": "markdown",
      "source": [
        "### Shape\n",
        "\n",
        "Shape is an attribute that arrays have (not a method):"
      ]
    },
    {
      "metadata": {
        "id": "YQulVtBI79SB",
        "colab_type": "code",
        "outputId": "4c06acf7-d338-43bb-ae29-0bf75f1d4205",
        "colab": {
          "base_uri": "https://localhost:8080/",
          "height": 34
        }
      },
      "cell_type": "code",
      "source": [
        "# Vector\n",
        "arr.shape"
      ],
      "execution_count": 0,
      "outputs": [
        {
          "output_type": "execute_result",
          "data": {
            "text/plain": [
              "(25,)"
            ]
          },
          "metadata": {
            "tags": []
          },
          "execution_count": 9
        }
      ]
    },
    {
      "metadata": {
        "id": "vVonchMF79SH",
        "colab_type": "code",
        "colab": {}
      },
      "cell_type": "code",
      "source": [
        "# Notice the two sets of brackets\n",
        "arr.reshape(1,25)"
      ],
      "execution_count": 0,
      "outputs": []
    },
    {
      "metadata": {
        "id": "VKdVVuQ979SI",
        "colab_type": "code",
        "outputId": "7dc56505-b17b-43ec-d2e7-2e3f701144c3",
        "colab": {
          "base_uri": "https://localhost:8080/",
          "height": 34
        }
      },
      "cell_type": "code",
      "source": [
        "arr.reshape(1,25).shape"
      ],
      "execution_count": 0,
      "outputs": [
        {
          "output_type": "execute_result",
          "data": {
            "text/plain": [
              "(1, 25)"
            ]
          },
          "metadata": {
            "tags": []
          },
          "execution_count": 9
        }
      ]
    },
    {
      "metadata": {
        "id": "xoch7RkZ79SL",
        "colab_type": "code",
        "outputId": "d7a6b6a1-bce0-4a8d-9c4d-2b77590294b3",
        "colab": {
          "base_uri": "https://localhost:8080/",
          "height": 437
        }
      },
      "cell_type": "code",
      "source": [
        "arr.reshape(25,1)"
      ],
      "execution_count": 0,
      "outputs": [
        {
          "output_type": "execute_result",
          "data": {
            "text/plain": [
              "array([[ 0],\n",
              "       [ 1],\n",
              "       [ 2],\n",
              "       [ 3],\n",
              "       [ 4],\n",
              "       [ 5],\n",
              "       [ 6],\n",
              "       [ 7],\n",
              "       [ 8],\n",
              "       [ 9],\n",
              "       [10],\n",
              "       [11],\n",
              "       [12],\n",
              "       [13],\n",
              "       [14],\n",
              "       [15],\n",
              "       [16],\n",
              "       [17],\n",
              "       [18],\n",
              "       [19],\n",
              "       [20],\n",
              "       [21],\n",
              "       [22],\n",
              "       [23],\n",
              "       [24]])"
            ]
          },
          "metadata": {
            "tags": []
          },
          "execution_count": 10
        }
      ]
    },
    {
      "metadata": {
        "id": "94IaN2Ji79SN",
        "colab_type": "code",
        "outputId": "d8d30a5e-70e1-482f-b048-8aac00c86098",
        "colab": {
          "base_uri": "https://localhost:8080/",
          "height": 34
        }
      },
      "cell_type": "code",
      "source": [
        "arr.reshape(25,1).shape"
      ],
      "execution_count": 0,
      "outputs": [
        {
          "output_type": "execute_result",
          "data": {
            "text/plain": [
              "(25, 1)"
            ]
          },
          "metadata": {
            "tags": []
          },
          "execution_count": 11
        }
      ]
    },
    {
      "metadata": {
        "id": "OK2Jo3gS79SQ",
        "colab_type": "text"
      },
      "cell_type": "markdown",
      "source": [
        "### dtype\n",
        "\n",
        "You can also grab the data type of the object in the array:"
      ]
    },
    {
      "metadata": {
        "id": "MQgpqllS79SQ",
        "colab_type": "code",
        "outputId": "dd9ac2c0-0617-4dc6-ecea-4858557a1120",
        "colab": {}
      },
      "cell_type": "code",
      "source": [
        "arr.dtype"
      ],
      "execution_count": 0,
      "outputs": [
        {
          "output_type": "execute_result",
          "data": {
            "text/plain": [
              "dtype('int64')"
            ]
          },
          "metadata": {
            "tags": []
          },
          "execution_count": 75
        }
      ]
    },
    {
      "metadata": {
        "id": "IT5bdEQnZ0Sw",
        "colab_type": "text"
      },
      "cell_type": "markdown",
      "source": [
        "**Exercise 1.4:**\n",
        "\n",
        "Create a random array of 15 numbers from 10 to 40. Reshape the same array to 3x5 matrix. Also print the min and max numbers from that array list."
      ]
    },
    {
      "metadata": {
        "id": "Qm3fmfH7aoFe",
        "colab_type": "code",
        "colab": {}
      },
      "cell_type": "code",
      "source": [
        "### START CODE HERE ###   \n",
        "arr = np.______.randint(__,__,__)      #create random array\n",
        "arr                                    #print the array\n",
        "arr._______(3,5)                       #reshape the array"
      ],
      "execution_count": 0,
      "outputs": []
    },
    {
      "metadata": {
        "id": "VvDsWdeIcZ7S",
        "colab_type": "code",
        "colab": {}
      },
      "cell_type": "code",
      "source": [
        "a = arr._____                          #get the minimum value\n",
        "a"
      ],
      "execution_count": 0,
      "outputs": []
    },
    {
      "metadata": {
        "id": "FrxkYXJKcdkl",
        "colab_type": "code",
        "colab": {}
      },
      "cell_type": "code",
      "source": [
        "b = arr._____                          #get the maximum value\n",
        "b\n",
        "### END CODE HERE ###\n"
      ],
      "execution_count": 0,
      "outputs": []
    },
    {
      "metadata": {
        "id": "szabHl6R79ST",
        "colab_type": "text"
      },
      "cell_type": "markdown",
      "source": [
        "# Great Job!"
      ]
    }
  ]
}