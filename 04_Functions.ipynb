{
  "nbformat": 4,
  "nbformat_minor": 0,
  "metadata": {
    "colab": {
      "name": "04-Functions.ipynb",
      "version": "0.3.2",
      "provenance": [],
      "collapsed_sections": []
    },
    "kernelspec": {
      "name": "python3",
      "display_name": "Python 3"
    }
  },
  "cells": [
    {
      "metadata": {
        "id": "FHd7kVdpPg1-",
        "colab_type": "text"
      },
      "cell_type": "markdown",
      "source": [
        "#  Introduction to Python\n",
        "\n",
        "##***Welcome to your Fourth iPython Notebook.***\n",
        "\n",
        "![python](https://cognitiveclass.ai/wp-content/uploads/2016/10/Machine-Learning-with-Python.png)\n",
        "\n",
        "## **About iPython Notebooks**\n",
        "\n",
        "iPython Notebooks are interactive coding environments embedded in a webpage. You will be using iPython notebooks in this class. You only need to write code between the ### START CODE HERE ### and ### END CODE HERE ### comments. After writing your code, you can run the cell by either pressing \"SHIFT\"+\"ENTER\" or by clicking on \"Run Cell\" (denoted by a play symbol) in the left bar of the cell.\n",
        "\n",
        "\n",
        "**In this notebook you will learn -**\n",
        "\n",
        "\n",
        "\n",
        "* Functions\n"
      ]
    },
    {
      "metadata": {
        "id": "opL8szIrJsE8",
        "colab_type": "text"
      },
      "cell_type": "markdown",
      "source": [
        "#Python Functions\n",
        "\n",
        "**A function is a block of code which only runs when it is called.**\n",
        "\n",
        "**You can pass data, known as parameters, into a function(Function_Name(Parameters)).**\n",
        "\n",
        "**A function can return a value if specified.**\n",
        "\n"
      ]
    },
    {
      "metadata": {
        "id": "4W-kTL7YKg2P",
        "colab_type": "text"
      },
      "cell_type": "markdown",
      "source": [
        "##**Creating a Function:**\n",
        "\n",
        "In Python a function is defined using the def keyword.\n",
        "\n"
      ]
    },
    {
      "metadata": {
        "id": "yjuGcorlKn3Z",
        "colab_type": "code",
        "colab": {}
      },
      "cell_type": "code",
      "source": [
        "def my_function():\n",
        "  print(\"Hello from a function\")"
      ],
      "execution_count": 0,
      "outputs": []
    },
    {
      "metadata": {
        "id": "XIHCmqG1p1Gs",
        "colab_type": "text"
      },
      "cell_type": "markdown",
      "source": [
        "**Exercise 4.1 :**\n",
        "\n",
        "Create a function named** display**"
      ]
    },
    {
      "metadata": {
        "id": "E18zWpKKqIb-",
        "colab_type": "code",
        "colab": {}
      },
      "cell_type": "code",
      "source": [
        "### START CODE HERE ### \n",
        "                                        ##1 line of code\n",
        "    print(\"Hello from a function\")\n",
        "### END CODE HERE ###   \n",
        "  "
      ],
      "execution_count": 0,
      "outputs": []
    },
    {
      "metadata": {
        "id": "OYI1M2hMKqw_",
        "colab_type": "text"
      },
      "cell_type": "markdown",
      "source": [
        "##**Calling a Function:**\n",
        "\n",
        "To call a function, use the function name followed by parenthesis."
      ]
    },
    {
      "metadata": {
        "id": "JRN69ilJKxyX",
        "colab_type": "code",
        "colab": {}
      },
      "cell_type": "code",
      "source": [
        "def my_function():\n",
        "  print(\"Hello from a function\")\n",
        "\n",
        "my_function()"
      ],
      "execution_count": 0,
      "outputs": []
    },
    {
      "metadata": {
        "id": "kIT0tXNvK2sQ",
        "colab_type": "text"
      },
      "cell_type": "markdown",
      "source": [
        "##**Parameters:**\n",
        "\n",
        "Information can be passed to functions as parameter.\n",
        "\n",
        "Parameters are specified after the function name, inside the parentheses. You can add as many parameters as you want, just separate them with a comma.\n",
        "\n",
        "The following example has a function with one parameter (fname). When the function is called, we pass along a first name, which is used inside the function to print the full name."
      ]
    },
    {
      "metadata": {
        "id": "binEfnSWK-0z",
        "colab_type": "code",
        "colab": {}
      },
      "cell_type": "code",
      "source": [
        "def my_function(fname):\n",
        "  print(fname + \" Refsnes\")\n",
        "\n",
        "my_function(\"Emil\")\n",
        "my_function(\"Tobias\")\n",
        "my_function(\"Linus\")"
      ],
      "execution_count": 0,
      "outputs": []
    },
    {
      "metadata": {
        "id": "5aQML1gELHkV",
        "colab_type": "text"
      },
      "cell_type": "markdown",
      "source": [
        "**NOTE:** If we call the function without parameter, it uses the default value.\n",
        "\n"
      ]
    },
    {
      "metadata": {
        "id": "7dpGWUl2LgJ1",
        "colab_type": "code",
        "colab": {}
      },
      "cell_type": "code",
      "source": [
        "def my_function(country = \"Norway\"):\n",
        "  print(\"I am from \" + country)\n",
        "\n",
        "my_function(\"Sweden\")\n",
        "my_function(\"India\")\n",
        "my_function()\n",
        "my_function(\"Brazil\")"
      ],
      "execution_count": 0,
      "outputs": []
    },
    {
      "metadata": {
        "id": "ud0pxNPILjl4",
        "colab_type": "text"
      },
      "cell_type": "markdown",
      "source": [
        "##**Return Statement**\n",
        "\n",
        "\n",
        "When the function results in some value and that value has to be stored in a variable or needs to be sent back or returned for further operation to the main algorithm, return statement is used."
      ]
    },
    {
      "metadata": {
        "id": "6lCX5vjnl2VI",
        "colab_type": "code",
        "colab": {}
      },
      "cell_type": "code",
      "source": [
        "def times(x,y):\n",
        "    z = x*y\n",
        "    return z"
      ],
      "execution_count": 0,
      "outputs": []
    },
    {
      "metadata": {
        "id": "zRqE0iUil43n",
        "colab_type": "text"
      },
      "cell_type": "markdown",
      "source": [
        "\n",
        "The above defined times( ) function accepts two arguements and return the variable z which contains the result of the product of the two arguements"
      ]
    },
    {
      "metadata": {
        "id": "uGg7B0skl5kx",
        "colab_type": "code",
        "colab": {}
      },
      "cell_type": "code",
      "source": [
        "c = times(4,5)\n",
        "print c"
      ],
      "execution_count": 0,
      "outputs": []
    },
    {
      "metadata": {
        "id": "8zLL6BVDl9wf",
        "colab_type": "text"
      },
      "cell_type": "markdown",
      "source": [
        "\n",
        "20\n",
        "\n",
        "The z value is stored in variable c and can be used for further operations.\n",
        "\n",
        "Instead of declaring another variable the entire statement itself can be used in the return statement as shown."
      ]
    },
    {
      "metadata": {
        "id": "407KYJSfmAIx",
        "colab_type": "code",
        "colab": {}
      },
      "cell_type": "code",
      "source": [
        "def times(x,y):\n",
        "   return x*y       # This multiplies the two input arguments and returns it."
      ],
      "execution_count": 0,
      "outputs": []
    },
    {
      "metadata": {
        "id": "IkEjFGqimc0P",
        "colab_type": "code",
        "colab": {}
      },
      "cell_type": "code",
      "source": [
        "\n",
        "c = times(4,5)\n",
        "print c"
      ],
      "execution_count": 0,
      "outputs": []
    },
    {
      "metadata": {
        "id": "aQhjj5DZmZ7P",
        "colab_type": "text"
      },
      "cell_type": "markdown",
      "source": [
        "\n",
        "20\n",
        "\n",
        "Since the times( ) is now defined, we can document it as shown above. This document is returned whenever times( ) function is called under help( ) function."
      ]
    },
    {
      "metadata": {
        "id": "SLepfEhKrX_W",
        "colab_type": "text"
      },
      "cell_type": "markdown",
      "source": [
        "**Exercise 4.2 :**\n",
        "\n",
        " Let the function return the** x** parameter - 10"
      ]
    },
    {
      "metadata": {
        "id": "EJkOKbMErtWu",
        "colab_type": "code",
        "colab": {}
      },
      "cell_type": "code",
      "source": [
        "### START CODE HERE ### \n",
        "def my_function(x):\n",
        "                                 ## 1 line of code\n",
        "### END CODE HERE ###  "
      ],
      "execution_count": 0,
      "outputs": []
    },
    {
      "metadata": {
        "id": "Xx0P1GKOm1MP",
        "colab_type": "text"
      },
      "cell_type": "markdown",
      "source": [
        "##**Implicit arguments**\n",
        "\n",
        "When an argument of a function is common in majority of the cases or it is \"implicit\" this concept is used."
      ]
    },
    {
      "metadata": {
        "id": "s2TVSIjMm-B3",
        "colab_type": "code",
        "colab": {}
      },
      "cell_type": "code",
      "source": [
        "\n",
        "def implicitadd(x,y=3):\n",
        "    return x+y"
      ],
      "execution_count": 0,
      "outputs": []
    },
    {
      "metadata": {
        "id": "GeGLdnfkm-mu",
        "colab_type": "text"
      },
      "cell_type": "markdown",
      "source": [
        "\n",
        "**implicitadd( )**  is a function accepts two arguments but most of the times the first argument needs to be added just by 3. Hence the second argument is assigned the value 3. Here the second argument is implicit.\n",
        "\n"
      ]
    },
    {
      "metadata": {
        "id": "4p239913nBK3",
        "colab_type": "code",
        "colab": {}
      },
      "cell_type": "code",
      "source": [
        "implicitadd(4)       # if the second argument is not defined when calling the implicitadd( ) function then it considered as 3."
      ],
      "execution_count": 0,
      "outputs": []
    },
    {
      "metadata": {
        "id": "gDAmKP5ZnbGZ",
        "colab_type": "text"
      },
      "cell_type": "markdown",
      "source": [
        "\n",
        "But if the second argument is specified then this value overrides the implicit value assigned to the argument\n",
        "\n"
      ]
    },
    {
      "metadata": {
        "id": "l86L7fuxni6o",
        "colab_type": "code",
        "colab": {}
      },
      "cell_type": "code",
      "source": [
        "\n",
        "implicitadd(4,4)     # if the second argument is specified then this value overrides the implicit value assigned to the argument"
      ],
      "execution_count": 0,
      "outputs": []
    },
    {
      "metadata": {
        "id": "R7IislQFnvwP",
        "colab_type": "text"
      },
      "cell_type": "markdown",
      "source": [
        "##** Arbitrary  arguments**\n",
        "\n",
        "If the number of arguments that is to be accepted by a function is not known then a asterisk symbol is used before the argument."
      ]
    },
    {
      "metadata": {
        "id": "rriBB-bHn1cI",
        "colab_type": "code",
        "colab": {}
      },
      "cell_type": "code",
      "source": [
        "def add_n(*args):\n",
        "    res = 0\n",
        "    reslist = []\n",
        "    for i in args:\n",
        "        reslist.append(i)\n",
        "    print reslist\n",
        "    return sum(reslist)"
      ],
      "execution_count": 0,
      "outputs": []
    },
    {
      "metadata": {
        "id": "PTibkto7n4Y_",
        "colab_type": "text"
      },
      "cell_type": "markdown",
      "source": [
        "The above function accepts any number of arguments, defines a list and appends all the arguments into that list and return the sum of all the arguments."
      ]
    },
    {
      "metadata": {
        "id": "eCPXDl8NoQ-o",
        "colab_type": "code",
        "colab": {}
      },
      "cell_type": "code",
      "source": [
        "add_n(1,2,3,4,5)"
      ],
      "execution_count": 0,
      "outputs": []
    },
    {
      "metadata": {
        "id": "R5FFICsXoV2h",
        "colab_type": "text"
      },
      "cell_type": "markdown",
      "source": [
        "**Output :** \n",
        "\n",
        "[1, 2, 3, 4, 5]\n",
        "\n",
        " 15"
      ]
    },
    {
      "metadata": {
        "id": "rSfTbDorv-51",
        "colab_type": "text"
      },
      "cell_type": "markdown",
      "source": [
        "**Exercise 4.3 :**\n",
        "\n",
        "1) Create a function called **add**, which takes two numbers as parameters and prints their addition.\n",
        " \n",
        "2) Display the additon of **12** and** 36**.\n",
        "\n",
        "\n"
      ]
    },
    {
      "metadata": {
        "id": "-JL73Zxqwim1",
        "colab_type": "code",
        "outputId": "7d04816c-0839-4de6-d6e2-0ad084fbe69a",
        "colab": {
          "base_uri": "https://localhost:8080/",
          "height": 34
        }
      },
      "cell_type": "code",
      "source": [
        "### START CODE HERE ### \n",
        "\n",
        "                                   ## 2-3 lines of code\n",
        "                                   \n",
        "    \n",
        "print(____(12, 36))\n",
        "\n",
        "### END CODE HERE ###"
      ],
      "execution_count": 0,
      "outputs": [
        {
          "output_type": "stream",
          "text": [
            "46\n"
          ],
          "name": "stdout"
        }
      ]
    },
    {
      "metadata": {
        "id": "OPKxC2EQyEdV",
        "colab_type": "text"
      },
      "cell_type": "markdown",
      "source": [
        "**Expected output:**\n",
        "\n",
        "46"
      ]
    },
    {
      "metadata": {
        "id": "hKKsVAxI2aJI",
        "colab_type": "text"
      },
      "cell_type": "markdown",
      "source": [
        "**Exercise 4.4 :**\n",
        "\n",
        "Write a shutting down function:\n",
        "\n",
        "1) Define  a function, **shut_down**, that takes one argument s. \n",
        "\n",
        "2)  If the **shut_down** function receives an **s** equal to** 1**, it should return **\"Shutting down\"** Alternatively, elif **s** is equal to **2,** then the function should return **\"Shutdown aborted\"**. Finally, if** shut_down** gets anything other than those inputs, the function should return **\"Sorry\".**"
      ]
    },
    {
      "metadata": {
        "id": "rNz2vdFa3Gu4",
        "colab_type": "code",
        "colab": {}
      },
      "cell_type": "code",
      "source": [
        "### START CODE HERE ###                  \n",
        "def          :                               ## 5-6 lines of code\n",
        "     \n",
        "       return \"Shutting down\"\n",
        "     \n",
        "       return \"Shutdown aborted\"\n",
        "    \n",
        "      return \"Sorry\"\n",
        "### END CODE HERE ###"
      ],
      "execution_count": 0,
      "outputs": []
    },
    {
      "metadata": {
        "id": "N2Z_Mq_sBM5C",
        "colab_type": "text"
      },
      "cell_type": "markdown",
      "source": [
        "**Exercise 4.5 :**\n",
        "\n",
        "Write functions to **add**,** subtract, divide,** and **multiply** two numbers"
      ]
    },
    {
      "metadata": {
        "id": "EOTAKL1KBe55",
        "colab_type": "code",
        "colab": {}
      },
      "cell_type": "code",
      "source": [
        "### START CODE HERE ###    \n",
        "\n",
        "# This function adds two numbers and returns their addition \n",
        "def       :\n",
        "  \n",
        "  \n",
        "# This function subtracts two numbers  and returns their subtraction\n",
        "def       :\n",
        "   \n",
        "\n",
        "# This function multiplies two numbers  and returns their division \n",
        "def       :\n",
        "   \n",
        "\n",
        "# This function divides two numbers  and returns their multiplication\n",
        "def       :\n",
        "\n",
        "### END CODE HERE ###\n",
        "add(8,4)\n",
        "subtract(8,4)\n",
        "divide(8,4)\n",
        "multiply(8,4)"
      ],
      "execution_count": 0,
      "outputs": []
    },
    {
      "metadata": {
        "id": "9o-J9fkyCRVZ",
        "colab_type": "text"
      },
      "cell_type": "markdown",
      "source": [
        "**Expected output:**\n",
        " \n",
        " 12 \n",
        " \n",
        " 4\n",
        " \n",
        " 2\n",
        " \n",
        " 32\n",
        "\n"
      ]
    },
    {
      "metadata": {
        "id": "S3L0dK7I5R8g",
        "colab_type": "text"
      },
      "cell_type": "markdown",
      "source": [
        "**Exercise 4.6 :**\n",
        "\n",
        "Create and define a Function **greet** to greet **\"Monica\", \"Ross\", \"Chandler\", \"Joey\", \"Rachel\"** and **\"Phoebe\".**\n",
        "\n",
        "\n",
        "**Hint:**  \n",
        "\n",
        "Make use of** Arbitrary arguments.**"
      ]
    },
    {
      "metadata": {
        "id": "SbQwxf6T9Gix",
        "colab_type": "code",
        "colab": {}
      },
      "cell_type": "code",
      "source": [
        "### START CODE HERE ###   \n",
        "def           :                       ## This function greets all the person in the names tuple\n",
        "  \n",
        "                                       ## 3-4 lines of code\n",
        "       \n",
        "\n",
        "greet(\"Monica\",\"Ross\",\"Chandler\",\"Joey\",\"Rachel\",\"Phoebe\")           ## Function call\n",
        "\n",
        "### END CODE HERE ###"
      ],
      "execution_count": 0,
      "outputs": []
    },
    {
      "metadata": {
        "id": "SFwuzW2w-BYx",
        "colab_type": "text"
      },
      "cell_type": "markdown",
      "source": [
        "**Expected output:**\n",
        "\n",
        "Hello Monica\n",
        "\n",
        "Hello Ross\n",
        "\n",
        "Hello Chandler\n",
        "\n",
        "Hello Joey\n",
        "\n",
        "Hello Racheal\n",
        "\n",
        "Hello Phoebe"
      ]
    }
  ]
}