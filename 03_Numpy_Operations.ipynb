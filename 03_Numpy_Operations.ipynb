{
  "nbformat": 4,
  "nbformat_minor": 0,
  "metadata": {
    "colab": {
      "name": "03-Numpy Operations.ipynb",
      "version": "0.3.2",
      "provenance": [],
      "collapsed_sections": []
    },
    "kernelspec": {
      "display_name": "Python 3",
      "language": "python",
      "name": "python3"
    }
  },
  "cells": [
    {
      "metadata": {
        "id": "-AD6XAgJEBLe",
        "colab_type": "text"
      },
      "cell_type": "markdown",
      "source": [
        "#Introduction to NumPy \n",
        "\n",
        "![alt text](https://upload.wikimedia.org/wikipedia/commons/thumb/1/1a/NumPy_logo.svg/1200px-NumPy_logo.svg.png)\n",
        "\n",
        "NumPy (or Numpy) is a Linear Algebra Library for Python. NumPy is a Python package. It stands for 'Numerical Python'. It is a library consisting of multidimensional array objects and a collection of routines for processing of array.\n",
        "\n",
        "Numpy is also incredibly fast, as it has bindings to C libraries.\n",
        "\n",
        "## **About iPython Notebooks**\n",
        "\n",
        "iPython Notebooks are interactive coding environments embedded in a webpage. You will be using iPython notebooks in this class. You only need to write code between the ### START CODE HERE ### and ### END CODE HERE ### comments. After writing your code, you can run the cell by either pressing \"SHIFT\"+\"ENTER\" or by clicking on \"Run Cell\" (denoted by a play symbol) in the left bar of the cell.\n",
        "\n",
        "\n",
        "**In this notebook you will learn -**\n",
        "* Numpy arrays\n",
        "* Numpy Selecting and Indexing\n",
        "* Numpy Operations\n",
        "\n",
        "## Using NumPy\n",
        "\n",
        "To import NumPy in Colaboratory simply type the following:\n",
        "\n",
        "\n"
      ]
    },
    {
      "metadata": {
        "id": "y3CMx66UEDsH",
        "colab_type": "code",
        "colab": {}
      },
      "cell_type": "code",
      "source": [
        "import numpy as np"
      ],
      "execution_count": 0,
      "outputs": []
    },
    {
      "metadata": {
        "collapsed": true,
        "id": "ZJcBNFoN9v7O",
        "colab_type": "text"
      },
      "cell_type": "markdown",
      "source": [
        "# NumPy Operations"
      ]
    },
    {
      "metadata": {
        "id": "DaVz5u-v9v7P",
        "colab_type": "text"
      },
      "cell_type": "markdown",
      "source": [
        "## Arithmetic\n",
        "\n",
        "You can easily perform array with array arithmetic, or scalar with array arithmetic. Let's see some examples:"
      ]
    },
    {
      "metadata": {
        "id": "dUrzQJgr9v7Q",
        "colab_type": "code",
        "colab": {}
      },
      "cell_type": "code",
      "source": [
        "import numpy as np\n",
        "arr = np.arange(0,10)"
      ],
      "execution_count": 0,
      "outputs": []
    },
    {
      "metadata": {
        "id": "x8DsiNeaHWmN",
        "colab_type": "text"
      },
      "cell_type": "markdown",
      "source": [
        "###Addition of arrays"
      ]
    },
    {
      "metadata": {
        "id": "1BoI2fPa9v7T",
        "colab_type": "code",
        "outputId": "c0dd3bbc-cbaa-44a3-fc27-1378d7696369",
        "colab": {}
      },
      "cell_type": "code",
      "source": [
        "arr + arr"
      ],
      "execution_count": 0,
      "outputs": [
        {
          "output_type": "execute_result",
          "data": {
            "text/plain": [
              "array([ 0,  2,  4,  6,  8, 10, 12, 14, 16, 18])"
            ]
          },
          "metadata": {
            "tags": []
          },
          "execution_count": 2
        }
      ]
    },
    {
      "metadata": {
        "id": "GK3wiaR9Hjxj",
        "colab_type": "text"
      },
      "cell_type": "markdown",
      "source": [
        "###Multiplication of arrays"
      ]
    },
    {
      "metadata": {
        "id": "0tMoSpFb9v7W",
        "colab_type": "code",
        "outputId": "cc7d0786-76a7-40cb-9562-bb026b64f7d5",
        "colab": {}
      },
      "cell_type": "code",
      "source": [
        "arr * arr"
      ],
      "execution_count": 0,
      "outputs": [
        {
          "output_type": "execute_result",
          "data": {
            "text/plain": [
              "array([ 0,  1,  4,  9, 16, 25, 36, 49, 64, 81])"
            ]
          },
          "metadata": {
            "tags": []
          },
          "execution_count": 3
        }
      ]
    },
    {
      "metadata": {
        "id": "VBlQpiuWHrMf",
        "colab_type": "text"
      },
      "cell_type": "markdown",
      "source": [
        "###Subtraction of arrays"
      ]
    },
    {
      "metadata": {
        "id": "R97_Ouvg9v7a",
        "colab_type": "code",
        "outputId": "d6295336-ab5e-4913-d169-931b021df6b6",
        "colab": {}
      },
      "cell_type": "code",
      "source": [
        "arr - arr"
      ],
      "execution_count": 0,
      "outputs": [
        {
          "output_type": "execute_result",
          "data": {
            "text/plain": [
              "array([0, 0, 0, 0, 0, 0, 0, 0, 0, 0])"
            ]
          },
          "metadata": {
            "tags": []
          },
          "execution_count": 4
        }
      ]
    },
    {
      "metadata": {
        "id": "C9IBDlUtHzR9",
        "colab_type": "text"
      },
      "cell_type": "markdown",
      "source": [
        "###Division of arrays"
      ]
    },
    {
      "metadata": {
        "id": "hOdjUVOg9v7c",
        "colab_type": "code",
        "outputId": "0c97a78b-3127-476e-801c-c1d2934322f4",
        "colab": {}
      },
      "cell_type": "code",
      "source": [
        "# Warning on division by zero, but not an error!\n",
        "# Just replaced with nan\n",
        "arr/arr"
      ],
      "execution_count": 0,
      "outputs": [
        {
          "output_type": "stream",
          "text": [
            "/Users/marci/anaconda/lib/python3.5/site-packages/ipykernel/__main__.py:1: RuntimeWarning: invalid value encountered in true_divide\n",
            "  if __name__ == '__main__':\n"
          ],
          "name": "stderr"
        },
        {
          "output_type": "execute_result",
          "data": {
            "text/plain": [
              "array([ nan,   1.,   1.,   1.,   1.,   1.,   1.,   1.,   1.,   1.])"
            ]
          },
          "metadata": {
            "tags": []
          },
          "execution_count": 5
        }
      ]
    },
    {
      "metadata": {
        "id": "FWG5YbHz9v7e",
        "colab_type": "code",
        "outputId": "0e56cffd-d70e-4837-c322-df84e41f3b7d",
        "colab": {}
      },
      "cell_type": "code",
      "source": [
        "# Also warning, but not an error instead infinity\n",
        "1/arr"
      ],
      "execution_count": 0,
      "outputs": [
        {
          "output_type": "stream",
          "text": [
            "/Users/marci/anaconda/lib/python3.5/site-packages/ipykernel/__main__.py:1: RuntimeWarning: divide by zero encountered in true_divide\n",
            "  if __name__ == '__main__':\n"
          ],
          "name": "stderr"
        },
        {
          "output_type": "execute_result",
          "data": {
            "text/plain": [
              "array([        inf,  1.        ,  0.5       ,  0.33333333,  0.25      ,\n",
              "        0.2       ,  0.16666667,  0.14285714,  0.125     ,  0.11111111])"
            ]
          },
          "metadata": {
            "tags": []
          },
          "execution_count": 6
        }
      ]
    },
    {
      "metadata": {
        "id": "2JURdDGBH6Gn",
        "colab_type": "text"
      },
      "cell_type": "markdown",
      "source": [
        "###Exponent"
      ]
    },
    {
      "metadata": {
        "id": "VHHYn9h-9v7i",
        "colab_type": "code",
        "outputId": "5cbe1d2e-bf1e-460b-caa6-7f5928aac4c0",
        "colab": {}
      },
      "cell_type": "code",
      "source": [
        "arr**3"
      ],
      "execution_count": 0,
      "outputs": [
        {
          "output_type": "execute_result",
          "data": {
            "text/plain": [
              "array([  0,   1,   8,  27,  64, 125, 216, 343, 512, 729])"
            ]
          },
          "metadata": {
            "tags": []
          },
          "execution_count": 10
        }
      ]
    },
    {
      "metadata": {
        "id": "NBL2wxI99v7l",
        "colab_type": "text"
      },
      "cell_type": "markdown",
      "source": [
        "## Universal Array Functions\n",
        "\n",
        "Numpy comes with many universal array functions, which are essentially just mathematical operations you can use to perform the operation across the array. Let's see some common ones:"
      ]
    },
    {
      "metadata": {
        "id": "XMTOywsA9v7l",
        "colab_type": "code",
        "outputId": "40c1b561-f586-4c6d-da70-32a62ed08e6b",
        "colab": {}
      },
      "cell_type": "code",
      "source": [
        "#Taking Square Roots\n",
        "np.sqrt(arr)"
      ],
      "execution_count": 0,
      "outputs": [
        {
          "output_type": "execute_result",
          "data": {
            "text/plain": [
              "array([ 0.        ,  1.        ,  1.41421356,  1.73205081,  2.        ,\n",
              "        2.23606798,  2.44948974,  2.64575131,  2.82842712,  3.        ])"
            ]
          },
          "metadata": {
            "tags": []
          },
          "execution_count": 12
        }
      ]
    },
    {
      "metadata": {
        "id": "4zJEGjDi9v7o",
        "colab_type": "code",
        "outputId": "98ab94b6-1045-4485-908b-adbfb9d321e3",
        "colab": {}
      },
      "cell_type": "code",
      "source": [
        "#Calcualting exponential (e^)\n",
        "np.exp(arr)"
      ],
      "execution_count": 0,
      "outputs": [
        {
          "output_type": "execute_result",
          "data": {
            "text/plain": [
              "array([  1.00000000e+00,   2.71828183e+00,   7.38905610e+00,\n",
              "         2.00855369e+01,   5.45981500e+01,   1.48413159e+02,\n",
              "         4.03428793e+02,   1.09663316e+03,   2.98095799e+03,\n",
              "         8.10308393e+03])"
            ]
          },
          "metadata": {
            "tags": []
          },
          "execution_count": 13
        }
      ]
    },
    {
      "metadata": {
        "id": "d0cU4KmY9v7r",
        "colab_type": "code",
        "outputId": "3746261c-fc27-4cc8-d6aa-6e3988cd77d1",
        "colab": {}
      },
      "cell_type": "code",
      "source": [
        "np.max(arr) #same as arr.max()"
      ],
      "execution_count": 0,
      "outputs": [
        {
          "output_type": "execute_result",
          "data": {
            "text/plain": [
              "9"
            ]
          },
          "metadata": {
            "tags": []
          },
          "execution_count": 14
        }
      ]
    },
    {
      "metadata": {
        "id": "J-T663U-9v7u",
        "colab_type": "code",
        "outputId": "bbb2b56d-934d-4212-886d-949b440e6c08",
        "colab": {}
      },
      "cell_type": "code",
      "source": [
        "np.sin(arr)"
      ],
      "execution_count": 0,
      "outputs": [
        {
          "output_type": "execute_result",
          "data": {
            "text/plain": [
              "array([ 0.        ,  0.84147098,  0.90929743,  0.14112001, -0.7568025 ,\n",
              "       -0.95892427, -0.2794155 ,  0.6569866 ,  0.98935825,  0.41211849])"
            ]
          },
          "metadata": {
            "tags": []
          },
          "execution_count": 15
        }
      ]
    },
    {
      "metadata": {
        "id": "fei4ZYne9v7z",
        "colab_type": "code",
        "outputId": "519b9110-27c4-4c3a-8536-af1dc0cf66e6",
        "colab": {
          "base_uri": "https://localhost:8080/",
          "height": 84
        }
      },
      "cell_type": "code",
      "source": [
        "np.log(arr)"
      ],
      "execution_count": 0,
      "outputs": [
        {
          "output_type": "stream",
          "text": [
            "/usr/local/lib/python3.6/dist-packages/ipykernel_launcher.py:1: RuntimeWarning: divide by zero encountered in log\n",
            "  \"\"\"Entry point for launching an IPython kernel.\n"
          ],
          "name": "stderr"
        },
        {
          "output_type": "execute_result",
          "data": {
            "text/plain": [
              "array([      -inf, 0.        , 0.69314718, 1.09861229, 1.38629436,\n",
              "       1.60943791, 1.79175947, 1.94591015, 2.07944154, 2.19722458])"
            ]
          },
          "metadata": {
            "tags": []
          },
          "execution_count": 4
        }
      ]
    },
    {
      "metadata": {
        "id": "LYnkEWkt9v72",
        "colab_type": "text"
      },
      "cell_type": "markdown",
      "source": [
        "# Great Job!\n",
        "\n"
      ]
    }
  ]
}