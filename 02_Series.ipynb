{
  "nbformat": 4,
  "nbformat_minor": 0,
  "metadata": {
    "colab": {
      "name": "02-Series.ipynb",
      "version": "0.3.2",
      "provenance": []
    },
    "kernelspec": {
      "display_name": "Python 3",
      "language": "python",
      "name": "python3"
    }
  },
  "cells": [
    {
      "metadata": {
        "id": "zCpSIaMdqNkT",
        "colab_type": "text"
      },
      "cell_type": "markdown",
      "source": [
        "# Introduction to Pandas\n",
        "\n",
        "![alt text](http://i1.wp.com/blog.adeel.io/wp-content/uploads/2016/11/pandas1.png?zoom=1.25&fit=818%2C163)\n",
        "\n",
        "Pandas is an open-source, BSD-licensed Python library providing high-performance, easy-to-use data structures and data analysis tools for the Python programming language. You can think of pandas as an extremely powerful version of Excel, with a lot more features.\n",
        "\n",
        "## **About iPython Notebooks**\n",
        "\n",
        "iPython Notebooks are interactive coding environments embedded in a webpage. You will be using iPython notebooks in this class. You only need to write code between the ### START CODE HERE ### and ### END CODE HERE ### comments. After writing your code, you can run the cell by either pressing \"SHIFT\"+\"ENTER\" or by clicking on \"Run Cell\" (denoted by a play symbol) in the left bar of the cell.\n",
        "\n",
        "**In this notebook you will learn -**\n",
        "\n",
        "* Series\n",
        "* DataFrames\n",
        "* Missing Data\n",
        "* GroupBy\n",
        "* Merging, Joining and Concatenating\n",
        "* Operations\n",
        "* Data Input and Output\n",
        "\n",
        "## Importing Pandas\n",
        "To import Pandas under the name **pd** write the following:"
      ]
    },
    {
      "metadata": {
        "id": "ZhU9V0d8mL_E",
        "colab_type": "code",
        "colab": {}
      },
      "cell_type": "code",
      "source": [
        "import numpy as np\n",
        "import pandas as pd"
      ],
      "execution_count": 0,
      "outputs": []
    },
    {
      "metadata": {
        "id": "1TUHz116mL_E",
        "colab_type": "text"
      },
      "cell_type": "markdown",
      "source": [
        "#Series\n",
        "\n",
        "The first main data type we will learn about for pandas is the Series data type. \n",
        "\n",
        "A Series is very similar to a NumPy array (in fact it is built on top of the NumPy array object). What differentiates the NumPy array from a Series, is that a Series can have axis labels, meaning it can be indexed by a label, instead of just a number location. It also doesn't need to hold numeric data, it can hold any arbitrary Python Object.\n"
      ]
    },
    {
      "metadata": {
        "id": "Luo3As8-mL_H",
        "colab_type": "text"
      },
      "cell_type": "markdown",
      "source": [
        "### Creating a Series\n",
        "\n",
        "You can convert a list,numpy array, or dictionary to a Series:"
      ]
    },
    {
      "metadata": {
        "id": "_5I_IoNHmOI0",
        "colab_type": "text"
      },
      "cell_type": "markdown",
      "source": [
        ""
      ]
    },
    {
      "metadata": {
        "id": "Sxb6zIPOmL_I",
        "colab_type": "code",
        "colab": {}
      },
      "cell_type": "code",
      "source": [
        "labels = ['a','b','c']\n",
        "my_list = [10,20,30]\n",
        "arr = np.array([10,20,30])\n",
        "d = {'a':10,'b':20,'c':30}"
      ],
      "execution_count": 0,
      "outputs": []
    },
    {
      "metadata": {
        "id": "PZnlRLQ-mL_K",
        "colab_type": "text"
      },
      "cell_type": "markdown",
      "source": [
        "** Using Lists**"
      ]
    },
    {
      "metadata": {
        "id": "NiUS5RxqmL_L",
        "colab_type": "code",
        "outputId": "8c4fd1cd-4bdb-4788-acf2-b90ca8f9e149",
        "colab": {}
      },
      "cell_type": "code",
      "source": [
        "pd.Series(data=my_list)"
      ],
      "execution_count": 0,
      "outputs": [
        {
          "output_type": "execute_result",
          "data": {
            "text/plain": [
              "0    10\n",
              "1    20\n",
              "2    30\n",
              "dtype: int64"
            ]
          },
          "metadata": {
            "tags": []
          },
          "execution_count": 4
        }
      ]
    },
    {
      "metadata": {
        "id": "AxJjw_E9mL_P",
        "colab_type": "code",
        "outputId": "2afb5e2b-4550-410d-e7c7-99d3e432c9c9",
        "colab": {}
      },
      "cell_type": "code",
      "source": [
        "pd.Series(data=my_list,index=labels)"
      ],
      "execution_count": 0,
      "outputs": [
        {
          "output_type": "execute_result",
          "data": {
            "text/plain": [
              "a    10\n",
              "b    20\n",
              "c    30\n",
              "dtype: int64"
            ]
          },
          "metadata": {
            "tags": []
          },
          "execution_count": 5
        }
      ]
    },
    {
      "metadata": {
        "id": "RIEjZB2omL_R",
        "colab_type": "code",
        "outputId": "aa3a6d94-d0b5-4a59-dfe2-1ba41867fc41",
        "colab": {}
      },
      "cell_type": "code",
      "source": [
        "pd.Series(my_list,labels)"
      ],
      "execution_count": 0,
      "outputs": [
        {
          "output_type": "execute_result",
          "data": {
            "text/plain": [
              "a    10\n",
              "b    20\n",
              "c    30\n",
              "dtype: int64"
            ]
          },
          "metadata": {
            "tags": []
          },
          "execution_count": 6
        }
      ]
    },
    {
      "metadata": {
        "id": "Ss98THIJmL_U",
        "colab_type": "text"
      },
      "cell_type": "markdown",
      "source": [
        "** NumPy Arrays **"
      ]
    },
    {
      "metadata": {
        "id": "32eOqLfrmL_U",
        "colab_type": "code",
        "outputId": "3e190ead-9d1e-4b7e-e68d-825383f5a598",
        "colab": {}
      },
      "cell_type": "code",
      "source": [
        "pd.Series(arr)"
      ],
      "execution_count": 0,
      "outputs": [
        {
          "output_type": "execute_result",
          "data": {
            "text/plain": [
              "0    10\n",
              "1    20\n",
              "2    30\n",
              "dtype: int64"
            ]
          },
          "metadata": {
            "tags": []
          },
          "execution_count": 7
        }
      ]
    },
    {
      "metadata": {
        "id": "JJdnb9xDmL_W",
        "colab_type": "code",
        "outputId": "3eb54d46-cce1-43b8-c3eb-e6947071c002",
        "colab": {}
      },
      "cell_type": "code",
      "source": [
        "pd.Series(arr,labels)"
      ],
      "execution_count": 0,
      "outputs": [
        {
          "output_type": "execute_result",
          "data": {
            "text/plain": [
              "a    10\n",
              "b    20\n",
              "c    30\n",
              "dtype: int64"
            ]
          },
          "metadata": {
            "tags": []
          },
          "execution_count": 8
        }
      ]
    },
    {
      "metadata": {
        "id": "7KQua7V7mL_a",
        "colab_type": "text"
      },
      "cell_type": "markdown",
      "source": [
        "** Dictionary**"
      ]
    },
    {
      "metadata": {
        "id": "eLTmI_oHmL_b",
        "colab_type": "code",
        "outputId": "9688de79-7912-4b91-c11d-cacebc86ea9b",
        "colab": {}
      },
      "cell_type": "code",
      "source": [
        "pd.Series(d)"
      ],
      "execution_count": 0,
      "outputs": [
        {
          "output_type": "execute_result",
          "data": {
            "text/plain": [
              "a    10\n",
              "b    20\n",
              "c    30\n",
              "dtype: int64"
            ]
          },
          "metadata": {
            "tags": []
          },
          "execution_count": 9
        }
      ]
    },
    {
      "metadata": {
        "id": "rmTg6CQ9mL_f",
        "colab_type": "text"
      },
      "cell_type": "markdown",
      "source": [
        "### Data in a Series\n",
        "\n",
        "A pandas Series can hold a variety of object types:"
      ]
    },
    {
      "metadata": {
        "id": "9kS4mFOvmL_g",
        "colab_type": "code",
        "outputId": "15bd5266-5c8b-4ae7-87a8-35d37288cda0",
        "colab": {}
      },
      "cell_type": "code",
      "source": [
        "pd.Series(data=labels)"
      ],
      "execution_count": 0,
      "outputs": [
        {
          "output_type": "execute_result",
          "data": {
            "text/plain": [
              "0    a\n",
              "1    b\n",
              "2    c\n",
              "dtype: object"
            ]
          },
          "metadata": {
            "tags": []
          },
          "execution_count": 10
        }
      ]
    },
    {
      "metadata": {
        "id": "crfSJlP_mL_j",
        "colab_type": "code",
        "outputId": "d381bd59-0eab-49f3-fc18-0b1542f33bf7",
        "colab": {}
      },
      "cell_type": "code",
      "source": [
        "# Even functions (although unlikely that you will use this)\n",
        "pd.Series([sum,print,len])"
      ],
      "execution_count": 0,
      "outputs": [
        {
          "output_type": "execute_result",
          "data": {
            "text/plain": [
              "0      <built-in function sum>\n",
              "1    <built-in function print>\n",
              "2      <built-in function len>\n",
              "dtype: object"
            ]
          },
          "metadata": {
            "tags": []
          },
          "execution_count": 11
        }
      ]
    },
    {
      "metadata": {
        "id": "zwriX1o4mL_l",
        "colab_type": "text"
      },
      "cell_type": "markdown",
      "source": [
        "## Using an Index\n",
        "\n",
        "The key to using a Series is understanding its index. Pandas makes use of these index names or numbers by allowing for fast look ups of information (works like a hash table or dictionary).\n",
        "\n",
        "Let's see some examples of how to grab information from a Series. Let us create two sereis, ser1 and ser2:"
      ]
    },
    {
      "metadata": {
        "id": "pNrx9QyImL_n",
        "colab_type": "code",
        "colab": {}
      },
      "cell_type": "code",
      "source": [
        "ser1 = pd.Series([1,2,3,4],index = ['USA', 'Germany','USSR', 'Japan'])                                   "
      ],
      "execution_count": 0,
      "outputs": []
    },
    {
      "metadata": {
        "id": "bL3OzHsLmL_p",
        "colab_type": "code",
        "outputId": "2c0b642b-05fe-426b-e2cb-99a07d29635f",
        "colab": {}
      },
      "cell_type": "code",
      "source": [
        "ser1"
      ],
      "execution_count": 0,
      "outputs": [
        {
          "output_type": "execute_result",
          "data": {
            "text/plain": [
              "USA        1\n",
              "Germany    2\n",
              "USSR       3\n",
              "Japan      4\n",
              "dtype: int64"
            ]
          },
          "metadata": {
            "tags": []
          },
          "execution_count": 13
        }
      ]
    },
    {
      "metadata": {
        "id": "68ghoAhlmL_s",
        "colab_type": "code",
        "colab": {}
      },
      "cell_type": "code",
      "source": [
        "ser2 = pd.Series([1,2,5,4],index = ['USA', 'Germany','Italy', 'Japan'])                                   "
      ],
      "execution_count": 0,
      "outputs": []
    },
    {
      "metadata": {
        "id": "LF_PPYnWmL_v",
        "colab_type": "code",
        "outputId": "f11891ee-4bc4-4938-993e-7aec29a36da8",
        "colab": {}
      },
      "cell_type": "code",
      "source": [
        "ser2"
      ],
      "execution_count": 0,
      "outputs": [
        {
          "output_type": "execute_result",
          "data": {
            "text/plain": [
              "USA        1\n",
              "Germany    2\n",
              "Italy      5\n",
              "Japan      4\n",
              "dtype: int64"
            ]
          },
          "metadata": {
            "tags": []
          },
          "execution_count": 15
        }
      ]
    },
    {
      "metadata": {
        "id": "GKQQ8g4PmL_y",
        "colab_type": "code",
        "outputId": "bb37322d-1840-4206-d5e1-72d72cbb3874",
        "colab": {}
      },
      "cell_type": "code",
      "source": [
        "ser1['USA']"
      ],
      "execution_count": 0,
      "outputs": [
        {
          "output_type": "execute_result",
          "data": {
            "text/plain": [
              "1"
            ]
          },
          "metadata": {
            "tags": []
          },
          "execution_count": 16
        }
      ]
    },
    {
      "metadata": {
        "collapsed": false,
        "id": "8vpDCJt4mL_0",
        "colab_type": "text"
      },
      "cell_type": "markdown",
      "source": [
        "Operations are then also done based off of index:"
      ]
    },
    {
      "metadata": {
        "id": "AwRRSwT_mL_1",
        "colab_type": "code",
        "outputId": "6ec7bef4-0e72-41e6-e3a8-87610bfb6381",
        "colab": {}
      },
      "cell_type": "code",
      "source": [
        "ser1 + ser2"
      ],
      "execution_count": 0,
      "outputs": [
        {
          "output_type": "execute_result",
          "data": {
            "text/plain": [
              "Germany    4.0\n",
              "Italy      NaN\n",
              "Japan      8.0\n",
              "USA        2.0\n",
              "USSR       NaN\n",
              "dtype: float64"
            ]
          },
          "metadata": {
            "tags": []
          },
          "execution_count": 17
        }
      ]
    },
    {
      "metadata": {
        "id": "pAWmjqH9mL_3",
        "colab_type": "text"
      },
      "cell_type": "markdown",
      "source": [
        "Let's stop here for now and move on to DataFrames, which will expand on the concept of Series!\n",
        "# Great Job!"
      ]
    }
  ]
}