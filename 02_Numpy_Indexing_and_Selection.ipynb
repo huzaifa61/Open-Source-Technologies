{
  "nbformat": 4,
  "nbformat_minor": 0,
  "metadata": {
    "colab": {
      "name": "02-Numpy Indexing and Selection.ipynb",
      "version": "0.3.2",
      "provenance": [],
      "collapsed_sections": []
    },
    "kernelspec": {
      "display_name": "Python 3",
      "language": "python",
      "name": "python3"
    }
  },
  "cells": [
    {
      "metadata": {
        "id": "l9uWScuODNwt",
        "colab_type": "text"
      },
      "cell_type": "markdown",
      "source": [
        "#Introduction to NumPy  \n",
        "\n",
        "![alt text](https://upload.wikimedia.org/wikipedia/commons/thumb/1/1a/NumPy_logo.svg/1200px-NumPy_logo.svg.png)\n",
        "\n",
        "NumPy (or Numpy) is a Linear Algebra Library for Python. NumPy is a Python package. It stands for 'Numerical Python'. It is a library consisting of multidimensional array objects and a collection of routines for processing of array.\n",
        "\n",
        "Numpy is also incredibly fast, as it has bindings to C libraries.\n",
        "\n",
        "## **About iPython Notebooks**\n",
        "\n",
        "iPython Notebooks are interactive coding environments embedded in a webpage. You will be using iPython notebooks in this class. You only need to write code between the ### START CODE HERE ### and ### END CODE HERE ### comments. After writing your code, you can run the cell by either pressing \"SHIFT\"+\"ENTER\" or by clicking on \"Run Cell\" (denoted by a play symbol) in the left bar of the cell.\n",
        "\n",
        "\n",
        "**In this notebook you will learn -**\n",
        "* Numpy arrays\n",
        "* Numpy Selecting and Indexing\n",
        "* Numpy Operations\n",
        "\n",
        "## Using NumPy\n",
        "\n",
        "To import NumPy in Colaboratory simply type the following:\n"
      ]
    },
    {
      "metadata": {
        "id": "Mp0379S3DtzG",
        "colab_type": "code",
        "colab": {}
      },
      "cell_type": "code",
      "source": [
        "import numpy as np"
      ],
      "execution_count": 0,
      "outputs": []
    },
    {
      "metadata": {
        "id": "lY7McyCf9Q5L",
        "colab_type": "text"
      },
      "cell_type": "markdown",
      "source": [
        "# NumPy Indexing and Selection\n",
        "\n",
        "In this section we will discuss how to select elements or groups of elements from an array."
      ]
    },
    {
      "metadata": {
        "id": "70ZrpMa_9Q5M",
        "colab_type": "code",
        "colab": {}
      },
      "cell_type": "code",
      "source": [
        "import numpy as np"
      ],
      "execution_count": 0,
      "outputs": []
    },
    {
      "metadata": {
        "id": "JEz6gf5d9Q5O",
        "colab_type": "code",
        "colab": {}
      },
      "cell_type": "code",
      "source": [
        "arr = np.arange(0,11)      "
      ],
      "execution_count": 0,
      "outputs": []
    },
    {
      "metadata": {
        "id": "-z4fU7zx9Q5R",
        "colab_type": "code",
        "outputId": "4b001bf5-9d93-4c77-d626-6112b570fbc0",
        "colab": {
          "base_uri": "https://localhost:8080/",
          "height": 34
        }
      },
      "cell_type": "code",
      "source": [
        "arr"
      ],
      "execution_count": 0,
      "outputs": [
        {
          "output_type": "execute_result",
          "data": {
            "text/plain": [
              "array([ 0,  1,  2,  3,  4,  5,  6,  7,  8,  9, 10])"
            ]
          },
          "metadata": {
            "tags": []
          },
          "execution_count": 3
        }
      ]
    },
    {
      "metadata": {
        "id": "yiVSIQQd9Q5V",
        "colab_type": "text"
      },
      "cell_type": "markdown",
      "source": [
        "## Bracket Indexing and Selection\n",
        "The simplest way to pick one or some elements of an array looks very similar to python lists:"
      ]
    },
    {
      "metadata": {
        "id": "pT47Bp-O9Q5W",
        "colab_type": "code",
        "outputId": "defcaab7-01f9-4613-b3d2-1578c20cdddd",
        "colab": {}
      },
      "cell_type": "code",
      "source": [
        "arr[8]      #Get a value at an index"
      ],
      "execution_count": 0,
      "outputs": [
        {
          "output_type": "execute_result",
          "data": {
            "text/plain": [
              "8"
            ]
          },
          "metadata": {
            "tags": []
          },
          "execution_count": 5
        }
      ]
    },
    {
      "metadata": {
        "id": "zy2FMfQ99Q5Z",
        "colab_type": "code",
        "outputId": "d71a0f1f-44d6-4b22-aa52-9038dc19b761",
        "colab": {}
      },
      "cell_type": "code",
      "source": [
        "arr[1:5]      #Get values in a range"
      ],
      "execution_count": 0,
      "outputs": [
        {
          "output_type": "execute_result",
          "data": {
            "text/plain": [
              "array([1, 2, 3, 4])"
            ]
          },
          "metadata": {
            "tags": []
          },
          "execution_count": 6
        }
      ]
    },
    {
      "metadata": {
        "id": "_i6AGWnS9Q5b",
        "colab_type": "code",
        "outputId": "0507f3bf-cd07-4b51-f5d9-b188625d8926",
        "colab": {}
      },
      "cell_type": "code",
      "source": [
        "arr[0:5]      #Get values in a range"
      ],
      "execution_count": 0,
      "outputs": [
        {
          "output_type": "execute_result",
          "data": {
            "text/plain": [
              "array([0, 1, 2, 3, 4])"
            ]
          },
          "metadata": {
            "tags": []
          },
          "execution_count": 7
        }
      ]
    },
    {
      "metadata": {
        "id": "9NRP7eVF6rzN",
        "colab_type": "text"
      },
      "cell_type": "markdown",
      "source": [
        "**Exercise 2.1:**\n",
        "\n",
        "Create an array from 10 to 25 using **arrange** function. Print the numbers from index 8 to 12."
      ]
    },
    {
      "metadata": {
        "id": "sutMKroM7K3I",
        "colab_type": "code",
        "colab": {}
      },
      "cell_type": "code",
      "source": [
        "### START CODE HERE ###\n",
        "arr = __.______(10,26)\n",
        "arr[_:__]\n",
        "### END CODE HERE ### "
      ],
      "execution_count": 0,
      "outputs": []
    },
    {
      "metadata": {
        "id": "O2usCgvO8KKN",
        "colab_type": "text"
      },
      "cell_type": "markdown",
      "source": [
        "**Expected Output:**\n",
        "\n",
        "array([18, 19, 20, 21])"
      ]
    },
    {
      "metadata": {
        "id": "3pEA-9RP9Q5e",
        "colab_type": "text"
      },
      "cell_type": "markdown",
      "source": [
        "## Broadcasting\n",
        "\n",
        "Numpy arrays differ from a normal Python list because of their ability to broadcast:"
      ]
    },
    {
      "metadata": {
        "id": "-UguY0sT9Q5f",
        "colab_type": "code",
        "outputId": "f8d7e81f-8e78-4326-a987-419aa0987007",
        "colab": {}
      },
      "cell_type": "code",
      "source": [
        "arr[0:5]=100      #Setting a value with index range (Broadcasting)\n",
        "\n",
        "arr"
      ],
      "execution_count": 0,
      "outputs": [
        {
          "output_type": "execute_result",
          "data": {
            "text/plain": [
              "array([100, 100, 100, 100, 100,   5,   6,   7,   8,   9,  10])"
            ]
          },
          "metadata": {
            "tags": []
          },
          "execution_count": 8
        }
      ]
    },
    {
      "metadata": {
        "id": "2BDVWiPk9Q5i",
        "colab_type": "code",
        "outputId": "40d7ac69-64d5-4ff3-dd79-4cf4cddabe8f",
        "colab": {}
      },
      "cell_type": "code",
      "source": [
        "# Reset array \n",
        "arr = np.arange(0,11)\n",
        "\n",
        "arr"
      ],
      "execution_count": 0,
      "outputs": [
        {
          "output_type": "execute_result",
          "data": {
            "text/plain": [
              "array([ 0,  1,  2,  3,  4,  5,  6,  7,  8,  9, 10])"
            ]
          },
          "metadata": {
            "tags": []
          },
          "execution_count": 9
        }
      ]
    },
    {
      "metadata": {
        "id": "Vieiy9Vl9Q5l",
        "colab_type": "code",
        "outputId": "9f27cd9b-c5fe-45f4-df38-261d4dba47f5",
        "colab": {}
      },
      "cell_type": "code",
      "source": [
        "slice_of_arr = arr[0:6]\n",
        "\n",
        "slice_of_arr"
      ],
      "execution_count": 0,
      "outputs": [
        {
          "output_type": "execute_result",
          "data": {
            "text/plain": [
              "array([0, 1, 2, 3, 4, 5])"
            ]
          },
          "metadata": {
            "tags": []
          },
          "execution_count": 10
        }
      ]
    },
    {
      "metadata": {
        "id": "kNbQV48D9Q5p",
        "colab_type": "code",
        "outputId": "561e88d1-f9f3-4cdb-9f5d-b8bc84ec0fc1",
        "colab": {}
      },
      "cell_type": "code",
      "source": [
        "slice_of_arr[:]=99\n",
        "\n",
        "slice_of_arr"
      ],
      "execution_count": 0,
      "outputs": [
        {
          "output_type": "execute_result",
          "data": {
            "text/plain": [
              "array([99, 99, 99, 99, 99, 99])"
            ]
          },
          "metadata": {
            "tags": []
          },
          "execution_count": 11
        }
      ]
    },
    {
      "metadata": {
        "id": "Cg_BTbTF9Q5r",
        "colab_type": "text"
      },
      "cell_type": "markdown",
      "source": [
        "**Note:** The changes also occur in the original array."
      ]
    },
    {
      "metadata": {
        "id": "l4JcB_8l9Q5s",
        "colab_type": "code",
        "outputId": "b6a10a14-f1e4-4c31-f059-d5ce888b3f38",
        "colab": {}
      },
      "cell_type": "code",
      "source": [
        "arr"
      ],
      "execution_count": 0,
      "outputs": [
        {
          "output_type": "execute_result",
          "data": {
            "text/plain": [
              "array([99, 99, 99, 99, 99, 99,  6,  7,  8,  9, 10])"
            ]
          },
          "metadata": {
            "tags": []
          },
          "execution_count": 12
        }
      ]
    },
    {
      "metadata": {
        "id": "6_q3ouwF9Q5v",
        "colab_type": "text"
      },
      "cell_type": "markdown",
      "source": [
        "Data is not copied, it's a view of the original array. This avoids memory problems."
      ]
    },
    {
      "metadata": {
        "id": "7pYaZzWMPfgI",
        "colab_type": "text"
      },
      "cell_type": "markdown",
      "source": [
        "To get a copy of the array we can simply use the **copy** function."
      ]
    },
    {
      "metadata": {
        "id": "-c6zZ4lk9Q5v",
        "colab_type": "code",
        "outputId": "2917a6d5-5e49-4e0a-d067-732d3fe9bad4",
        "colab": {}
      },
      "cell_type": "code",
      "source": [
        "arr_copy = arr.copy()\n",
        "\n",
        "arr_copy"
      ],
      "execution_count": 0,
      "outputs": [
        {
          "output_type": "execute_result",
          "data": {
            "text/plain": [
              "array([99, 99, 99, 99, 99, 99,  6,  7,  8,  9, 10])"
            ]
          },
          "metadata": {
            "tags": []
          },
          "execution_count": 13
        }
      ]
    },
    {
      "metadata": {
        "id": "PsVnRAyl9Q5z",
        "colab_type": "text"
      },
      "cell_type": "markdown",
      "source": [
        "## Indexing a 2D array (matrices)\n",
        "\n",
        "The general format is **arr_2d[row][col]** or **arr_2d[row,col]**."
      ]
    },
    {
      "metadata": {
        "id": "uDv13WZJ9Q50",
        "colab_type": "code",
        "outputId": "884b9ab0-ae5d-4694-9fa4-8a64bdf9a81c",
        "colab": {}
      },
      "cell_type": "code",
      "source": [
        "arr_2d = np.array(([5,10,15],[20,25,30],[35,40,45]))\n",
        "\n",
        "arr_2d"
      ],
      "execution_count": 0,
      "outputs": [
        {
          "output_type": "execute_result",
          "data": {
            "text/plain": [
              "array([[ 5, 10, 15],\n",
              "       [20, 25, 30],\n",
              "       [35, 40, 45]])"
            ]
          },
          "metadata": {
            "tags": []
          },
          "execution_count": 14
        }
      ]
    },
    {
      "metadata": {
        "id": "Na8715jT9Q54",
        "colab_type": "code",
        "outputId": "96b5635a-cac0-41bf-b6ce-914bfff9bb48",
        "colab": {}
      },
      "cell_type": "code",
      "source": [
        "arr_2d[1]      #Indexing row\n"
      ],
      "execution_count": 0,
      "outputs": [
        {
          "output_type": "execute_result",
          "data": {
            "text/plain": [
              "array([20, 25, 30])"
            ]
          },
          "metadata": {
            "tags": []
          },
          "execution_count": 15
        }
      ]
    },
    {
      "metadata": {
        "id": "s4XC-sV09Q56",
        "colab_type": "code",
        "outputId": "bf503946-7e7a-456f-f4fb-ae6d7241a94a",
        "colab": {}
      },
      "cell_type": "code",
      "source": [
        "# Format is arr_2d[row][col] or arr_2d[row,col]\n",
        "\n",
        "# Getting individual element value\n",
        "arr_2d[1][0]"
      ],
      "execution_count": 0,
      "outputs": [
        {
          "output_type": "execute_result",
          "data": {
            "text/plain": [
              "20"
            ]
          },
          "metadata": {
            "tags": []
          },
          "execution_count": 16
        }
      ]
    },
    {
      "metadata": {
        "id": "bZLQ3eaX9Q5-",
        "colab_type": "code",
        "outputId": "8aac7c5d-7d30-4bfe-e219-ffdf1100a925",
        "colab": {}
      },
      "cell_type": "code",
      "source": [
        "# Getting individual element value\n",
        "arr_2d[1,0]"
      ],
      "execution_count": 0,
      "outputs": [
        {
          "output_type": "execute_result",
          "data": {
            "text/plain": [
              "20"
            ]
          },
          "metadata": {
            "tags": []
          },
          "execution_count": 17
        }
      ]
    },
    {
      "metadata": {
        "id": "fnnCe1N_9Q6F",
        "colab_type": "code",
        "outputId": "1fe6e8df-1b54-48d8-c420-9eee758522e4",
        "colab": {}
      },
      "cell_type": "code",
      "source": [
        "# 2D array slicing\n",
        "\n",
        "#Shape (2,2) from top right corner\n",
        "arr_2d[:2,1:]"
      ],
      "execution_count": 0,
      "outputs": [
        {
          "output_type": "execute_result",
          "data": {
            "text/plain": [
              "array([[10, 15],\n",
              "       [25, 30]])"
            ]
          },
          "metadata": {
            "tags": []
          },
          "execution_count": 18
        }
      ]
    },
    {
      "metadata": {
        "id": "oSrDbL279Q6I",
        "colab_type": "code",
        "outputId": "7601372a-93f9-4901-e8cd-4bcc444caa9b",
        "colab": {}
      },
      "cell_type": "code",
      "source": [
        "#Shape bottom row\n",
        "arr_2d[2]"
      ],
      "execution_count": 0,
      "outputs": [
        {
          "output_type": "execute_result",
          "data": {
            "text/plain": [
              "array([35, 40, 45])"
            ]
          },
          "metadata": {
            "tags": []
          },
          "execution_count": 19
        }
      ]
    },
    {
      "metadata": {
        "id": "GcwMYNey9Q6M",
        "colab_type": "code",
        "outputId": "806db35b-874a-435d-86e6-41a14e468ad6",
        "colab": {}
      },
      "cell_type": "code",
      "source": [
        "#Shape bottom row\n",
        "arr_2d[2,:]"
      ],
      "execution_count": 0,
      "outputs": [
        {
          "output_type": "execute_result",
          "data": {
            "text/plain": [
              "array([35, 40, 45])"
            ]
          },
          "metadata": {
            "tags": []
          },
          "execution_count": 20
        }
      ]
    },
    {
      "metadata": {
        "id": "BqEeYejF9Q6S",
        "colab_type": "text"
      },
      "cell_type": "markdown",
      "source": [
        "### Fancy Indexing\n",
        "\n",
        "Fancy indexing allows you to select entire rows or columns out of order,to show this, let's quickly build out a numpy array:"
      ]
    },
    {
      "metadata": {
        "id": "EWBJrKF49Q6V",
        "colab_type": "code",
        "colab": {}
      },
      "cell_type": "code",
      "source": [
        "#Set up matrix\n",
        "arr2d = np.zeros((10,10))"
      ],
      "execution_count": 0,
      "outputs": []
    },
    {
      "metadata": {
        "id": "4GwzMPfL9Q6Z",
        "colab_type": "code",
        "colab": {}
      },
      "cell_type": "code",
      "source": [
        "#Length of array\n",
        "arr_length = arr2d.shape[1]"
      ],
      "execution_count": 0,
      "outputs": []
    },
    {
      "metadata": {
        "id": "eMqzj7vi9Q6b",
        "colab_type": "code",
        "outputId": "4fe1dcd2-5740-4293-b5f2-e8463654f4d2",
        "colab": {}
      },
      "cell_type": "code",
      "source": [
        "#Set up array\n",
        "\n",
        "for i in range(arr_length):\n",
        "    arr2d[i] = i\n",
        "    \n",
        "arr2d"
      ],
      "execution_count": 0,
      "outputs": [
        {
          "output_type": "execute_result",
          "data": {
            "text/plain": [
              "array([[ 0.,  0.,  0.,  0.,  0.,  0.,  0.,  0.,  0.,  0.],\n",
              "       [ 1.,  1.,  1.,  1.,  1.,  1.,  1.,  1.,  1.,  1.],\n",
              "       [ 2.,  2.,  2.,  2.,  2.,  2.,  2.,  2.,  2.,  2.],\n",
              "       [ 3.,  3.,  3.,  3.,  3.,  3.,  3.,  3.,  3.,  3.],\n",
              "       [ 4.,  4.,  4.,  4.,  4.,  4.,  4.,  4.,  4.,  4.],\n",
              "       [ 5.,  5.,  5.,  5.,  5.,  5.,  5.,  5.,  5.,  5.],\n",
              "       [ 6.,  6.,  6.,  6.,  6.,  6.,  6.,  6.,  6.,  6.],\n",
              "       [ 7.,  7.,  7.,  7.,  7.,  7.,  7.,  7.,  7.,  7.],\n",
              "       [ 8.,  8.,  8.,  8.,  8.,  8.,  8.,  8.,  8.,  8.],\n",
              "       [ 9.,  9.,  9.,  9.,  9.,  9.,  9.,  9.,  9.,  9.]])"
            ]
          },
          "metadata": {
            "tags": []
          },
          "execution_count": 23
        }
      ]
    },
    {
      "metadata": {
        "id": "lJLHC4RU9Q6g",
        "colab_type": "text"
      },
      "cell_type": "markdown",
      "source": [
        "Fancy indexing allows the following"
      ]
    },
    {
      "metadata": {
        "id": "61nfRyfG9Q6g",
        "colab_type": "code",
        "outputId": "74d22243-8b39-42c7-d19a-852811ee7410",
        "colab": {}
      },
      "cell_type": "code",
      "source": [
        "arr2d[[2,4,6,8]]"
      ],
      "execution_count": 0,
      "outputs": [
        {
          "output_type": "execute_result",
          "data": {
            "text/plain": [
              "array([[ 2.,  2.,  2.,  2.,  2.,  2.,  2.,  2.,  2.,  2.],\n",
              "       [ 4.,  4.,  4.,  4.,  4.,  4.,  4.,  4.,  4.,  4.],\n",
              "       [ 6.,  6.,  6.,  6.,  6.,  6.,  6.,  6.,  6.,  6.],\n",
              "       [ 8.,  8.,  8.,  8.,  8.,  8.,  8.,  8.,  8.,  8.]])"
            ]
          },
          "metadata": {
            "tags": []
          },
          "execution_count": 24
        }
      ]
    },
    {
      "metadata": {
        "id": "X4DOrq_x9Q6l",
        "colab_type": "code",
        "outputId": "c34c7aeb-d115-4c6b-9681-1f0527540f10",
        "colab": {}
      },
      "cell_type": "code",
      "source": [
        "#Allows in any order\n",
        "arr2d[[6,4,2,7]]"
      ],
      "execution_count": 0,
      "outputs": [
        {
          "output_type": "execute_result",
          "data": {
            "text/plain": [
              "array([[ 6.,  6.,  6.,  6.,  6.,  6.,  6.,  6.,  6.,  6.],\n",
              "       [ 4.,  4.,  4.,  4.,  4.,  4.,  4.,  4.,  4.,  4.],\n",
              "       [ 2.,  2.,  2.,  2.,  2.,  2.,  2.,  2.,  2.,  2.],\n",
              "       [ 7.,  7.,  7.,  7.,  7.,  7.,  7.,  7.,  7.,  7.]])"
            ]
          },
          "metadata": {
            "tags": []
          },
          "execution_count": 25
        }
      ]
    },
    {
      "metadata": {
        "id": "fYNef0AJ9Q6o",
        "colab_type": "text"
      },
      "cell_type": "markdown",
      "source": [
        "## Selection\n",
        "\n",
        "Let's briefly go over how to use brackets for selection based off of comparison operators."
      ]
    },
    {
      "metadata": {
        "id": "cUJ5YNdX9Q6q",
        "colab_type": "code",
        "outputId": "0d7d6705-6075-49a5-ee3d-7b8aa7833a7c",
        "colab": {}
      },
      "cell_type": "code",
      "source": [
        "arr = np.arange(1,11)\n",
        "arr"
      ],
      "execution_count": 0,
      "outputs": [
        {
          "output_type": "execute_result",
          "data": {
            "text/plain": [
              "array([ 1,  2,  3,  4,  5,  6,  7,  8,  9, 10])"
            ]
          },
          "metadata": {
            "tags": []
          },
          "execution_count": 28
        }
      ]
    },
    {
      "metadata": {
        "id": "aDTyhIja9Q6s",
        "colab_type": "code",
        "outputId": "93dfe7c8-bc66-4286-9deb-885f39b8b4ff",
        "colab": {}
      },
      "cell_type": "code",
      "source": [
        "arr > 4"
      ],
      "execution_count": 0,
      "outputs": [
        {
          "output_type": "execute_result",
          "data": {
            "text/plain": [
              "array([False, False, False, False,  True,  True,  True,  True,  True,  True], dtype=bool)"
            ]
          },
          "metadata": {
            "tags": []
          },
          "execution_count": 30
        }
      ]
    },
    {
      "metadata": {
        "id": "IwFX-cS79Q6w",
        "colab_type": "code",
        "colab": {}
      },
      "cell_type": "code",
      "source": [
        "bool_arr = arr>4"
      ],
      "execution_count": 0,
      "outputs": []
    },
    {
      "metadata": {
        "id": "wUv8znM_9Q6y",
        "colab_type": "code",
        "outputId": "da1788c3-9461-4b17-e5c0-f063952c2941",
        "colab": {}
      },
      "cell_type": "code",
      "source": [
        "bool_arr"
      ],
      "execution_count": 0,
      "outputs": [
        {
          "output_type": "execute_result",
          "data": {
            "text/plain": [
              "array([False, False, False, False,  True,  True,  True,  True,  True,  True], dtype=bool)"
            ]
          },
          "metadata": {
            "tags": []
          },
          "execution_count": 32
        }
      ]
    },
    {
      "metadata": {
        "id": "cOLkWnCV9Q63",
        "colab_type": "code",
        "outputId": "1da7f568-1864-4dbd-8a1c-cf4a2a98e020",
        "colab": {}
      },
      "cell_type": "code",
      "source": [
        "arr[bool_arr]"
      ],
      "execution_count": 0,
      "outputs": [
        {
          "output_type": "execute_result",
          "data": {
            "text/plain": [
              "array([ 5,  6,  7,  8,  9, 10])"
            ]
          },
          "metadata": {
            "tags": []
          },
          "execution_count": 33
        }
      ]
    },
    {
      "metadata": {
        "id": "4_05pY_e9Q65",
        "colab_type": "code",
        "outputId": "1e712ce9-8d54-404b-a890-98d13ead1bfb",
        "colab": {}
      },
      "cell_type": "code",
      "source": [
        "arr[arr>2]"
      ],
      "execution_count": 0,
      "outputs": [
        {
          "output_type": "execute_result",
          "data": {
            "text/plain": [
              "array([ 3,  4,  5,  6,  7,  8,  9, 10])"
            ]
          },
          "metadata": {
            "tags": []
          },
          "execution_count": 34
        }
      ]
    },
    {
      "metadata": {
        "id": "8zQ40cn69Q67",
        "colab_type": "code",
        "outputId": "d8c85e32-c30f-4680-e4ea-3187a89c7c7c",
        "colab": {}
      },
      "cell_type": "code",
      "source": [
        "x = 2\n",
        "arr[arr>x]"
      ],
      "execution_count": 0,
      "outputs": [
        {
          "output_type": "execute_result",
          "data": {
            "text/plain": [
              "array([ 3,  4,  5,  6,  7,  8,  9, 10])"
            ]
          },
          "metadata": {
            "tags": []
          },
          "execution_count": 37
        }
      ]
    },
    {
      "metadata": {
        "id": "GfbGRuEh9Q6_",
        "colab_type": "text"
      },
      "cell_type": "markdown",
      "source": [
        "# Great Job!\n"
      ]
    }
  ]
}