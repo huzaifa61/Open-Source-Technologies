{
  "nbformat": 4,
  "nbformat_minor": 0,
  "metadata": {
    "colab": {
      "name": "02-Control Statements HUZAIFA.ipynb",
      "version": "0.3.2",
      "provenance": [],
      "collapsed_sections": [],
      "include_colab_link": true
    },
    "kernelspec": {
      "name": "python3",
      "display_name": "Python 3"
    }
  },
  "cells": [
    {
      "cell_type": "markdown",
      "metadata": {
        "id": "view-in-github",
        "colab_type": "text"
      },
      "source": [
        "<a href=\"https://colab.research.google.com/github/huzaifa61/Open-Source-Technologies/blob/master/02_Control_Statements_HUZAIFA.ipynb\" target=\"_parent\"><img src=\"https://colab.research.google.com/assets/colab-badge.svg\" alt=\"Open In Colab\"/></a>"
      ]
    },
    {
      "metadata": {
        "id": "gda16Aw9NBdj",
        "colab_type": "text"
      },
      "cell_type": "markdown",
      "source": [
        "#  Introduction to Python\n",
        "\n",
        "##***Welcome to your second  iPython Notebook.***\n",
        "\n",
        "![python](https://cognitiveclass.ai/wp-content/uploads/2016/10/Machine-Learning-with-Python.png)\n",
        "\n",
        "## **About iPython Notebooks**\n",
        "\n",
        "iPython Notebooks are interactive coding environments embedded in a webpage. You will be using iPython notebooks in this class. You only need to write code between the ### START CODE HERE ### and ### END CODE HERE ### comments. After writing your code, you can run the cell by either pressing \"SHIFT\"+\"ENTER\" or by clicking on \"Run Cell\" (denoted by a play symbol) in the left bar of the cell.\n",
        "\n",
        "\n",
        "**In this notebook you will learn -**\n",
        "\n",
        "\n",
        "\n",
        "* If else\n",
        "* Loops\n",
        "\n",
        "\n",
        "\n",
        "\n",
        "\n"
      ]
    },
    {
      "metadata": {
        "id": "lMvc4rN1_dBW",
        "colab_type": "text"
      },
      "cell_type": "markdown",
      "source": [
        "# Python If Else\n",
        "\n",
        "**To understand If Else statement first you need to know the logic operators.**\n",
        "\n",
        "  * Equals: **a == b**\n",
        "  * Not Equals: **a != b**\n",
        "  * Less than: **a < b**\n",
        "  * Less than or equal to: **a <= b**\n",
        "  * Greater than: **a > b**\n",
        "  * Greater than or equal to: **a >= b**\n"
      ]
    },
    {
      "metadata": {
        "id": "Q0XFQaioj90i",
        "colab_type": "text"
      },
      "cell_type": "markdown",
      "source": [
        "![alt text](http://i.imgur.com/fqJOBUS.png)"
      ]
    },
    {
      "metadata": {
        "id": "-QOxu2EFBWSo",
        "colab_type": "text"
      },
      "cell_type": "markdown",
      "source": [
        "**If statement:**\n",
        "\n",
        "An \"if statement\" is written by using the if keyword.\n"
      ]
    },
    {
      "metadata": {
        "id": "ZmZq8XpEAva0",
        "colab_type": "code",
        "outputId": "4cefcc80-28b0-4742-b01e-d11058291fc1",
        "colab": {
          "base_uri": "https://localhost:8080/",
          "height": 34
        }
      },
      "cell_type": "code",
      "source": [
        "a = 33\n",
        "b = 200\n",
        "if b > a:\n",
        "  print(\"b is greater than a\")"
      ],
      "execution_count": 0,
      "outputs": [
        {
          "output_type": "stream",
          "text": [
            "b is greater than a\n"
          ],
          "name": "stdout"
        }
      ]
    },
    {
      "metadata": {
        "id": "OuVKD56iB9rp",
        "colab_type": "text"
      },
      "cell_type": "markdown",
      "source": [
        "**NOTE: ** As you can see in the above example unlike other languages, Python doesn't use curly brackets to define a block of code. Instead Python uses something called Identation. Identation is a particular length of whitespaces before a line of code."
      ]
    },
    {
      "metadata": {
        "id": "gyHIRlnxKX-G",
        "colab_type": "text"
      },
      "cell_type": "markdown",
      "source": [
        "**Exercise 2.1:** \n",
        "\n",
        "If **x** is greater than **y** print \"Joker\"."
      ]
    },
    {
      "metadata": {
        "id": "wzjYL729L0TP",
        "colab_type": "code",
        "outputId": "45f17d94-3a6f-48da-a21f-2c8832de35cd",
        "colab": {
          "base_uri": "https://localhost:8080/",
          "height": 34
        }
      },
      "cell_type": "code",
      "source": [
        "x = 50\n",
        "y = 49\n",
        "         \n",
        "### START CODE HERE ### \n",
        "              \n",
        "if x > y:\n",
        "  print(\"Joker\")\n",
        "### END CODE HERE ### "
      ],
      "execution_count": 0,
      "outputs": [
        {
          "output_type": "stream",
          "text": [
            "Joker\n"
          ],
          "name": "stdout"
        }
      ]
    },
    {
      "metadata": {
        "id": "RQ4wgWC1L8xW",
        "colab_type": "text"
      },
      "cell_type": "markdown",
      "source": [
        "**Expected Output:**\n",
        "\n",
        "Joker"
      ]
    },
    {
      "metadata": {
        "id": "3hOTt5CsDQVR",
        "colab_type": "text"
      },
      "cell_type": "markdown",
      "source": [
        "**Elif statement:**\n",
        "\n",
        "The elif keyword is pythons way of saying \"if the previous conditions were not true, then try this condition\"."
      ]
    },
    {
      "metadata": {
        "id": "zXCxsWTZDi81",
        "colab_type": "code",
        "outputId": "3227647d-f24e-4e9a-c4e1-c4ed6852d479",
        "colab": {
          "base_uri": "https://localhost:8080/",
          "height": 34
        }
      },
      "cell_type": "code",
      "source": [
        "a = 33\n",
        "b = 33\n",
        "if b > a:\n",
        "  print(\"b is greater than a\")\n",
        "elif a == b:\n",
        "  print(\"a and b are equal\")"
      ],
      "execution_count": 0,
      "outputs": [
        {
          "output_type": "stream",
          "text": [
            "a and b are equal\n"
          ],
          "name": "stdout"
        }
      ]
    },
    {
      "metadata": {
        "id": "JiHVwzU3Domh",
        "colab_type": "text"
      },
      "cell_type": "markdown",
      "source": [
        "**Else:**\n",
        "\n",
        "The else keyword catches anything which isn't caught by the preceding conditions."
      ]
    },
    {
      "metadata": {
        "id": "PHkfi3BMDr2U",
        "colab_type": "code",
        "outputId": "6e1cdcfc-ab39-4e42-fa9c-babf28585190",
        "colab": {
          "base_uri": "https://localhost:8080/",
          "height": 34
        }
      },
      "cell_type": "code",
      "source": [
        "a = 200\n",
        "b = 33\n",
        "if b > a:\n",
        "  print(\"b is greater than a\")\n",
        "elif a == b:\n",
        "  print(\"a and b are equal\")\n",
        "else:\n",
        "  print(\"a is greater than b\")"
      ],
      "execution_count": 0,
      "outputs": [
        {
          "output_type": "stream",
          "text": [
            "a is greater than b\n"
          ],
          "name": "stdout"
        }
      ]
    },
    {
      "metadata": {
        "id": "m60LrVaF5DnQ",
        "colab_type": "text"
      },
      "cell_type": "markdown",
      "source": [
        " **Short Hand If:**\n",
        " \n",
        "If you have only one statement to execute, you can put it on the same line as the if statement."
      ]
    },
    {
      "metadata": {
        "id": "Uy3QbahI5a0Y",
        "colab_type": "code",
        "outputId": "5109c469-0cfb-4d74-f710-3838ff12c5db",
        "colab": {
          "base_uri": "https://localhost:8080/",
          "height": 34
        }
      },
      "cell_type": "code",
      "source": [
        "if a > b: print(\"a is greater than b\")"
      ],
      "execution_count": 0,
      "outputs": [
        {
          "output_type": "stream",
          "text": [
            "a is greater than b\n"
          ],
          "name": "stdout"
        }
      ]
    },
    {
      "metadata": {
        "id": "FhU-158W5gkD",
        "colab_type": "text"
      },
      "cell_type": "markdown",
      "source": [
        "**Short Hand If Else:**\n",
        "\n",
        "If you have only one statement to execute, one for if, and one for else, you can put it all on the same line.\n"
      ]
    },
    {
      "metadata": {
        "id": "Yxr17zO_5pb4",
        "colab_type": "code",
        "outputId": "c7ef1d5a-3822-4c73-f27d-b7770d98bf65",
        "colab": {
          "base_uri": "https://localhost:8080/",
          "height": 34
        }
      },
      "cell_type": "code",
      "source": [
        "print(\"A\") if a > b else print(\"B\")"
      ],
      "execution_count": 0,
      "outputs": [
        {
          "output_type": "stream",
          "text": [
            "A\n"
          ],
          "name": "stdout"
        }
      ]
    },
    {
      "metadata": {
        "id": "5wCnm3d053BF",
        "colab_type": "text"
      },
      "cell_type": "markdown",
      "source": [
        "**And Operator:**\n",
        "\n",
        "The **and** keyword is a logical operator, and is used to combine conditional statements.\n"
      ]
    },
    {
      "metadata": {
        "id": "4exOfxAu6NBM",
        "colab_type": "code",
        "outputId": "700e363d-d7e6-4a45-bbeb-58a8d3fff866",
        "colab": {
          "base_uri": "https://localhost:8080/",
          "height": 34
        }
      },
      "cell_type": "code",
      "source": [
        "c=300\n",
        "if a > b and c > a:\n",
        "  print(\"Both conditions are True\")         #Test if a is greater than b, AND if c is greater than a"
      ],
      "execution_count": 0,
      "outputs": [
        {
          "output_type": "stream",
          "text": [
            "Both conditions are True\n"
          ],
          "name": "stdout"
        }
      ]
    },
    {
      "metadata": {
        "id": "hycixLcN6asR",
        "colab_type": "text"
      },
      "cell_type": "markdown",
      "source": [
        "**Or Operator**\n",
        "\n",
        "The **or** keyword is a logical operator, and is used to combine conditional statements."
      ]
    },
    {
      "metadata": {
        "id": "lDMEJ6Wm6fPt",
        "colab_type": "code",
        "outputId": "685612a7-c355-412a-f1a7-33546883d2fd",
        "colab": {
          "base_uri": "https://localhost:8080/",
          "height": 34
        }
      },
      "cell_type": "code",
      "source": [
        "if a > b or a > c:\n",
        "  print(\"At least one of the conditions are True\")         #Test if a is greater than b, OR if a is greater than c    "
      ],
      "execution_count": 0,
      "outputs": [
        {
          "output_type": "stream",
          "text": [
            "At least one of the conditions are True\n"
          ],
          "name": "stdout"
        }
      ]
    },
    {
      "metadata": {
        "id": "RxrisLt6ZS3A",
        "colab_type": "text"
      },
      "cell_type": "markdown",
      "source": [
        "**Exercise 2.2:**  "
      ]
    },
    {
      "metadata": {
        "id": "8w2zovBFWTNh",
        "colab_type": "text"
      },
      "cell_type": "markdown",
      "source": [
        "Print if the number is positive or negative using If Else "
      ]
    },
    {
      "metadata": {
        "id": "cPNVGYTpYo-x",
        "colab_type": "code",
        "outputId": "f1eb5b4a-d1d9-42dc-c9aa-4fe1a781b50b",
        "colab": {
          "base_uri": "https://localhost:8080/",
          "height": 34
        }
      },
      "cell_type": "code",
      "source": [
        "num = -6         #given\n",
        "### START CODE HERE ### \n",
        "\n",
        "\n",
        "if num > 0:                                                       \n",
        "  print(num, \"is a positive number.\")\n",
        "else:\n",
        "  print(num, \"is a negative number.\")\n",
        "  \n",
        "\n",
        "### END CODE HERE ###"
      ],
      "execution_count": 0,
      "outputs": [
        {
          "output_type": "stream",
          "text": [
            "-6 is a negative number.\n"
          ],
          "name": "stdout"
        }
      ]
    },
    {
      "metadata": {
        "id": "yGw0VfeVaCR5",
        "colab_type": "text"
      },
      "cell_type": "markdown",
      "source": [
        "\n",
        "\n",
        "**Expected Output: **\"-6 is a negative number."
      ]
    },
    {
      "metadata": {
        "id": "PZaFWqxc6tS5",
        "colab_type": "text"
      },
      "cell_type": "markdown",
      "source": [
        "# Python Loops\n",
        "\n",
        "Lets say you want to print something multiple times. It is not efficient to use print statement again and again so there is a concept called **Loops**.\n",
        "\n",
        "**Python has two primitive loop commands:**\n",
        "\n",
        "\n",
        "\n",
        "*   **While** Loop\n",
        "*   **For** Loop\n",
        "\n"
      ]
    },
    {
      "metadata": {
        "id": "am1hKcD87oIQ",
        "colab_type": "text"
      },
      "cell_type": "markdown",
      "source": [
        "##While Loop\n",
        "\n",
        "With the while loop we can execute a set of statements as long as a condition is true.\n",
        "\n"
      ]
    },
    {
      "metadata": {
        "id": "Qzqzj1YtHHzd",
        "colab_type": "code",
        "outputId": "54f58512-307f-4b9b-c532-eb38bf37820f",
        "colab": {
          "base_uri": "https://localhost:8080/",
          "height": 106
        }
      },
      "cell_type": "code",
      "source": [
        "i = 1\n",
        "while i < 6:\n",
        "  print(i)              #Print i as long as i is less than 6\n",
        "  i += 1                #Increment i after every loop"
      ],
      "execution_count": 0,
      "outputs": [
        {
          "output_type": "stream",
          "text": [
            "1\n",
            "2\n",
            "3\n",
            "4\n",
            "5\n"
          ],
          "name": "stdout"
        }
      ]
    },
    {
      "metadata": {
        "id": "jBo0m-MIheF2",
        "colab_type": "text"
      },
      "cell_type": "markdown",
      "source": [
        "##The break Statement\n",
        "With the break statement we can stop the loop even if the while condition is true.The break statement terminates the loop containing it. Control of the program flows to the statement immediately after the body of the loop. If break statement is inside a nested loop (loop inside another loop), break will terminate the innermost loop."
      ]
    },
    {
      "metadata": {
        "id": "JzdEzeCnhsS_",
        "colab_type": "code",
        "outputId": "c830e8de-e4dc-44cd-d348-2fe8cf204701",
        "colab": {
          "base_uri": "https://localhost:8080/",
          "height": 52
        }
      },
      "cell_type": "code",
      "source": [
        "fruits = [\"apple\", \"banana\", \"cherry\"] #list it is explained in next Tutorial\n",
        "for x in fruits:\n",
        "  print(x) \n",
        "  if x == \"banana\":\n",
        "    break                                #Exits the loop when x is \"banana\""
      ],
      "execution_count": 0,
      "outputs": [
        {
          "output_type": "stream",
          "text": [
            "apple\n",
            "banana\n"
          ],
          "name": "stdout"
        }
      ]
    },
    {
      "metadata": {
        "id": "edSzXSjeyU86",
        "colab_type": "code",
        "outputId": "6cf31e02-119a-4e98-9be2-40d06eb01974",
        "colab": {
          "base_uri": "https://localhost:8080/",
          "height": 35
        }
      },
      "cell_type": "code",
      "source": [
        "fruits = [\"apple\", \"banana\", \"cherry\"]\n",
        "for x in fruits:\n",
        "  if x == \"banana\":\n",
        "    break\n",
        "  print(x)                              # Exits the loop when x is \"banana\", but this time the break comes before the print."
      ],
      "execution_count": 0,
      "outputs": [
        {
          "output_type": "stream",
          "text": [
            "apple\n"
          ],
          "name": "stdout"
        }
      ]
    },
    {
      "metadata": {
        "id": "wVvyjQi0h1bf",
        "colab_type": "text"
      },
      "cell_type": "markdown",
      "source": [
        "##The continue Statement\n",
        "With the continue statement we can stop the current iteration, and continue with the next"
      ]
    },
    {
      "metadata": {
        "id": "9gbelywlh9Vm",
        "colab_type": "code",
        "outputId": "6793b146-b45a-4d27-f2a8-590f1deac901",
        "colab": {
          "base_uri": "https://localhost:8080/",
          "height": 52
        }
      },
      "cell_type": "code",
      "source": [
        "fruits = [\"apple\", \"banana\", \"cherryEXCERCISE\"]\n",
        "for x in fruits:\n",
        "  if x == \"banana\": \n",
        "    continue                                   #Do not print banana\n",
        "  print(x) "
      ],
      "execution_count": 0,
      "outputs": [
        {
          "output_type": "stream",
          "text": [
            "apple\n",
            "cherry\n"
          ],
          "name": "stdout"
        }
      ]
    },
    {
      "metadata": {
        "colab_type": "text",
        "id": "OGtsGpaKIco9"
      },
      "cell_type": "markdown",
      "source": [
        "**Exercise 2.3:**  "
      ]
    },
    {
      "metadata": {
        "id": "XsE0JwcIXkpN",
        "colab_type": "text"
      },
      "cell_type": "markdown",
      "source": [
        "Print \"yo\" twice using **while**  loop."
      ]
    },
    {
      "metadata": {
        "colab_type": "code",
        "id": "v3kvkI1gIgGY",
        "outputId": "6c16702c-25d8-43e9-8d89-deed30fcc14b",
        "colab": {
          "base_uri": "https://localhost:8080/",
          "height": 52
        }
      },
      "cell_type": "code",
      "source": [
        "### START CODE HERE ### (4 line of code)\n",
        "\n",
        "i = 1\n",
        "while i<3:                    ##1 line of code\n",
        " print(\"yo\")\n",
        " i += 1                   ##1 line of code               \n",
        "\n",
        "### END CODE HERE ###"
      ],
      "execution_count": 0,
      "outputs": [
        {
          "output_type": "stream",
          "text": [
            "yo\n",
            "yo\n"
          ],
          "name": "stdout"
        }
      ]
    },
    {
      "metadata": {
        "id": "IPgyDiRVHc_-",
        "colab_type": "text"
      },
      "cell_type": "markdown",
      "source": [
        "\n",
        "** Prints all letters except 'e' and 's' **\n",
        "\n",
        "print all letters in geeksforgeeks except e & s using continue statement\n",
        "\n"
      ]
    },
    {
      "metadata": {
        "id": "Egcv-QxAHhYF",
        "colab_type": "code",
        "outputId": "21831164-ef89-4230-98c9-9e2357a2f74a",
        "colab": {
          "base_uri": "https://localhost:8080/",
          "height": 144
        }
      },
      "cell_type": "code",
      "source": [
        "for letter in 'geeksforgeeks':\n",
        "##start of code\n",
        "\tif letter == 'e' or letter == 's': \n",
        "\t\tcontinue\n",
        "\tprint (letter) \n",
        "##end of code"
      ],
      "execution_count": 0,
      "outputs": [
        {
          "output_type": "stream",
          "text": [
            "g\n",
            "k\n",
            "f\n",
            "o\n",
            "r\n",
            "g\n",
            "k\n"
          ],
          "name": "stdout"
        }
      ]
    },
    {
      "metadata": {
        "id": "KUTNB8WTRFRt",
        "colab_type": "text"
      },
      "cell_type": "markdown",
      "source": [
        "\n",
        "**Pass Statement**\n",
        "\n",
        "We use pass statement to write empty loops. Pass is also used for empty control statement, function and classes."
      ]
    },
    {
      "metadata": {
        "id": "Vx1_owWURPoS",
        "colab_type": "code",
        "outputId": "13ea8942-cad9-470b-d4ac-b0913f7cde45",
        "colab": {
          "base_uri": "https://localhost:8080/",
          "height": 34
        }
      },
      "cell_type": "code",
      "source": [
        "# An empty loop \n",
        "for letter in 'thisisholi': \n",
        "\tpass\n",
        "print ('Last Letter :', letter)\n"
      ],
      "execution_count": 0,
      "outputs": [
        {
          "output_type": "stream",
          "text": [
            "Last Letter : i\n"
          ],
          "name": "stdout"
        }
      ]
    },
    {
      "metadata": {
        "id": "SYfZasslVU7y",
        "colab_type": "text"
      },
      "cell_type": "markdown",
      "source": [
        "if found h in word \" python \"continue the statement"
      ]
    },
    {
      "metadata": {
        "id": "rRARd67jVhPs",
        "colab_type": "code",
        "outputId": "f1aba995-bf21-472e-e9d8-99eb06e3b856",
        "colab": {
          "base_uri": "https://localhost:8080/",
          "height": 104
        }
      },
      "cell_type": "code",
      "source": [
        "for letter in 'Python':     \n",
        "   if letter == 'h':\n",
        "      continue\n",
        "   print('Current Letter :', letter)"
      ],
      "execution_count": 0,
      "outputs": [
        {
          "output_type": "stream",
          "text": [
            "Current Letter : P\n",
            "Current Letter : y\n",
            "Current Letter : t\n",
            "Current Letter : o\n",
            "Current Letter : n\n"
          ],
          "name": "stdout"
        }
      ]
    },
    {
      "metadata": {
        "id": "kVOEgZ3AHpm_",
        "colab_type": "text"
      },
      "cell_type": "markdown",
      "source": [
        "##For Loop\n",
        "\n",
        "A **for** loop is used for iterating over a sequence (that is either a list, a tuple, a dictionary, a set, or a string).\n",
        "With the for loop we can execute a set of statements, once for each item in a list, tuple, set etc."
      ]
    },
    {
      "metadata": {
        "id": "wQPT6v-cmwkn",
        "colab_type": "text"
      },
      "cell_type": "markdown",
      "source": [
        "![alt text](https://www.datamentor.io/wp-content/uploads/2017/11/r-for-loop.jpg)"
      ]
    },
    {
      "metadata": {
        "id": "SToUnS9HeF3h",
        "colab_type": "text"
      },
      "cell_type": "markdown",
      "source": [
        "Python’s for statement iterates over the items of any sequence (a list or a string), in the order that they appear in the sequence."
      ]
    },
    {
      "metadata": {
        "id": "MYUNj6QKx8gU",
        "colab_type": "code",
        "outputId": "ae600c9f-11bb-4ab7-f794-22ceeb7192f0",
        "colab": {
          "base_uri": "https://localhost:8080/",
          "height": 70
        }
      },
      "cell_type": "code",
      "source": [
        "fruits = [\"apple\", \"banana\", \"cherry\"]\n",
        "for x in fruits:                            #Print each fruit in a fruit list\n",
        "  print(x)"
      ],
      "execution_count": 0,
      "outputs": [
        {
          "output_type": "stream",
          "text": [
            "apple\n",
            "banana\n",
            "cherry\n"
          ],
          "name": "stdout"
        }
      ]
    },
    {
      "metadata": {
        "id": "NiTnDF4eiXPP",
        "colab_type": "text"
      },
      "cell_type": "markdown",
      "source": [
        "**Looping Through a String**\n",
        "\n",
        "Even strings are iterable objects, they contain a sequence of characters\n"
      ]
    },
    {
      "metadata": {
        "id": "nkrm2b6lik1Q",
        "colab_type": "code",
        "outputId": "b91a20cb-e11b-49ad-c8dd-140946fbb50c",
        "colab": {
          "base_uri": "https://localhost:8080/",
          "height": 124
        }
      },
      "cell_type": "code",
      "source": [
        "for x in \"banana\":         #Loop through the letters in the word \"banana\"\n",
        "  print(x)                  "
      ],
      "execution_count": 0,
      "outputs": [
        {
          "output_type": "stream",
          "text": [
            "b\n",
            "a\n",
            "n\n",
            "a\n",
            "n\n",
            "a\n"
          ],
          "name": "stdout"
        }
      ]
    },
    {
      "metadata": {
        "id": "o9GjdlnweTvV",
        "colab_type": "text"
      },
      "cell_type": "markdown",
      "source": [
        "** Measure some strings:**\n",
        "\n",
        "words = ['cat', 'wind', 'python']"
      ]
    },
    {
      "metadata": {
        "id": "qqbOFyXQeilO",
        "colab_type": "code",
        "outputId": "15431768-5728-43d0-a58f-0306c6f58d4d",
        "colab": {
          "base_uri": "https://localhost:8080/",
          "height": 70
        }
      },
      "cell_type": "code",
      "source": [
        "words = ['cat', 'wind', 'python']\n",
        "for w in words:\n",
        "  print(w, len(w))"
      ],
      "execution_count": 0,
      "outputs": [
        {
          "output_type": "stream",
          "text": [
            "cat 3\n",
            "wind 4\n",
            "python 6\n"
          ],
          "name": "stdout"
        }
      ]
    },
    {
      "metadata": {
        "id": "neeZ4QsjfJ1A",
        "colab_type": "text"
      },
      "cell_type": "markdown",
      "source": [
        "If you need to modify the sequence you are iterating over while inside the loop (for example to duplicate selected items), it is recommended that you first make a copy. Iterating over a sequence does not implicitly make a copy. The slice notation makes this especially convenient:"
      ]
    },
    {
      "metadata": {
        "id": "261LH8AIfMXu",
        "colab_type": "code",
        "colab": {}
      },
      "cell_type": "code",
      "source": [
        "  words = ['cat', 'wind', 'pythondd']\n",
        "  \n",
        "  for w in words[:]:       # Loop over a slice copy of the entire list.\n",
        "    if len(w) > 6:\n",
        "       words.insert(0, w)\n",
        "        \n",
        "         "
      ],
      "execution_count": 0,
      "outputs": []
    },
    {
      "metadata": {
        "id": "MxLkPbQIID05",
        "colab_type": "text"
      },
      "cell_type": "markdown",
      "source": [
        "####The range() Function\n",
        "While working with For Loop, it is important to know about **range()** function.\n",
        "\n",
        "To loop through a set of code a specified number of times, we can use the **range()** function,\n",
        "The **range()** function returns a sequence of numbers, starting from 0 by default, and increments by 1 (by default), and ends at a specified number."
      ]
    },
    {
      "metadata": {
        "id": "2-P4xUPFI52a",
        "colab_type": "code",
        "outputId": "bd81dac4-b32d-437d-cf78-78c64635e924",
        "colab": {
          "base_uri": "https://localhost:8080/",
          "height": 124
        }
      },
      "cell_type": "code",
      "source": [
        "for x in range(6):\n",
        "  print(x)"
      ],
      "execution_count": 0,
      "outputs": [
        {
          "output_type": "stream",
          "text": [
            "0\n",
            "1\n",
            "2\n",
            "3\n",
            "4\n",
            "5\n"
          ],
          "name": "stdout"
        }
      ]
    },
    {
      "metadata": {
        "id": "7pE4hOTAJHjP",
        "colab_type": "text"
      },
      "cell_type": "markdown",
      "source": [
        "**NOTE: ** The function range(6) is not the values of 0 to 6, but the values 0 to 5. The range() function defaults to 0 as a starting value, however it is possible to specify the starting value by adding a parameter: range(2, 6), which means values from 2 to 6 (but not including 6)."
      ]
    },
    {
      "metadata": {
        "id": "v3ZbD9JpjD2E",
        "colab_type": "text"
      },
      "cell_type": "markdown",
      "source": [
        ""
      ]
    },
    {
      "metadata": {
        "id": "WyiUV_grLbnj",
        "colab_type": "text"
      },
      "cell_type": "markdown",
      "source": [
        "**Exercise 2.4:**  "
      ]
    },
    {
      "metadata": {
        "id": "VC8xefvsXr-T",
        "colab_type": "text"
      },
      "cell_type": "markdown",
      "source": [
        "Write a program to print all the numbers from 0 to 10 that are divisible by 2 using **for** loop.\n",
        "\n",
        "> Indented block\n",
        "\n",
        "\n",
        "\n",
        "Hint Use **if** function if necessary."
      ]
    },
    {
      "metadata": {
        "id": "XSmQ_vY8uhwI",
        "colab_type": "code",
        "outputId": "6f7d6638-b4e1-4fae-cff3-c044053a4e96",
        "colab": {
          "base_uri": "https://localhost:8080/",
          "height": 106
        }
      },
      "cell_type": "code",
      "source": [
        "### START CODE HERE ### (3 line of code)\n",
        "for x in range(10):\n",
        "  if x%2==0:\n",
        "    print(x)\n",
        "\n",
        "               \n",
        "\n",
        "### END CODE HERE ###"
      ],
      "execution_count": 0,
      "outputs": [
        {
          "output_type": "stream",
          "text": [
            "0\n",
            "2\n",
            "4\n",
            "6\n",
            "8\n"
          ],
          "name": "stdout"
        }
      ]
    },
    {
      "metadata": {
        "id": "OJfVR-RcMtxI",
        "colab_type": "text"
      },
      "cell_type": "markdown",
      "source": [
        "**Expected Output: **\n",
        "\n",
        "0\n",
        "2\n",
        "4\n",
        "6\n",
        "8"
      ]
    },
    {
      "metadata": {
        "id": "d-dXFZGMQ5aS",
        "colab_type": "text"
      },
      "cell_type": "markdown",
      "source": [
        "1) List  keywords in python\n",
        "\n",
        "Keywords are the reserved words in Python.\n",
        "\n",
        "\n",
        "keyword.iskeyword(s)\n",
        "\n",
        "    Return true if s is a Python keyword.\n",
        "\n",
        "keyword.kwlist\n",
        "\n",
        "    Sequence containing all the keywords defined for the interpreter. If any keywords are defined to only be active when particular __future__ statements are in effect, these will be included as well.\n"
      ]
    },
    {
      "metadata": {
        "id": "_LrD4Y6a_4NH",
        "colab_type": "code",
        "colab": {}
      },
      "cell_type": "code",
      "source": [
        "import keyword\n",
        "# START CODE\n",
        "\n",
        "## END CODE\n"
      ],
      "execution_count": 0,
      "outputs": []
    },
    {
      "metadata": {
        "id": "2iIYS1uarXU0",
        "colab_type": "text"
      },
      "cell_type": "markdown",
      "source": [
        "Expected Output .\n",
        "\n",
        "['False', 'None', 'True', 'and', 'as', 'assert', 'break', 'class', 'continue', 'def', 'del', 'elif', 'else', 'except', 'finally', 'for', 'from', 'global', 'if', 'import', 'in', 'is', 'lambda', 'nonlocal', 'not', 'or', 'pass', 'raise', 'return', 'try', 'while', 'with', 'yield']\n"
      ]
    },
    {
      "metadata": {
        "id": "HNKmCW9WAJ-t",
        "colab_type": "text"
      },
      "cell_type": "markdown",
      "source": [
        "2) **Boolean Strings** (bool) A string in Python can be tested for truth value.\n",
        "\n",
        "The return type will be in Boolean value (True or False)\n",
        "\n",
        "\n",
        "\n",
        "---\n",
        "A variable x given test it by Using Boolean Function with it.\n",
        "\n",
        "\n"
      ]
    },
    {
      "metadata": {
        "id": "bzOyo6wlAPp4",
        "colab_type": "code",
        "outputId": "4fc836a9-0398-4316-a97e-ce804e8daf24",
        "colab": {
          "base_uri": "https://localhost:8080/",
          "height": 35
        }
      },
      "cell_type": "code",
      "source": [
        "x = True #given\n",
        "## code here \n"
      ],
      "execution_count": 0,
      "outputs": [
        {
          "output_type": "stream",
          "text": [
            "True\n"
          ],
          "name": "stdout"
        }
      ]
    },
    {
      "metadata": {
        "id": "QrmDkyADAr9K",
        "colab_type": "text"
      },
      "cell_type": "markdown",
      "source": [
        " \n",
        "3) print **Hello programmer 3 Times** using while loop"
      ]
    },
    {
      "metadata": {
        "colab_type": "code",
        "cellView": "both",
        "id": "jufF1nsFY59C",
        "colab": {}
      },
      "cell_type": "code",
      "source": [
        "# print Hello Programmer 3 Times \n",
        "\n"
      ],
      "execution_count": 0,
      "outputs": []
    },
    {
      "metadata": {
        "id": "zmBwiIbSsHum",
        "colab_type": "text"
      },
      "cell_type": "markdown",
      "source": [
        "Expected Output:\n",
        "Hello programmer\n",
        "Hello programmer\n",
        "Hello programmer"
      ]
    },
    {
      "metadata": {
        "id": "WxINB6KdtB7R",
        "colab_type": "text"
      },
      "cell_type": "markdown",
      "source": [
        "4) iterate over a list [\"today\", \"is\", \"holiday\"] "
      ]
    },
    {
      "metadata": {
        "id": "NEZk4B1EsvS-",
        "colab_type": "code",
        "colab": {}
      },
      "cell_type": "code",
      "source": [
        "l= [\"today\", \"is\", \"holiday\"]   # given\n",
        "## Start code here \n"
      ],
      "execution_count": 0,
      "outputs": []
    },
    {
      "metadata": {
        "id": "Y5jJzozDtMRW",
        "colab_type": "text"
      },
      "cell_type": "markdown",
      "source": [
        "today\n",
        "is\n",
        "holiday"
      ]
    },
    {
      "metadata": {
        "id": "zN52DqKTDbOW",
        "colab_type": "text"
      },
      "cell_type": "markdown",
      "source": [
        "5) **iterate over tuple** (\"we\", \"have\", \"unity\") "
      ]
    },
    {
      "metadata": {
        "id": "eheU7DRCEHtf",
        "colab_type": "code",
        "colab": {}
      },
      "cell_type": "code",
      "source": [
        "t = (\"we\", \"have\", \"unity\")  # given\n",
        "## Start code here \n"
      ],
      "execution_count": 0,
      "outputs": []
    },
    {
      "metadata": {
        "id": "erFmNtQUtUJL",
        "colab_type": "text"
      },
      "cell_type": "markdown",
      "source": [
        "we\n",
        "have\n",
        "unity"
      ]
    },
    {
      "metadata": {
        "id": "86Eskg-wEm4h",
        "colab_type": "text"
      },
      "cell_type": "markdown",
      "source": [
        " 6) **iterate over string** GEEKS"
      ]
    },
    {
      "metadata": {
        "id": "VFy5vw9HEvef",
        "colab_type": "code",
        "colab": {}
      },
      "cell_type": "code",
      "source": [
        "## code here "
      ],
      "execution_count": 0,
      "outputs": []
    },
    {
      "metadata": {
        "id": "qRVqdf3ZtqQE",
        "colab_type": "text"
      },
      "cell_type": "markdown",
      "source": [
        "G\n",
        "e\n",
        "e\n",
        "k\n",
        "s"
      ]
    },
    {
      "metadata": {
        "id": "_ZdoVIl1t33f",
        "colab_type": "text"
      },
      "cell_type": "markdown",
      "source": [
        "7) Use nested for loop to print Expected output "
      ]
    },
    {
      "metadata": {
        "colab_type": "code",
        "outputId": "2d20a492-e1f2-4f98-c218-0c627e12f57f",
        "id": "BLPlzORdGn9p",
        "colab": {
          "base_uri": "https://localhost:8080/",
          "height": 90
        }
      },
      "cell_type": "code",
      "source": [
        "from __future__ import print_function \n",
        "#you have to write two nested for loops using range  \n",
        "\n",
        "\n",
        "\t\tprint(i, end=' ') \n",
        "\tprint() \n",
        "\n",
        "\n"
      ],
      "execution_count": 0,
      "outputs": [
        {
          "output_type": "stream",
          "text": [
            "1 \n",
            "2 2 \n",
            "3 3 3 \n",
            "4 4 4 4 \n"
          ],
          "name": "stdout"
        }
      ]
    },
    {
      "metadata": {
        "id": "J9ZWJoscuFy6",
        "colab_type": "text"
      },
      "cell_type": "markdown",
      "source": [
        "Expected output :\n",
        "\n",
        "1 \n",
        "\n",
        "2 2\n",
        "\n",
        "3 3 3 \n",
        "\n",
        "4 4 4 4"
      ]
    },
    {
      "metadata": {
        "colab_type": "text",
        "id": "RjnHTINhHIuJ"
      },
      "cell_type": "markdown",
      "source": [
        "8)\n",
        "Iterate over a Dictionary Iteration\n",
        "xyz  123\n",
        "abc  345"
      ]
    },
    {
      "metadata": {
        "colab_type": "code",
        "id": "GAg3CpCIHIuK",
        "colab": {}
      },
      "cell_type": "code",
      "source": [
        "d = dict()  \n",
        "d['xyz'] = 123\n",
        "d['abc'] = 345\n",
        "## code here \n"
      ],
      "execution_count": 0,
      "outputs": []
    },
    {
      "metadata": {
        "id": "_4fRzw41urUL",
        "colab_type": "text"
      },
      "cell_type": "markdown",
      "source": [
        "Dictionary Iteration\n",
        "xyz  123\n",
        "abc  345"
      ]
    },
    {
      "metadata": {
        "id": "GvZ2pjhrUm92",
        "colab_type": "text"
      },
      "cell_type": "markdown",
      "source": [
        "9) for letter in 'Python': \n",
        "   if letter h found break \n",
        "      \n",
        "      \n",
        "      When Break Comes loop exits"
      ]
    },
    {
      "metadata": {
        "id": "gs4V_hsTUuiq",
        "colab_type": "code",
        "outputId": "7b97fd9d-5565-4d42-d616-f1f15b0fd5c6",
        "colab": {
          "base_uri": "https://localhost:8080/",
          "height": 69
        }
      },
      "cell_type": "code",
      "source": [
        "\n",
        "## code here "
      ],
      "execution_count": 0,
      "outputs": [
        {
          "output_type": "stream",
          "text": [
            "Current Letter : P\n",
            "Current Letter : y\n",
            "Current Letter : t\n"
          ],
          "name": "stdout"
        }
      ]
    },
    {
      "metadata": {
        "id": "GC2uV20Yq2nx",
        "colab_type": "text"
      },
      "cell_type": "markdown",
      "source": [
        "Expected output\n",
        "Current Letter : P\n",
        "Current Letter : y\n",
        "Current Letter : t"
      ]
    },
    {
      "metadata": {
        "id": "DgIm3znAN12e",
        "colab_type": "text"
      },
      "cell_type": "markdown",
      "source": [
        "10) for letter in 'geeksforgeeks' use **Break** when e or s comes \n",
        "\n",
        "\n",
        "\n",
        "\n"
      ]
    },
    {
      "metadata": {
        "id": "CXupabBvOHdH",
        "colab_type": "code",
        "colab": {}
      },
      "cell_type": "code",
      "source": [
        "for letter in 'allisgeeksforgeeks':\n",
        "  \n",
        "    # break the loop as soon it sees 'e'  \n",
        "    # or 's' \n",
        "## do your code here "
      ],
      "execution_count": 0,
      "outputs": []
    },
    {
      "metadata": {
        "id": "MIqJeCxbu-xp",
        "colab_type": "text"
      },
      "cell_type": "markdown",
      "source": [
        "Current Letter : s\n"
      ]
    },
    {
      "metadata": {
        "id": "S2Er-pxBSR7g",
        "colab_type": "text"
      },
      "cell_type": "markdown",
      "source": [
        "11) combination of an else statement with a for statement that searches for prime numbers from 10 through 20\n"
      ]
    },
    {
      "metadata": {
        "id": "2wG1CYYqSaKc",
        "colab_type": "code",
        "colab": {}
      },
      "cell_type": "code",
      "source": [
        "for num in range(10,20):     #to iterate between 10 to 20\n",
        "   for i in range(2,num):    #to iterate on the factors of the number\n",
        "                             #to determine the first factor write code\n",
        "                             #to calculate the second factor write code\n",
        "         break #to move to the next number, the #first FOR\n",
        "      else:                  # else part of the loop\n",
        "         print(num)\n",
        "\n"
      ],
      "execution_count": 0,
      "outputs": []
    },
    {
      "metadata": {
        "id": "I9XNQi5HdHQY",
        "colab_type": "text"
      },
      "cell_type": "markdown",
      "source": [
        "12)**infinite loop**\n",
        "use infinite loop & print the entered input "
      ]
    },
    {
      "metadata": {
        "id": "swSfwScKdZP8",
        "colab_type": "code",
        "colab": {}
      },
      "cell_type": "code",
      "source": [
        "###start of code\n",
        "num = input(\"Enter a number :\") ## it uses to take inputs  \n",
        "###end of code"
      ],
      "execution_count": 0,
      "outputs": []
    },
    {
      "metadata": {
        "id": "6tPL_0xre0g1",
        "colab_type": "text"
      },
      "cell_type": "markdown",
      "source": [
        "13) To find the prime numbers from 2 to 100 The use a nested for loop"
      ]
    },
    {
      "metadata": {
        "id": "_fONqJpSfANN",
        "colab_type": "code",
        "colab": {}
      },
      "cell_type": "code",
      "source": [
        "### START OF CODE (7-8 LINES)\n",
        "\n",
        "\n",
        "### END OF CODE"
      ],
      "execution_count": 0,
      "outputs": []
    },
    {
      "metadata": {
        "id": "qgp4xezAmFnf",
        "colab_type": "text"
      },
      "cell_type": "markdown",
      "source": [
        "**EXPECTED OUTPUT**\n",
        "\n",
        "0\n",
        "1\n",
        "2\n",
        "3\n",
        "5\n",
        "7\n",
        "11\n",
        "13\n",
        "17\n",
        "19\n",
        "23\n",
        "29\n",
        "31\n",
        "37\n",
        "41\n",
        "43\n",
        "47\n",
        "53\n",
        "59\n",
        "61\n",
        "67\n",
        "71\n",
        "73\n",
        "79\n",
        "83\n",
        "89\n",
        "97"
      ]
    },
    {
      "metadata": {
        "id": "gUP7MDDqgq9O",
        "colab_type": "text"
      },
      "cell_type": "markdown",
      "source": [
        "\n",
        "\n",
        "14) Give access to the system if password is \"secret\" else access denied use input By input function\n",
        "\n",
        "\n",
        "\n",
        "\n"
      ]
    },
    {
      "metadata": {
        "id": "4W38raahlsHT",
        "colab_type": "code",
        "colab": {}
      },
      "cell_type": "code",
      "source": [
        "## CODE HERE\n"
      ],
      "execution_count": 0,
      "outputs": []
    },
    {
      "metadata": {
        "id": "hS35eVSom9Rp",
        "colab_type": "text"
      },
      "cell_type": "markdown",
      "source": [
        "15) *print*\n",
        "A\tAll grades above 89\n",
        "B\tAll grades above 79 and below 90\n",
        "C\tAll grades above 69 and below 80\n",
        "D\tAll grades below 70\n",
        "\n"
      ]
    },
    {
      "metadata": {
        "id": "p8Cr96lPncnP",
        "colab_type": "code",
        "colab": {}
      },
      "cell_type": "code",
      "source": [
        "num =int(raw_input(\"Enter the number:\")) \n",
        "## CODE HERE"
      ],
      "execution_count": 0,
      "outputs": []
    },
    {
      "metadata": {
        "id": "ooRNBKzmhFW3",
        "colab_type": "text"
      },
      "cell_type": "markdown",
      "source": [
        "16)  calculate the frequency of myList = [1,1,2,3,4,5,3,2,3,4,2,1,2,3]\n",
        "**Collections** in python \n",
        "\n",
        "         class collections.Counter([iterable-or-mapping])\n",
        "\n",
        "    A Counter is a dict subclass for counting hashable objects. It is an unordered collection where elements are stored as dictionary keys and their counts are stored as dictionary values. Counts are allowed to be any integer value including zero or negative counts. The Counter class is similar to bags or multisets in other languages."
      ]
    },
    {
      "metadata": {
        "id": "qj1gPCU4hFzS",
        "colab_type": "code",
        "outputId": "46ff1437-f390-44b2-ad80-cd95c3d68b21",
        "colab": {
          "base_uri": "https://localhost:8080/",
          "height": 35
        }
      },
      "cell_type": "code",
      "source": [
        "import collections \n",
        "\n",
        "myList = [1,1,2,3,4,5,3,2,3,4,2,1,2,3]\n",
        "\n",
        "## start of code (1 line)\n",
        "\n",
        "\n",
        "## end of code "
      ],
      "execution_count": 0,
      "outputs": [
        {
          "output_type": "stream",
          "text": [
            "Counter({2: 4, 3: 4, 1: 3, 4: 2, 5: 1})\n"
          ],
          "name": "stdout"
        }
      ]
    },
    {
      "metadata": {
        "id": "bZSfrEYoi0aW",
        "colab_type": "text"
      },
      "cell_type": "markdown",
      "source": [
        "EXPECTED OUTPUT\n",
        "\n",
        "Counter({2: 4, 3: 4, 1: 3, 4: 2, 5: 1})\n"
      ]
    },
    {
      "metadata": {
        "id": "H24AFf20Pd36",
        "colab_type": "text"
      },
      "cell_type": "markdown",
      "source": [
        "17) **Implicit Type Conversion:**\n",
        "In Implicit type conversion, Python automatically converts one data type to another data type. This process doesn't need any user involvement.\n",
        "\n"
      ]
    },
    {
      "metadata": {
        "id": "fCzErH-fVOqa",
        "colab_type": "code",
        "outputId": "4917b854-7ab6-4a49-f607-2edab30d3627",
        "colab": {
          "base_uri": "https://localhost:8080/",
          "height": 90
        }
      },
      "cell_type": "code",
      "source": [
        "num_int = 123\n",
        "num_flo = 1.23\n",
        "\n",
        "num_new = num_int + num_flo\n",
        "\n",
        "print(\"datatype of num_int:\",type(num_int))\n",
        "print(\"datatype of num_flo:\",type(num_flo))\n",
        "\n",
        "print(\"Value of num_new:\",num_new)\n",
        "print(\"datatype of num_new:\",type(num_new))"
      ],
      "execution_count": 0,
      "outputs": [
        {
          "output_type": "stream",
          "text": [
            "datatype of num_int: <class 'int'>\n",
            "datatype of num_flo: <class 'float'>\n",
            "Value of num_new: 124.23\n",
            "datatype of num_new: <class 'float'>\n"
          ],
          "name": "stdout"
        }
      ]
    },
    {
      "metadata": {
        "id": "vt3ABjcGV8cZ",
        "colab_type": "text"
      },
      "cell_type": "markdown",
      "source": [
        "18) Addition of string and integer using **explicit** **conversion**"
      ]
    },
    {
      "metadata": {
        "id": "lAW0HT2MWDwT",
        "colab_type": "code",
        "colab": {}
      },
      "cell_type": "code",
      "source": [
        "num_int = 123\n",
        "num_str = \"456\"\n",
        "\n",
        "print(type(num_int))\n",
        "print(type(num_str))\n",
        "\n",
        "## code here \n",
        "\n",
        "\n",
        "num_sum = num_int + num_str\n",
        "\n",
        "print(num_sum)\n",
        "print(num_sum)"
      ],
      "execution_count": 0,
      "outputs": []
    },
    {
      "metadata": {
        "id": "6kuZnP9FX_bF",
        "colab_type": "text"
      },
      "cell_type": "markdown",
      "source": [
        "19)**Output formatting**\n",
        "  \n",
        "      Sometimes we would like to format our output to make it look attractive. This can be done by using the str.format() method. This method is visible to any string object."
      ]
    },
    {
      "metadata": {
        "id": "oVHQG-C6YGMz",
        "colab_type": "code",
        "outputId": "cf275926-0fcf-4d87-e3bf-9808694c02db",
        "colab": {
          "base_uri": "https://localhost:8080/",
          "height": 53
        }
      },
      "cell_type": "code",
      "source": [
        "print('I love {0} and {1}'.format('bread','butter'))\n",
        "# Now Format the Text \"I love study and sports\"\n",
        "\n",
        "print('I love {0} and {1}'.format('study','sport'))\n"
      ],
      "execution_count": 0,
      "outputs": [
        {
          "output_type": "stream",
          "text": [
            "I love bread and butter\n",
            "I love study and sport\n"
          ],
          "name": "stdout"
        }
      ]
    },
    {
      "metadata": {
        "id": "Z7hmEpffYyzk",
        "colab_type": "text"
      },
      "cell_type": "markdown",
      "source": [
        "**Python Import**\n",
        "\n",
        "When our program grows bigger, it is a good idea to break it into different modules.\n",
        "\n",
        "A module is a file containing Python definitions and statements. Python modules have a filename and end with the extension .py.\n",
        "\n",
        "Definitions inside a module can be imported to another module or the interactive interpreter in Python. We use the import keyword to do this.\n",
        "\n",
        "\n",
        "19) import maths Liabraries & print the value of **PI**"
      ]
    },
    {
      "metadata": {
        "id": "JKY--OINYxBT",
        "colab_type": "code",
        "colab": {}
      },
      "cell_type": "code",
      "source": [
        "## code Here"
      ],
      "execution_count": 0,
      "outputs": []
    },
    {
      "metadata": {
        "id": "cBBB3HLYaTsf",
        "colab_type": "text"
      },
      "cell_type": "markdown",
      "source": [
        "**Membership operators**\n",
        "\n",
        "       in and not in are the membership operators in Python. They are used to test whether a value or variable is found in a sequence (string, list, tuple, set and dictionary).\n",
        "\n",
        "In a dictionary we can only test for presence of key, not the value.\n",
        "\n",
        "20) Use in & Not in to check whether \"Hello\" is present in list or Dictionary\""
      ]
    },
    {
      "metadata": {
        "id": "EjxW2MuxatBT",
        "colab_type": "code",
        "outputId": "b09d6b03-792f-4107-a7ee-8485c24ffbeb",
        "colab": {
          "base_uri": "https://localhost:8080/",
          "height": 35
        }
      },
      "cell_type": "code",
      "source": [
        "x = 'Hello world'\n",
        "y = {1:'a',2:'b'}\n",
        "\n",
        "## code here \n",
        "\n"
      ],
      "execution_count": 0,
      "outputs": [
        {
          "output_type": "stream",
          "text": [
            "True\n"
          ],
          "name": "stdout"
        }
      ]
    },
    {
      "metadata": {
        "id": "iN9GW__mhrVP",
        "colab_type": "text"
      },
      "cell_type": "markdown",
      "source": [
        " 21) Create a list add physics chemistry 1997 2000 in list1 and\n",
        "Add 1 2 3 4 5 6 7 in list 2  then\n",
        "Print list1[0] & list2[1:5] "
      ]
    },
    {
      "metadata": {
        "id": "hqH3GwOSh1tK",
        "colab_type": "code",
        "colab": {}
      },
      "cell_type": "code",
      "source": [
        "#### start of code (approx 3 lines)\n",
        "\n",
        "\n",
        "#### end of code "
      ],
      "execution_count": 0,
      "outputs": []
    },
    {
      "metadata": {
        "id": "tTeZmVU6h7Hw",
        "colab_type": "text"
      },
      "cell_type": "markdown",
      "source": [
        "22) **Extending list **\n",
        "\n",
        "Create a list add physics chemistry 1997 2000 in list1 extends it with list two"
      ]
    },
    {
      "metadata": {
        "id": "wbm291aoind7",
        "colab_type": "code",
        "colab": {}
      },
      "cell_type": "code",
      "source": [
        "#### start of code (approx 3 lines)\n",
        "\n",
        "\n",
        "#### end of code "
      ],
      "execution_count": 0,
      "outputs": []
    },
    {
      "metadata": {
        "id": "Mzc3_1BIjuRE",
        "colab_type": "text"
      },
      "cell_type": "markdown",
      "source": [
        "Expected output\n",
        "'physics', 'chemistry', 'maths', 0, 1, 2, 3, 4]"
      ]
    },
    {
      "metadata": {
        "id": "LBHGAy3hxJNv",
        "colab_type": "text"
      },
      "cell_type": "markdown",
      "source": [
        "23) **sort** the list ['physics', 'Biology', 'chemistry', 'maths']"
      ]
    },
    {
      "metadata": {
        "id": "-6DqmUynxPln",
        "colab_type": "code",
        "colab": {}
      },
      "cell_type": "code",
      "source": [
        "## code here "
      ],
      "execution_count": 0,
      "outputs": []
    },
    {
      "metadata": {
        "id": "T0saPP8mxS2V",
        "colab_type": "text"
      },
      "cell_type": "markdown",
      "source": [
        "list now :  ['Biology', 'chemistry', 'maths', 'physics']"
      ]
    },
    {
      "metadata": {
        "id": "Z3dtOfFtpzF4",
        "colab_type": "text"
      },
      "cell_type": "markdown",
      "source": [
        "\n",
        "\n",
        "---\n",
        "\n",
        "Solutions : \n",
        "\\[link text](https://drive.google.com/open?id=1O_MP8ErYQ0i-4WJiCFAkpU8A45L87nAE)"
      ]
    }
  ]
}