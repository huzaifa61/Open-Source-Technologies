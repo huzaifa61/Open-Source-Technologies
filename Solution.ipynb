{
  "nbformat": 4,
  "nbformat_minor": 0,
  "metadata": {
    "colab": {
      "name": "Solution.ipynb",
      "version": "0.3.2",
      "provenance": [],
      "collapsed_sections": []
    },
    "kernelspec": {
      "name": "python3",
      "display_name": "Python 3"
    }
  },
  "cells": [
    {
      "metadata": {
        "id": "x2y3GZj9-koh",
        "colab_type": "text"
      },
      "cell_type": "markdown",
      "source": [
        "**Exercise** 1.1"
      ]
    },
    {
      "metadata": {
        "id": "dQ3DFGzF-szJ",
        "colab_type": "code",
        "colab": {}
      },
      "cell_type": "code",
      "source": [
        "print(\"Batman is the best superhero\")"
      ],
      "execution_count": 0,
      "outputs": []
    },
    {
      "metadata": {
        "id": "-uUOogYJ-5Zq",
        "colab_type": "text"
      },
      "cell_type": "markdown",
      "source": [
        "**Exercise** 1.2"
      ]
    },
    {
      "metadata": {
        "id": "3pHePB3F-_Jv",
        "colab_type": "code",
        "colab": {}
      },
      "cell_type": "code",
      "source": [
        "x = 10\n",
        "y = \"Hello there\"\n",
        "print(x)\n",
        "print(y)\n"
      ],
      "execution_count": 0,
      "outputs": []
    },
    {
      "metadata": {
        "id": "3nnri7rM_FB6",
        "colab_type": "text"
      },
      "cell_type": "markdown",
      "source": [
        "**Exercise** 1.3"
      ]
    },
    {
      "metadata": {
        "id": "Wau1P7au_HmQ",
        "colab_type": "code",
        "colab": {}
      },
      "cell_type": "code",
      "source": [
        "x = 5\n",
        "y = 15\n",
        "z = x + y                          \n",
        "print(z)"
      ],
      "execution_count": 0,
      "outputs": []
    },
    {
      "metadata": {
        "id": "N7Tgs-ZD_s0Z",
        "colab_type": "text"
      },
      "cell_type": "markdown",
      "source": [
        "**Exercise** 1.4"
      ]
    },
    {
      "metadata": {
        "id": "ymNooUsp_vtk",
        "colab_type": "code",
        "colab": {}
      },
      "cell_type": "code",
      "source": [
        "print(type(E))"
      ],
      "execution_count": 0,
      "outputs": []
    },
    {
      "metadata": {
        "id": "x0ve5Juz_3rY",
        "colab_type": "text"
      },
      "cell_type": "markdown",
      "source": [
        "**Exercise** 1.5"
      ]
    },
    {
      "metadata": {
        "id": "lamgs-xT_7Ll",
        "colab_type": "code",
        "colab": {}
      },
      "cell_type": "code",
      "source": [
        "x = 3\n",
        "y = \"4\"\n",
        "z = x + int(y)\n",
        "print(Z)"
      ],
      "execution_count": 0,
      "outputs": []
    },
    {
      "metadata": {
        "id": "cxO_GGgtAnzM",
        "colab_type": "text"
      },
      "cell_type": "markdown",
      "source": [
        "**Exercise** 1.6"
      ]
    },
    {
      "metadata": {
        "id": "o5EhmV6IAmNb",
        "colab_type": "code",
        "colab": {}
      },
      "cell_type": "code",
      "source": [
        "x = str[0]\n",
        "print(x)"
      ],
      "execution_count": 0,
      "outputs": []
    },
    {
      "metadata": {
        "id": "d2iSA7PxA7Q2",
        "colab_type": "text"
      },
      "cell_type": "markdown",
      "source": [
        "**Exercise** 1.7"
      ]
    },
    {
      "metadata": {
        "id": "XttFI5xiA-OE",
        "colab_type": "code",
        "colab": {}
      },
      "cell_type": "code",
      "source": [
        "x = str[3:8]                                  \n",
        "print(x)thod"
      ],
      "execution_count": 0,
      "outputs": []
    },
    {
      "metadata": {
        "id": "CKqhIbKpBVKQ",
        "colab_type": "text"
      },
      "cell_type": "markdown",
      "source": [
        "**Exercise** 1.8"
      ]
    },
    {
      "metadata": {
        "id": "2GzLiAh7BX4L",
        "colab_type": "code",
        "colab": {}
      },
      "cell_type": "code",
      "source": [
        "E=E.lower()                     #lowercase\n",
        "print(E)                        \n",
        "print(E.replace(\"s\",\"d\"))       #replace s by d\n",
        "print(len(E))                   #length of the string"
      ],
      "execution_count": 0,
      "outputs": []
    },
    {
      "metadata": {
        "id": "PGfULaudYU_0",
        "colab_type": "text"
      },
      "cell_type": "markdown",
      "source": [
        "**Exercise** 2.1"
      ]
    },
    {
      "metadata": {
        "id": "EGPL4FD6YW_c",
        "colab_type": "code",
        "colab": {}
      },
      "cell_type": "code",
      "source": [
        "x = 50\n",
        "y = 49\n",
        "if x > y:\n",
        "  print(\"Joker\")"
      ],
      "execution_count": 0,
      "outputs": []
    },
    {
      "metadata": {
        "colab_type": "text",
        "id": "Whc3iF6RZy50"
      },
      "cell_type": "markdown",
      "source": [
        "**Exercise** 2.2"
      ]
    },
    {
      "metadata": {
        "id": "IZFiwRKFZ0Tz",
        "colab_type": "code",
        "colab": {}
      },
      "cell_type": "code",
      "source": [
        "num = -6\n",
        "if num > 0:\n",
        " print(num, \"is a positive number.\")\n",
        "else:\n",
        " print(num, \"is a negative number.\")"
      ],
      "execution_count": 0,
      "outputs": []
    },
    {
      "metadata": {
        "colab_type": "text",
        "id": "eRi4iMWrZ8mY"
      },
      "cell_type": "markdown",
      "source": [
        "**Exercise** 2.3"
      ]
    },
    {
      "metadata": {
        "id": "u2wlp1A8Z9Og",
        "colab_type": "code",
        "outputId": "40d955ab-b247-4cb2-e7a3-3bbd8eb2640d",
        "colab": {
          "base_uri": "https://localhost:8080/",
          "height": 52
        }
      },
      "cell_type": "code",
      "source": [
        "i = 1\n",
        "\n",
        "while i < 3:\n",
        " print(\"yo\")\n",
        " i += 1"
      ],
      "execution_count": 0,
      "outputs": [
        {
          "output_type": "stream",
          "text": [
            "yo\n",
            "yo\n"
          ],
          "name": "stdout"
        }
      ]
    },
    {
      "metadata": {
        "colab_type": "text",
        "id": "6eCaWiF_aIeH"
      },
      "cell_type": "markdown",
      "source": [
        "**Exercise** 2.4"
      ]
    },
    {
      "metadata": {
        "id": "--2VLx9saKtY",
        "colab_type": "code",
        "colab": {}
      },
      "cell_type": "code",
      "source": [
        "for x in range(11):\n",
        " if(x%2==0):\n",
        "  print(x)"
      ],
      "execution_count": 0,
      "outputs": []
    },
    {
      "metadata": {
        "id": "Bk0y1gTgh-1N",
        "colab_type": "text"
      },
      "cell_type": "markdown",
      "source": [
        "**Exercise** 3.1"
      ]
    },
    {
      "metadata": {
        "id": "b7JoYAHXh_PH",
        "colab_type": "code",
        "colab": {}
      },
      "cell_type": "code",
      "source": [
        "BestOfTv = [\"Breaking Bad\", \"Game Of Thrones\", \"Mr Robot\"]\n",
        "print(BestOfTv)\n",
        "BestOfTv.pop(1)\n",
        "print(BestOfTv)\n",
        "BestOfTv.insert(0,\"Friends\")\n",
        "print(BestOfTv)\n",
        "if \"Game Of Thrones\" in BestOfTv:\n",
        "  print(\"GOT is in BestOfTv\")\n",
        "else:\n",
        "  print(\"GOT is not in BestOfTv\")"
      ],
      "execution_count": 0,
      "outputs": []
    },
    {
      "metadata": {
        "colab_type": "text",
        "id": "3waN7zScjjlc"
      },
      "cell_type": "markdown",
      "source": [
        "**Exercise** 3.2"
      ]
    },
    {
      "metadata": {
        "id": "AT_5tjRBj1hy",
        "colab_type": "code",
        "colab": {}
      },
      "cell_type": "code",
      "source": [
        "food = (\"pizaa\", \"burger\", \"cake\") \n",
        "print(len(thistuple))\n",
        "print(food[2])"
      ],
      "execution_count": 0,
      "outputs": []
    },
    {
      "metadata": {
        "colab_type": "text",
        "id": "Ny90Pimij-Hr"
      },
      "cell_type": "markdown",
      "source": [
        "**Exercise** 3.3"
      ]
    },
    {
      "metadata": {
        "id": "qGzNOzISj1dQ",
        "colab_type": "code",
        "colab": {}
      },
      "cell_type": "code",
      "source": [
        "games = {\"witcher\", \"cs\", \"fortnite\"}\n",
        "print(games)\n",
        "games.add(\"pubg\")\n",
        "print(games)\n",
        "games.remove(\"fortnite\")\n",
        "print(games)\n",
        "games.clear()\n",
        "print(games)"
      ],
      "execution_count": 0,
      "outputs": []
    },
    {
      "metadata": {
        "colab_type": "text",
        "id": "_iOXiAJ9kI9D"
      },
      "cell_type": "markdown",
      "source": [
        "**Exercise** 3.4"
      ]
    },
    {
      "metadata": {
        "id": "HE4114HakOot",
        "colab_type": "code",
        "colab": {}
      },
      "cell_type": "code",
      "source": [
        "d = {0:10, 1:20}\n",
        "print(d)\n",
        "d.update({2:30})\n",
        "print(d)"
      ],
      "execution_count": 0,
      "outputs": []
    },
    {
      "metadata": {
        "id": "jX3foOdt8P6k",
        "colab_type": "text"
      },
      "cell_type": "markdown",
      "source": [
        "**Exercise** 4.1"
      ]
    },
    {
      "metadata": {
        "id": "waGi3R7K8U2C",
        "colab_type": "code",
        "colab": {}
      },
      "cell_type": "code",
      "source": [
        "def display():\n",
        "  print(\"Hello from a function\")"
      ],
      "execution_count": 0,
      "outputs": []
    },
    {
      "metadata": {
        "id": "JeYrb4kH8pMD",
        "colab_type": "text"
      },
      "cell_type": "markdown",
      "source": [
        "**Exercise** 4.2"
      ]
    },
    {
      "metadata": {
        "id": "bjDVIQTn8sed",
        "colab_type": "code",
        "colab": {}
      },
      "cell_type": "code",
      "source": [
        "def my_function(x):\n",
        "  return(x-10)\n"
      ],
      "execution_count": 0,
      "outputs": []
    },
    {
      "metadata": {
        "id": "DA4Z7x-t9BoL",
        "colab_type": "text"
      },
      "cell_type": "markdown",
      "source": [
        "**Exercise** 4.3"
      ]
    },
    {
      "metadata": {
        "id": "EKCEdXXE9EzN",
        "colab_type": "code",
        "colab": {}
      },
      "cell_type": "code",
      "source": [
        "def add(x,y):\n",
        "  return(x+y)\n",
        "print(add(12,36))"
      ],
      "execution_count": 0,
      "outputs": []
    },
    {
      "metadata": {
        "id": "o3zebYoC9jkW",
        "colab_type": "text"
      },
      "cell_type": "markdown",
      "source": [
        "**Exercise** 4.4"
      ]
    },
    {
      "metadata": {
        "id": "aoWz40ls971z",
        "colab_type": "code",
        "colab": {}
      },
      "cell_type": "code",
      "source": [
        "def shut_down(s):\n",
        "  if(s==1):\n",
        "    return \"Shutting down\"\n",
        "  elif(s==2):\n",
        "    return \"Shutdown Aborted\"\n",
        "  else:\n",
        "    return \"Sorry\"\n",
        "  "
      ],
      "execution_count": 0,
      "outputs": []
    },
    {
      "metadata": {
        "id": "sXvjLCXJ-3mN",
        "colab_type": "text"
      },
      "cell_type": "markdown",
      "source": [
        "**Exercise** 4.5"
      ]
    },
    {
      "metadata": {
        "id": "pTWnXzg0-9dG",
        "colab_type": "code",
        "colab": {}
      },
      "cell_type": "code",
      "source": [
        "def add(x,y):\n",
        "  return(x+y)\n",
        "\n",
        "def subtract(x,y):\n",
        "  return(x-y)\n",
        "\n",
        "def divide(x,y):\n",
        "  return(x/y)\n",
        "\n",
        "def multiply(x,y):\n",
        "  return(int(x*y))\n",
        "\n",
        "print(add(8,4))\n",
        "print(subtract(8,4))\n",
        "print(divide(8,4))\n",
        "print(multiply(8,4))"
      ],
      "execution_count": 0,
      "outputs": []
    },
    {
      "metadata": {
        "id": "0-sE5RmcBom8",
        "colab_type": "text"
      },
      "cell_type": "markdown",
      "source": [
        "**Exercise **4.6"
      ]
    },
    {
      "metadata": {
        "id": "NO47u__4BsGu",
        "colab_type": "code",
        "colab": {}
      },
      "cell_type": "code",
      "source": [
        "def greet(*names):                                                     ## This function greets all the person in the names tuple\n",
        "   for name in names:\n",
        "    print(\"Hello\",name)\n",
        "    \n",
        "greet(\"Monica\",\"Ross\",\"Chandler\",\"Joey\",\"Rachel\",\"Phoebe\")              ## function call"
      ],
      "execution_count": 0,
      "outputs": []
    },
    {
      "metadata": {
        "colab_type": "text",
        "id": "ypqj9T_XGbNo"
      },
      "cell_type": "markdown",
      "source": [
        "**Exercise **4.6"
      ]
    },
    {
      "metadata": {
        "id": "MWVCsFB5Gcyn",
        "colab_type": "code",
        "colab": {}
      },
      "cell_type": "code",
      "source": [
        ""
      ],
      "execution_count": 0,
      "outputs": []
    }
  ]
}