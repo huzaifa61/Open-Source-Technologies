{
  "nbformat": 4,
  "nbformat_minor": 0,
  "metadata": {
    "colab": {
      "name": "03 Collections HUZAIFA",
      "version": "0.3.2",
      "provenance": [],
      "collapsed_sections": []
    },
    "kernelspec": {
      "name": "python3",
      "display_name": "Python 3"
    }
  },
  "cells": [
    {
      "metadata": {
        "id": "bmsyJNFpOjJe",
        "colab_type": "text"
      },
      "cell_type": "markdown",
      "source": [
        "#  Introduction to Python\n",
        "\n",
        "##***Welcome to your Third iPython Notebook.***\n",
        "\n",
        "![python](https://cognitiveclass.ai/wp-content/uploads/2016/10/Machine-Learning-with-Python.png)\n",
        "\n",
        "## **About iPython Notebooks**\n",
        "\n",
        "iPython Notebooks are interactive coding environments embedded in a webpage. You will be using iPython notebooks in this class. You only need to write code between the ### START CODE HERE ### and ### END CODE HERE ### comments. After writing your code, you can run the cell by either pressing \"SHIFT\"+\"ENTER\" or by clicking on \"Run Cell\" (denoted by a play symbol) in the left bar of the cell.\n",
        "\n",
        "\n",
        "**In this notebook you will learn -** \n",
        "* Collection\n",
        "\n",
        "\n",
        "\n",
        "\n",
        "\n",
        "\n",
        "\n"
      ]
    },
    {
      "metadata": {
        "id": "GvYu350F4SPQ",
        "colab_type": "text"
      },
      "cell_type": "markdown",
      "source": [
        "#Python Collections\n",
        "\n",
        "Python Collections (Arrays)\n",
        "There are four collection data types in the Python programming language:\n",
        "\n",
        "\n",
        "\n",
        "\n",
        "*  ** List** is a collection which is ordered and changeable. Allows duplicate members.\n",
        "*  **Tuple** is a collection which is ordered and unchangeable. Allows duplicate members.\n",
        "*  ** Set** is a collection which is unordered and unindexed. No duplicate members.\n",
        "*  ** Dictionary** is a collection which is unordered, changeable and indexed. No duplicate members.\n",
        "\n",
        "When choosing a collection type, it is useful to understand the properties of that type. Choosing the right type for a particular data set could mean retention of meaning, and, it could mean an increase in efficiency or security.\n",
        "\n"
      ]
    },
    {
      "metadata": {
        "id": "f1xxuO9t4irE",
        "colab_type": "text"
      },
      "cell_type": "markdown",
      "source": [
        "##List\n",
        "A list is a collection which is **ordered** and **changeable**. In Python lists are written with square brackets."
      ]
    },
    {
      "metadata": {
        "id": "7TPeLP1XTg0Y",
        "colab_type": "text"
      },
      "cell_type": "markdown",
      "source": [
        "**Create a List:**\n",
        "\n"
      ]
    },
    {
      "metadata": {
        "id": "jFMl9KQjTrHb",
        "colab_type": "code",
        "outputId": "57c7d831-8a7f-42fc-8b65-ec569a594164",
        "colab": {
          "base_uri": "https://localhost:8080/",
          "height": 35
        }
      },
      "cell_type": "code",
      "source": [
        "thislist = [\"apple\", \"banana\", \"cherry\"]\n",
        "print(thislist)"
      ],
      "execution_count": 0,
      "outputs": [
        {
          "output_type": "stream",
          "text": [
            "['apple', 'banana', 'cherry']\n"
          ],
          "name": "stdout"
        }
      ]
    },
    {
      "metadata": {
        "id": "rIYhr6WuTsVE",
        "colab_type": "text"
      },
      "cell_type": "markdown",
      "source": [
        "**Access Items :** \n",
        "\n",
        "You access the list items by referring to the index number"
      ]
    },
    {
      "metadata": {
        "id": "IRSEZElfT27J",
        "colab_type": "code",
        "outputId": "5ae2d13a-58e9-42c7-c16f-d78f12941233",
        "colab": {
          "base_uri": "https://localhost:8080/",
          "height": 35
        }
      },
      "cell_type": "code",
      "source": [
        "thislist = [\"apple\", \"banana\", \"cherry\"]\n",
        "print(thislist[1])                                   # Prints the second item of the list"
      ],
      "execution_count": 0,
      "outputs": [
        {
          "output_type": "stream",
          "text": [
            "banana\n"
          ],
          "name": "stdout"
        }
      ]
    },
    {
      "metadata": {
        "id": "K1DVQho2T_H7",
        "colab_type": "text"
      },
      "cell_type": "markdown",
      "source": [
        "**Change Item Value :**\n",
        "\n",
        "To change the value of a specific item, refer to the index number"
      ]
    },
    {
      "metadata": {
        "id": "ef05AEFOUHfU",
        "colab_type": "code",
        "outputId": "8f442c9e-0ffb-4443-db19-a0ab283b847d",
        "colab": {
          "base_uri": "https://localhost:8080/",
          "height": 35
        }
      },
      "cell_type": "code",
      "source": [
        "thislist = [\"apple\", \"banana\", \"cherry\"]\n",
        "thislist[1] = \"blackcurrant\"\n",
        "print(thislist)                                      # Changes the second item"
      ],
      "execution_count": 0,
      "outputs": [
        {
          "output_type": "stream",
          "text": [
            "['apple', 'blackcurrant', 'cherry']\n"
          ],
          "name": "stdout"
        }
      ]
    },
    {
      "metadata": {
        "id": "-_LKTx1pUSOI",
        "colab_type": "text"
      },
      "cell_type": "markdown",
      "source": [
        "**Loop Through a List :**\n",
        "\n",
        "You can loop through the list items by using a **for** loop\n"
      ]
    },
    {
      "metadata": {
        "id": "WOJ4N6MtUaiC",
        "colab_type": "code",
        "outputId": "9a928f54-29de-46e6-e117-9e7f407cfdaf",
        "colab": {
          "base_uri": "https://localhost:8080/",
          "height": 70
        }
      },
      "cell_type": "code",
      "source": [
        "thislist = [\"apple\", \"banana\", \"cherry\"]\n",
        "for x in thislist:\n",
        "  print(x)                                            # Prints all items in the list, one by one\n"
      ],
      "execution_count": 0,
      "outputs": [
        {
          "output_type": "stream",
          "text": [
            "apple\n",
            "banana\n",
            "cherry\n"
          ],
          "name": "stdout"
        }
      ]
    },
    {
      "metadata": {
        "id": "HSyZSHy7Ulzd",
        "colab_type": "text"
      },
      "cell_type": "markdown",
      "source": [
        "**Check if Item Exists:** \n",
        "\n",
        "To determine if a specified item is present in a list use the 'in'  keyword."
      ]
    },
    {
      "metadata": {
        "id": "3jiFvp6iUvZw",
        "colab_type": "code",
        "outputId": "824ebce3-d9b9-4ca3-a3be-2562f8ac6efc",
        "colab": {
          "base_uri": "https://localhost:8080/",
          "height": 35
        }
      },
      "cell_type": "code",
      "source": [
        "thislist = [\"apple\", \"banana\", \"cherry\"]\n",
        "if \"apple\" in thislist:\n",
        "  print(\"Yes, 'apple' is in the fruits list\")         # Checks if \"apple\" is present in the list"
      ],
      "execution_count": 0,
      "outputs": [
        {
          "output_type": "stream",
          "text": [
            "Yes, 'apple' is in the fruits list\n"
          ],
          "name": "stdout"
        }
      ]
    },
    {
      "metadata": {
        "id": "uEsXKiQcU5Ms",
        "colab_type": "text"
      },
      "cell_type": "markdown",
      "source": [
        "**List Length :** \n",
        "\n",
        "To determine how many items a list have, use the len() method"
      ]
    },
    {
      "metadata": {
        "id": "YwAdqQb9U_z2",
        "colab_type": "code",
        "outputId": "30fd1913-17f6-461b-aeaf-fd09875c5c6c",
        "colab": {
          "base_uri": "https://localhost:8080/",
          "height": 35
        }
      },
      "cell_type": "code",
      "source": [
        "thislist = [\"apple\", \"banana\", \"cherry\"]\n",
        "print(len(thislist))                                   # Prints the number of items in the list"
      ],
      "execution_count": 0,
      "outputs": [
        {
          "output_type": "stream",
          "text": [
            "3\n"
          ],
          "name": "stdout"
        }
      ]
    },
    {
      "metadata": {
        "id": "UhlpRtGpVLH6",
        "colab_type": "text"
      },
      "cell_type": "markdown",
      "source": [
        "**Add Items :** \n",
        "\n",
        "To add an item to the end of the list, use the append() method."
      ]
    },
    {
      "metadata": {
        "id": "dOt2j67QVV2G",
        "colab_type": "code",
        "outputId": "390db7ad-1413-4181-f028-65f60fa1fb4c",
        "colab": {
          "base_uri": "https://localhost:8080/",
          "height": 35
        }
      },
      "cell_type": "code",
      "source": [
        "thislist = [\"apple\", \"banana\", \"cherry\"]\n",
        "thislist.append(\"orange\")\n",
        "print(thislist)"
      ],
      "execution_count": 0,
      "outputs": [
        {
          "output_type": "stream",
          "text": [
            "['apple', 'banana', 'cherry', 'orange']\n"
          ],
          "name": "stdout"
        }
      ]
    },
    {
      "metadata": {
        "id": "5RWmqvMCVb0P",
        "colab_type": "text"
      },
      "cell_type": "markdown",
      "source": [
        "To add an item at the specified index, use the insert() method"
      ]
    },
    {
      "metadata": {
        "id": "2_5Ipq0BVdDk",
        "colab_type": "code",
        "outputId": "a5f9a4e0-a9d7-446a-cb51-66ef95ea6711",
        "colab": {
          "base_uri": "https://localhost:8080/",
          "height": 35
        }
      },
      "cell_type": "code",
      "source": [
        "thislist = [\"apple\", \"banana\", \"cherry\"]\n",
        "thislist.insert(1, \"orange\")                            # Inserts an item as the second position\n",
        "print(thislist)                   "
      ],
      "execution_count": 0,
      "outputs": [
        {
          "output_type": "stream",
          "text": [
            "['apple', 'orange', 'banana', 'cherry']\n"
          ],
          "name": "stdout"
        }
      ]
    },
    {
      "metadata": {
        "id": "KKbkeu3FVpTh",
        "colab_type": "text"
      },
      "cell_type": "markdown",
      "source": [
        "**Remove Item :**\n",
        "\n",
        "There are several methods to remove items from a list"
      ]
    },
    {
      "metadata": {
        "id": "NsRaUeTBVwsV",
        "colab_type": "text"
      },
      "cell_type": "markdown",
      "source": [
        "**The remove() method :** \n",
        "The remove() method removes the specified item"
      ]
    },
    {
      "metadata": {
        "id": "HwzPz0YVV3sT",
        "colab_type": "code",
        "outputId": "9cd56ab7-ffd0-4802-a0b1-49a7630a4e9e",
        "colab": {
          "base_uri": "https://localhost:8080/",
          "height": 35
        }
      },
      "cell_type": "code",
      "source": [
        "thislist = [\"apple\", \"banana\", \"cherry\"]\n",
        "thislist.remove(\"banana\")\n",
        "print(thislist)"
      ],
      "execution_count": 0,
      "outputs": [
        {
          "output_type": "stream",
          "text": [
            "['apple', 'cherry']\n"
          ],
          "name": "stdout"
        }
      ]
    },
    {
      "metadata": {
        "id": "-sYaXvt9V6GR",
        "colab_type": "text"
      },
      "cell_type": "markdown",
      "source": [
        "**The pop() method :**\n",
        "The pop() method removes the specified index, (or the last item if index is not specified)"
      ]
    },
    {
      "metadata": {
        "id": "09LsmNbxWBHg",
        "colab_type": "code",
        "outputId": "43a26e07-b942-42c7-f240-cdc4e60bdbd1",
        "colab": {
          "base_uri": "https://localhost:8080/",
          "height": 35
        }
      },
      "cell_type": "code",
      "source": [
        "thislist = [\"apple\", \"banana\", \"cherry\"]\n",
        "thislist.pop(0)\n",
        "print(thislist)"
      ],
      "execution_count": 0,
      "outputs": [
        {
          "output_type": "stream",
          "text": [
            "['banana', 'cherry']\n"
          ],
          "name": "stdout"
        }
      ]
    },
    {
      "metadata": {
        "id": "08KnLoOWWE5e",
        "colab_type": "text"
      },
      "cell_type": "markdown",
      "source": [
        "**The del keyword :**\n",
        "The del keyword removes the specified index."
      ]
    },
    {
      "metadata": {
        "id": "JKkzV3IZWM40",
        "colab_type": "code",
        "outputId": "d7e7f7f5-80e6-4efa-f00f-764302a37a9b",
        "colab": {
          "base_uri": "https://localhost:8080/",
          "height": 35
        }
      },
      "cell_type": "code",
      "source": [
        "thislist = [\"apple\", \"banana\", \"cherry\"]\n",
        "del thislist[0]\n",
        "print(thislist)"
      ],
      "execution_count": 0,
      "outputs": [
        {
          "output_type": "stream",
          "text": [
            "['banana', 'cherry']\n"
          ],
          "name": "stdout"
        }
      ]
    },
    {
      "metadata": {
        "id": "BWlEimj8WR12",
        "colab_type": "text"
      },
      "cell_type": "markdown",
      "source": [
        "The del keyword can also delete the list completely:"
      ]
    },
    {
      "metadata": {
        "id": "drrN2QWkWS5H",
        "colab_type": "code",
        "colab": {}
      },
      "cell_type": "code",
      "source": [
        "thislist = [\"apple\", \"banana\", \"cherry\"]\n",
        "del thislist\n",
        "print(thislist)                      #this will cause an error because \"thislist\" no longer exists."
      ],
      "execution_count": 0,
      "outputs": []
    },
    {
      "metadata": {
        "id": "w6SKbMC-WaBC",
        "colab_type": "text"
      },
      "cell_type": "markdown",
      "source": [
        "**The clear() method :**\n",
        "The clear() method empties the list"
      ]
    },
    {
      "metadata": {
        "id": "8F7edhNsWiIi",
        "colab_type": "code",
        "colab": {}
      },
      "cell_type": "code",
      "source": [
        "thislist = [\"apple\", \"banana\", \"cherry\"]\n",
        "thislist.clear()\n",
        "print(thislist)"
      ],
      "execution_count": 0,
      "outputs": []
    },
    {
      "metadata": {
        "id": "rdTkIZJ7Wkah",
        "colab_type": "text"
      },
      "cell_type": "markdown",
      "source": [
        "**The list() Constructor :**\n",
        "\n",
        "It is also possible to use the list() constructor to make a list."
      ]
    },
    {
      "metadata": {
        "id": "aLOCk1jmWrN3",
        "colab_type": "code",
        "colab": {}
      },
      "cell_type": "code",
      "source": [
        "thislist = list((\"apple\", \"banana\", \"cherry\")) # note the double round-brackets\n",
        "print(thislist)"
      ],
      "execution_count": 0,
      "outputs": []
    },
    {
      "metadata": {
        "id": "iiB9B33Jhc5-",
        "colab_type": "text"
      },
      "cell_type": "markdown",
      "source": [
        "**Exercise 3.1:** \n"
      ]
    },
    {
      "metadata": {
        "id": "XwVyQQ7U4To_",
        "colab_type": "text"
      },
      "cell_type": "markdown",
      "source": [
        "\n",
        "Create a list named BestOfTv add the following items in it Breakin Bad,Game of Thrones and Mr Robot. Then perform the following actions on the list:\n",
        "\n",
        "*   Remove Game Of Thrones from it.\n",
        "*   Add Friends to the list at 0 index. \n",
        "*  Check if Game Of Thrones is in the list if it is print(\"GOT is in BestOfTv\") otherwise print(\"GOT is not in BestOfTv\")\n",
        "\n"
      ]
    },
    {
      "metadata": {
        "colab_type": "code",
        "id": "pzPps58G_Ok4",
        "colab": {}
      },
      "cell_type": "code",
      "source": [
        "### START CODE HERE ##\n",
        "                                  ##Create list\n",
        "thisl['Breaking Bad', 'Game Of Thrones', 'Mr Robot']                                  ##Remove Game Of Thrones\n",
        "print(BestOfTv)\n",
        "                                  ##Add Friends at index 0 \n",
        "print(BestOfTv)\n",
        "                                  ##Check if Game Of Thrones is in the list  \n",
        "\n",
        "\n",
        "\n",
        "### END CODE HERE ###\n",
        "\n",
        "  "
      ],
      "execution_count": 0,
      "outputs": []
    },
    {
      "metadata": {
        "id": "_HJ31bc9NkYR",
        "colab_type": "text"
      },
      "cell_type": "markdown",
      "source": [
        "**Expected Output:**\n",
        "\n",
        "['Breaking Bad', 'Game Of Thrones', 'Mr Robot']\n",
        "\n",
        "['Breaking Bad', 'Mr Robot']\n",
        "\n",
        "['Friends', 'Breaking Bad', 'Mr Robot']\n",
        "\n",
        "GOT is not in BestOfTv"
      ]
    },
    {
      "metadata": {
        "id": "ucAqo-4o79rx",
        "colab_type": "text"
      },
      "cell_type": "markdown",
      "source": [
        "##Tuples\n",
        "A tuple is a collection which is **ordered** and **unchangeable**. In Python tuples are written with round brackets."
      ]
    },
    {
      "metadata": {
        "id": "aUk67obLBvRy",
        "colab_type": "text"
      },
      "cell_type": "markdown",
      "source": [
        "**Create a Tuple:**"
      ]
    },
    {
      "metadata": {
        "id": "gdGLxI1Z8t_Z",
        "colab_type": "code",
        "colab": {}
      },
      "cell_type": "code",
      "source": [
        "thistuple = (\"apple\", \"banana\", \"cherry\")          # Creates a tuple\n",
        "print(thistuple)                                    "
      ],
      "execution_count": 0,
      "outputs": []
    },
    {
      "metadata": {
        "id": "JjKnxj5iB6P5",
        "colab_type": "text"
      },
      "cell_type": "markdown",
      "source": [
        "**Access Tuple Items:**\n",
        "\n",
        "You can access tuple items by referring to the index number."
      ]
    },
    {
      "metadata": {
        "id": "5GNeknr49Btm",
        "colab_type": "code",
        "colab": {}
      },
      "cell_type": "code",
      "source": [
        "thistuple = (\"apple\", \"banana\", \"cherry\")\n",
        "print(thistuple[1])                                # Return the item in position 1"
      ],
      "execution_count": 0,
      "outputs": []
    },
    {
      "metadata": {
        "id": "R0gw_f3JCByg",
        "colab_type": "text"
      },
      "cell_type": "markdown",
      "source": [
        "**Change Tuple Values:**\n",
        "\n",
        " You cannot change values in a tuple. Tuples are **unchangeable**. The values will remain the same."
      ]
    },
    {
      "metadata": {
        "id": "Ps3-Jnr99gwY",
        "colab_type": "code",
        "colab": {}
      },
      "cell_type": "code",
      "source": [
        "thistuple = (\"apple\", \"banana\", \"cherry\")          \n",
        "thistuple[1] = \"mango\"                             # This will raise an error\n",
        "print(thistuple)                                                              "
      ],
      "execution_count": 0,
      "outputs": []
    },
    {
      "metadata": {
        "id": "IYmUSBigC6CK",
        "colab_type": "text"
      },
      "cell_type": "markdown",
      "source": [
        "**Tuple Length:**\n",
        "\n",
        "To determine how many items a list have, use the len() method."
      ]
    },
    {
      "metadata": {
        "id": "qRhDUNon_DLL",
        "colab_type": "code",
        "colab": {}
      },
      "cell_type": "code",
      "source": [
        "thistuple = (\"apple\", \"banana\", \"cherry\")          # This will print the number of items in the tuple.\n",
        "print(len(thistuple))\n"
      ],
      "execution_count": 0,
      "outputs": []
    },
    {
      "metadata": {
        "id": "L1L4aDGZDkGz",
        "colab_type": "text"
      },
      "cell_type": "markdown",
      "source": [
        "**Add Items:**\n",
        "\n",
        "Once a tuple is created, you cannot add items to it. Tuples are** unchangeable**."
      ]
    },
    {
      "metadata": {
        "id": "DLO94mam_3VX",
        "colab_type": "code",
        "colab": {}
      },
      "cell_type": "code",
      "source": [
        "thistuple = (\"apple\", \"banana\", \"cherry\")         \n",
        "thistuple[3] = \"orange\"                            # This will raise an error\n",
        "print(thistuple)"
      ],
      "execution_count": 0,
      "outputs": []
    },
    {
      "metadata": {
        "id": "NlQJ4LcCDvlW",
        "colab_type": "text"
      },
      "cell_type": "markdown",
      "source": [
        "**Remove Items:**\n",
        "\n",
        " Tuples are unchangeable, so you cannot remove items from it, but you can delete the tuple completely."
      ]
    },
    {
      "metadata": {
        "id": "umKS-CvvBNmK",
        "colab_type": "code",
        "colab": {}
      },
      "cell_type": "code",
      "source": [
        "thistuple = (\"apple\", \"banana\", \"cherry\")          #The del keyword can delete the tuple completely\n",
        "del thistuple\n",
        "print(thistuple)                                   # This will raise an error because the tuple no longer exists"
      ],
      "execution_count": 0,
      "outputs": []
    },
    {
      "metadata": {
        "id": "e3Iq1lMxEkqH",
        "colab_type": "text"
      },
      "cell_type": "markdown",
      "source": [
        "**The tuple() Constructor:**\n",
        "\n",
        "It is also possible to use the tuple() constructor to make a tuple."
      ]
    },
    {
      "metadata": {
        "id": "eXkdjiVLEty3",
        "colab_type": "code",
        "colab": {}
      },
      "cell_type": "code",
      "source": [
        "thistuple = tuple((\"apple\", \"banana\", \"cherry\"))    # note the double round-brackets\n",
        "print(thistuple)"
      ],
      "execution_count": 0,
      "outputs": []
    },
    {
      "metadata": {
        "id": "SIWLi3toFEUT",
        "colab_type": "text"
      },
      "cell_type": "markdown",
      "source": [
        "**Loop Through a Tuple:**\n",
        "\n",
        "You can loop through the tuple items by using a for loop."
      ]
    },
    {
      "metadata": {
        "id": "t_a6nfWMFLTd",
        "colab_type": "code",
        "colab": {}
      },
      "cell_type": "code",
      "source": [
        "thistuple = (\"apple\", \"banana\", \"cherry\")\n",
        "for x in thistuple:\n",
        "  print(x)"
      ],
      "execution_count": 0,
      "outputs": []
    },
    {
      "metadata": {
        "id": "jjDIXCb_hp-0",
        "colab_type": "text"
      },
      "cell_type": "markdown",
      "source": [
        "**Exercise 3.2:**  "
      ]
    },
    {
      "metadata": {
        "id": "RxrisLt6ZS3A",
        "colab_type": "text"
      },
      "cell_type": "markdown",
      "source": [
        "\n",
        "Perform the following action on the tuple\n",
        "\n",
        "\n",
        "\n",
        "*   Display the length of the tuple\n",
        "*   Display the item in third position\n",
        "\n"
      ]
    },
    {
      "metadata": {
        "id": "cPNVGYTpYo-x",
        "colab_type": "code",
        "colab": {}
      },
      "cell_type": "code",
      "source": [
        "### START CODE HERE ###\n",
        "\n",
        "food = (\"pizaa\", \"burger\", \"cake\") \n",
        "                                    ##Display the length\n",
        "                                    ##Display the item\n",
        "\n",
        "### END CODE HERE ###"
      ],
      "execution_count": 0,
      "outputs": []
    },
    {
      "metadata": {
        "id": "yGw0VfeVaCR5",
        "colab_type": "text"
      },
      "cell_type": "markdown",
      "source": [
        "\n",
        "\n",
        "**Expected Output: **\n",
        "\n",
        "3\n",
        "\n",
        "cake"
      ]
    },
    {
      "metadata": {
        "id": "3Tt1Xim6Fy8c",
        "colab_type": "text"
      },
      "cell_type": "markdown",
      "source": [
        "## Sets\n",
        "A set is a collection which is **unordered** and **unindexed**. In Python sets are written with curly brackets."
      ]
    },
    {
      "metadata": {
        "id": "QGdOtnhoF8ld",
        "colab_type": "text"
      },
      "cell_type": "markdown",
      "source": [
        "**Create a Set:**"
      ]
    },
    {
      "metadata": {
        "id": "M282XiAzGF77",
        "colab_type": "code",
        "colab": {}
      },
      "cell_type": "code",
      "source": [
        "thisset = {\"apple\", \"banana\", \"cherry\"}\n",
        "print(thisset)"
      ],
      "execution_count": 0,
      "outputs": []
    },
    {
      "metadata": {
        "id": "zYuQN-6lGJC1",
        "colab_type": "text"
      },
      "cell_type": "markdown",
      "source": [
        "**Note:** Sets are unordered, so the items will appear in a random order."
      ]
    },
    {
      "metadata": {
        "id": "VgiIX9MmGRL3",
        "colab_type": "text"
      },
      "cell_type": "markdown",
      "source": [
        "**Access Items:**\n",
        "\n",
        "You cannot access items in a set by referring to an index, since sets are unordered the items has no index.\n",
        "\n",
        "But you can loop through the set items using a for loop."
      ]
    },
    {
      "metadata": {
        "id": "s29pkWlyGgDu",
        "colab_type": "code",
        "colab": {}
      },
      "cell_type": "code",
      "source": [
        "thisset = {\"apple\", \"banana\", \"cherry\"}\n",
        "\n",
        "for x in thisset:                                    #Loops through the set, and print the values              \n",
        "  print(x)                     "
      ],
      "execution_count": 0,
      "outputs": []
    },
    {
      "metadata": {
        "id": "YM0YntICHEB1",
        "colab_type": "text"
      },
      "cell_type": "markdown",
      "source": [
        "**Change Items:**\n",
        "\n",
        "Once a set is created, you cannot change its items, but you can add new items."
      ]
    },
    {
      "metadata": {
        "id": "l53lJDnVHT5y",
        "colab_type": "text"
      },
      "cell_type": "markdown",
      "source": [
        "**Add Items:**\n",
        "To add one item to a set use the add() method."
      ]
    },
    {
      "metadata": {
        "id": "Fh3ZphClHbnZ",
        "colab_type": "code",
        "colab": {}
      },
      "cell_type": "code",
      "source": [
        "thisset = {\"apple\", \"banana\", \"cherry\"}\n",
        "\n",
        "thisset.add(\"orange\")\n",
        "\n",
        "print(thisset)"
      ],
      "execution_count": 0,
      "outputs": []
    },
    {
      "metadata": {
        "id": "AHDiKp4bHnFM",
        "colab_type": "text"
      },
      "cell_type": "markdown",
      "source": [
        "**Update Items:** To add more than one item to a set use the update() method."
      ]
    },
    {
      "metadata": {
        "id": "EDMJy3tNHuXa",
        "colab_type": "code",
        "colab": {}
      },
      "cell_type": "code",
      "source": [
        "thisset = {\"apple\", \"banana\", \"cherry\"}\n",
        "\n",
        "thisset.update([\"orange\", \"mango\", \"grapes\"])\n",
        "\n",
        "print(thisset)"
      ],
      "execution_count": 0,
      "outputs": []
    },
    {
      "metadata": {
        "id": "MyBeGEbcH0wh",
        "colab_type": "text"
      },
      "cell_type": "markdown",
      "source": [
        "**Get the Length of a Set:**\n",
        "\n",
        "To determine how many items a set have, use the len() method."
      ]
    },
    {
      "metadata": {
        "id": "i2vVYbaWH6hT",
        "colab_type": "code",
        "colab": {}
      },
      "cell_type": "code",
      "source": [
        "thisset = {\"apple\", \"banana\", \"cherry\"}\n",
        "\n",
        "print(len(thisset))"
      ],
      "execution_count": 0,
      "outputs": []
    },
    {
      "metadata": {
        "id": "_U4ihnZsH9g3",
        "colab_type": "text"
      },
      "cell_type": "markdown",
      "source": [
        "**Remove Item:**\n",
        "\n",
        "To remove an item in a set, use the remove(), or the discard() method."
      ]
    },
    {
      "metadata": {
        "id": "8eciA7PPIJ2G",
        "colab_type": "code",
        "colab": {}
      },
      "cell_type": "code",
      "source": [
        "thisset = {\"apple\", \"banana\", \"cherry\"}\n",
        "\n",
        "thisset.remove(\"banana\")\n",
        "\n",
        "print(thisset)"
      ],
      "execution_count": 0,
      "outputs": []
    },
    {
      "metadata": {
        "id": "W6h0WdK2IMQm",
        "colab_type": "code",
        "colab": {}
      },
      "cell_type": "code",
      "source": [
        "thisset = {\"apple\", \"banana\", \"cherry\"}\n",
        "\n",
        "thisset.discard(\"banana\")\n",
        "\n",
        "print(thisset)                                            # Note: If the item to remove does not exist, discard() will NOT raise an error."
      ],
      "execution_count": 0,
      "outputs": []
    },
    {
      "metadata": {
        "id": "zsGIAWvxIg09",
        "colab_type": "text"
      },
      "cell_type": "markdown",
      "source": [
        "**The set() Constructor:**\n",
        "\n",
        "It is also possible to use the set() constructor to make a set."
      ]
    },
    {
      "metadata": {
        "id": "E33nqQtHIlPQ",
        "colab_type": "code",
        "colab": {}
      },
      "cell_type": "code",
      "source": [
        "thisset = set((\"apple\", \"banana\", \"cherry\"))              # note the double round-brackets\n",
        "print(thisset)"
      ],
      "execution_count": 0,
      "outputs": []
    },
    {
      "metadata": {
        "id": "1z5NTND6JNFV",
        "colab_type": "text"
      },
      "cell_type": "markdown",
      "source": [
        "**clear() method :**\n",
        "\n",
        "The clear() method empties the set."
      ]
    },
    {
      "metadata": {
        "id": "DdBf_xQQJWyq",
        "colab_type": "code",
        "colab": {}
      },
      "cell_type": "code",
      "source": [
        "thisset = {\"apple\", \"banana\", \"cherry\"}\n",
        "\n",
        "thisset.clear()\n",
        "\n",
        "print(thisset)"
      ],
      "execution_count": 0,
      "outputs": []
    },
    {
      "metadata": {
        "id": "uNt1ehL9emm_",
        "colab_type": "text"
      },
      "cell_type": "markdown",
      "source": [
        "**Exercise 3.3:** "
      ]
    },
    {
      "metadata": {
        "id": "PyQNEarBexgQ",
        "colab_type": "text"
      },
      "cell_type": "markdown",
      "source": [
        "Write a Python script to perform the following actions on a **set**.\n",
        "\n",
        "\n",
        "\n",
        "*   Create a set called games with items witcher,cs,fortnite.\n",
        "*   Add pubg to the set\n",
        "*   Remove fortnite from the set\n",
        "*   Empty the set\n",
        "\n"
      ]
    },
    {
      "metadata": {
        "id": "XSmQ_vY8uhwI",
        "colab_type": "code",
        "colab": {}
      },
      "cell_type": "code",
      "source": [
        "### START CODE HERE \n",
        "games = {\"witcher\", \"cs\", \"fortnite\"}\n",
        "print(games)\n",
        "games.add(\"pubg\")\n",
        "print(games)\n",
        "games.remove(\"fortnite\")\n",
        "print(games)\n",
        "games.clear()\n",
        "print(games)\n",
        "### END CODE HERE ###"
      ],
      "execution_count": 0,
      "outputs": []
    },
    {
      "metadata": {
        "id": "3Cc94DZ9hNms",
        "colab_type": "text"
      },
      "cell_type": "markdown",
      "source": [
        "**Expected output**: \n",
        "\n",
        "{'witcher', 'fortnite', 'cs'}\n",
        "{'witcher', 'fortnite', 'cs', 'pubg'}\n",
        "{'witcher', 'cs', 'pubg'}\n",
        "set()"
      ]
    },
    {
      "metadata": {
        "id": "gs-yzeHWKRxA",
        "colab_type": "text"
      },
      "cell_type": "markdown",
      "source": [
        "## Dictionary\n",
        "\n",
        "A dictionary is a collection which is** unordered**, **changeable** and **indexed**. In Python dictionaries are written with curly brackets, and they have keys and values."
      ]
    },
    {
      "metadata": {
        "id": "CNGP3sASKaUw",
        "colab_type": "text"
      },
      "cell_type": "markdown",
      "source": [
        "**Create a dictionary:**\n"
      ]
    },
    {
      "metadata": {
        "id": "96sBx7nRKtcK",
        "colab_type": "code",
        "colab": {}
      },
      "cell_type": "code",
      "source": [
        "thisdict =\t{\n",
        "  \"brand\": \"Ford\",\n",
        "  \"model\": \"Mustang\",\n",
        "  \"year\": 1964\n",
        "}\n",
        "print(thisdict)                                        # prints the dictionary."
      ],
      "execution_count": 0,
      "outputs": []
    },
    {
      "metadata": {
        "id": "EVahhc_FK5uy",
        "colab_type": "text"
      },
      "cell_type": "markdown",
      "source": [
        "**Accessing Items:**\n",
        "\n",
        "You can access the items of a dictionary by referring to its key name"
      ]
    },
    {
      "metadata": {
        "id": "6RKH16CBLJKi",
        "colab_type": "code",
        "colab": {}
      },
      "cell_type": "code",
      "source": [
        "x = thisdict[\"model\"]                                  # Gets the value of the \"model\" key\n",
        "print(x)"
      ],
      "execution_count": 0,
      "outputs": []
    },
    {
      "metadata": {
        "id": "N_SeRT2PLVbJ",
        "colab_type": "text"
      },
      "cell_type": "markdown",
      "source": [
        "There is also a method called get() that will give you the same result:"
      ]
    },
    {
      "metadata": {
        "id": "7ZiWheu1LW9D",
        "colab_type": "code",
        "colab": {}
      },
      "cell_type": "code",
      "source": [
        "x = thisdict.get(\"model\")                              # Gets the value of the \"model\" key\n",
        "print(x)"
      ],
      "execution_count": 0,
      "outputs": []
    },
    {
      "metadata": {
        "id": "BO5Id1-uLd5A",
        "colab_type": "text"
      },
      "cell_type": "markdown",
      "source": [
        "**Change Values:**\n",
        "\n",
        "You can change the value of a specific item by referring to its key name."
      ]
    },
    {
      "metadata": {
        "id": "BUid0nsMLlnL",
        "colab_type": "code",
        "colab": {}
      },
      "cell_type": "code",
      "source": [
        "#Change the \"year\" to 2018:\n",
        "\n",
        "thisdict =\t{\n",
        "  \"brand\": \"Ford\",\n",
        "  \"model\": \"Mustang\",\n",
        "  \"year\": 1964\n",
        "}\n",
        "thisdict[\"year\"] = 2018                                # Changes the \"year\" to 2018\n",
        "print(thisdict)"
      ],
      "execution_count": 0,
      "outputs": []
    },
    {
      "metadata": {
        "id": "3y2NtrMXOtp6",
        "colab_type": "text"
      },
      "cell_type": "markdown",
      "source": [
        "**Loop Through a Dictionary:**\n",
        "\n",
        "You can loop through a dictionary by using a for loop.\n",
        "\n",
        "When looping through a dictionary, the return value are the keys of the dictionary, but there are methods to return the values as well."
      ]
    },
    {
      "metadata": {
        "id": "i2kSI_2IPGOF",
        "colab_type": "code",
        "colab": {}
      },
      "cell_type": "code",
      "source": [
        "for x in thisdict:\n",
        "  print(x)                                            # Prints all key names in the dictionary, one by one."
      ],
      "execution_count": 0,
      "outputs": []
    },
    {
      "metadata": {
        "id": "cun296OKPPz8",
        "colab_type": "text"
      },
      "cell_type": "markdown",
      "source": [
        "You can also use the values() function to return values of a dictionary:"
      ]
    },
    {
      "metadata": {
        "id": "44OY8t1QPWVH",
        "colab_type": "code",
        "colab": {}
      },
      "cell_type": "code",
      "source": [
        "for x in thisdict.values():                     \n",
        "  print(x)                                            # Prints all values in the dictionary, one by one."
      ],
      "execution_count": 0,
      "outputs": []
    },
    {
      "metadata": {
        "id": "0-PcJbXrPjlg",
        "colab_type": "text"
      },
      "cell_type": "markdown",
      "source": [
        "Loop through both keys and values, by using the items() function:"
      ]
    },
    {
      "metadata": {
        "id": "ptvJQNhQPlht",
        "colab_type": "code",
        "colab": {}
      },
      "cell_type": "code",
      "source": [
        "for x, y in thisdict.items():\n",
        "  print(x, y)                                          # Prints both keys and values, in the dictionary, one by one."
      ],
      "execution_count": 0,
      "outputs": []
    },
    {
      "metadata": {
        "id": "jlN4Ig9MQH2r",
        "colab_type": "text"
      },
      "cell_type": "markdown",
      "source": [
        "**Check if Key Exists:**\n",
        "\n",
        "To determine if a specified key is present in a dictionary use the ' in'  keyword."
      ]
    },
    {
      "metadata": {
        "id": "MLaYVB0UQM7g",
        "colab_type": "code",
        "colab": {}
      },
      "cell_type": "code",
      "source": [
        "thisdict =\t{\n",
        "  \"brand\": \"Ford\",\n",
        "  \"model\": \"Mustang\",\n",
        "  \"year\": 1964\n",
        "} \n",
        "if \"model\" in thisdict:                                 # Checks if \"model\" is present in the dictionary\n",
        "  print(\"Yes, 'model' is one of the keys in the thisdict dictionary\")"
      ],
      "execution_count": 0,
      "outputs": []
    },
    {
      "metadata": {
        "id": "1TBPvnoXQfA7",
        "colab_type": "text"
      },
      "cell_type": "markdown",
      "source": [
        "**Dictionary Length:**\n",
        "\n",
        "To determine how many items (key-value pairs) a dictionary have, use the len() method."
      ]
    },
    {
      "metadata": {
        "id": "raMKBiHHQkvE",
        "colab_type": "code",
        "colab": {}
      },
      "cell_type": "code",
      "source": [
        "print(len(thisdict))"
      ],
      "execution_count": 0,
      "outputs": []
    },
    {
      "metadata": {
        "id": "4rPxLZi0QqG6",
        "colab_type": "text"
      },
      "cell_type": "markdown",
      "source": [
        "**Adding Items :**\n",
        "\n",
        "Adding an item to the dictionary is done by using a new index key and assigning a value to it.\n"
      ]
    },
    {
      "metadata": {
        "id": "Uol2LJPnQ0cX",
        "colab_type": "code",
        "colab": {}
      },
      "cell_type": "code",
      "source": [
        "thisdict =\t{\n",
        "  \"brand\": \"Ford\",\n",
        "  \"model\": \"Mustang\",\n",
        "  \"year\": 1964\n",
        "}\n",
        "thisdict[\"color\"] = \"red\"\n",
        "print(thisdict)"
      ],
      "execution_count": 0,
      "outputs": []
    },
    {
      "metadata": {
        "id": "qsul1uZ1Q2_t",
        "colab_type": "text"
      },
      "cell_type": "markdown",
      "source": [
        "**Removing Items :**\n",
        "\n",
        "There are several methods to remove items from a dictionary"
      ]
    },
    {
      "metadata": {
        "id": "fgfmrL6rRNDC",
        "colab_type": "text"
      },
      "cell_type": "markdown",
      "source": [
        "**The pop() method :**\n",
        "\n",
        "The pop() method removes the item with the specified key name"
      ]
    },
    {
      "metadata": {
        "id": "ByFMyWSiRTvh",
        "colab_type": "code",
        "colab": {}
      },
      "cell_type": "code",
      "source": [
        "thisdict =\t{\n",
        "  \"brand\": \"Ford\",\n",
        "  \"model\": \"Mustang\",\n",
        "  \"year\": 1964\n",
        "}\n",
        "thisdict.pop(\"model\")\n",
        "print(thisdict)"
      ],
      "execution_count": 0,
      "outputs": []
    },
    {
      "metadata": {
        "id": "CS07DHveRYiA",
        "colab_type": "text"
      },
      "cell_type": "markdown",
      "source": [
        "**The popitem() method :**\n",
        "\n",
        "The popitem() method removes the last inserted item (in versions before 3.7, a random item is removed instead)"
      ]
    },
    {
      "metadata": {
        "id": "UisjwbijRkA4",
        "colab_type": "code",
        "colab": {}
      },
      "cell_type": "code",
      "source": [
        "thisdict =\t{\n",
        "  \"brand\": \"Ford\",\n",
        "  \"model\": \"Mustang\",\n",
        "  \"year\": 1964\n",
        "}\n",
        "thisdict.popitem()\n",
        "print(thisdict)"
      ],
      "execution_count": 0,
      "outputs": []
    },
    {
      "metadata": {
        "id": "YSJ8EyJgRs4g",
        "colab_type": "text"
      },
      "cell_type": "markdown",
      "source": [
        "**The del keyword :**\n",
        "\n",
        "The del keyword removes the item with the specified key name"
      ]
    },
    {
      "metadata": {
        "id": "cmi5Mm3iR0bE",
        "colab_type": "code",
        "colab": {}
      },
      "cell_type": "code",
      "source": [
        "thisdict =\t{\n",
        "  \"brand\": \"Ford\",\n",
        "  \"model\": \"Mustang\",\n",
        "  \"year\": 1964\n",
        "}\n",
        "del thisdict[\"model\"]\n",
        "print(thisdict)"
      ],
      "execution_count": 0,
      "outputs": []
    },
    {
      "metadata": {
        "id": "0I5xLu2aR5Mt",
        "colab_type": "text"
      },
      "cell_type": "markdown",
      "source": [
        "The del keyword can also delete the dictionary completely"
      ]
    },
    {
      "metadata": {
        "id": "SqW9B2ixR62w",
        "colab_type": "code",
        "colab": {}
      },
      "cell_type": "code",
      "source": [
        "thisdict =\t{\n",
        "  \"brand\": \"Ford\",\n",
        "  \"model\": \"Mustang\",\n",
        "  \"year\": 1964\n",
        "}\n",
        "del thisdict\n",
        "print(thisdict)                           #this will cause an error because \"thisdict\" no longer exists."
      ],
      "execution_count": 0,
      "outputs": []
    },
    {
      "metadata": {
        "id": "ICUETQyFhyH1",
        "colab_type": "text"
      },
      "cell_type": "markdown",
      "source": [
        "**Exercise 3.4:**  "
      ]
    },
    {
      "metadata": {
        "colab_type": "text",
        "id": "gKgn2l5hPHle"
      },
      "cell_type": "markdown",
      "source": [
        "\n",
        "Write a Python script to perform the following actions to a dictionary.\n",
        "\n",
        "\n",
        "*    Create a dictionary with items 0:10,1:20\n",
        "*   Add 2:30 to the following dictionary\n",
        "\n"
      ]
    },
    {
      "metadata": {
        "colab_type": "code",
        "id": "KVYljicvPK2B",
        "colab": {}
      },
      "cell_type": "code",
      "source": [
        "### START CODE HERE ### (1 line of code)\n",
        "\n",
        "d = {0:10, 1:20}\n",
        "print(d)\n",
        "d.update({2:30})\n",
        "print(d)                \n",
        "\n",
        "### END CODE HERE ###"
      ],
      "execution_count": 0,
      "outputs": []
    },
    {
      "metadata": {
        "colab_type": "text",
        "id": "B6N0G8FtPNA9"
      },
      "cell_type": "markdown",
      "source": [
        "\n",
        "\n",
        "**Expected Output: **{0: 10, 1: 20, 2: 30}"
      ]
    },
    {
      "metadata": {
        "id": "f_OXNBwtxmf8",
        "colab_type": "text"
      },
      "cell_type": "markdown",
      "source": [
        "\n",
        "\n",
        "---\n",
        "\n",
        "\n",
        "24) Create a list ['Biology', 'chemistry', 'maths', 'physics'] & print it"
      ]
    },
    {
      "metadata": {
        "id": "UkTv3CMPxy33",
        "colab_type": "code",
        "colab": {
          "base_uri": "https://localhost:8080/",
          "height": 35
        },
        "outputId": "29d1b6fe-3001-49c0-f57a-2de0f2f68522"
      },
      "cell_type": "code",
      "source": [
        "list =  ['Biology', 'chemistry', 'maths', 'physics']\n",
        "print(list)"
      ],
      "execution_count": 1,
      "outputs": [
        {
          "output_type": "stream",
          "text": [
            "['Biology', 'chemistry', 'maths', 'physics']\n"
          ],
          "name": "stdout"
        }
      ]
    },
    {
      "metadata": {
        "id": "ETIxnHv-xzoF",
        "colab_type": "text"
      },
      "cell_type": "markdown",
      "source": [
        "Expected Output : ['Biology', 'chemistry', 'maths', 'physics']"
      ]
    },
    {
      "metadata": {
        "id": "yZ6uVj1Yx1PY",
        "colab_type": "text"
      },
      "cell_type": "markdown",
      "source": [
        "25) compare the two tuples (123, 'xyz') & (456, 'abc')"
      ]
    },
    {
      "metadata": {
        "id": "yf3AzgKFyJ-3",
        "colab_type": "code",
        "colab": {}
      },
      "cell_type": "code",
      "source": [
        ""
      ],
      "execution_count": 0,
      "outputs": []
    },
    {
      "metadata": {
        "id": "WmlYaBqXyKp0",
        "colab_type": "text"
      },
      "cell_type": "markdown",
      "source": [
        "Expected Output : -1"
      ]
    },
    {
      "metadata": {
        "id": "bG2WRL0HyQNv",
        "colab_type": "text"
      },
      "cell_type": "markdown",
      "source": [
        "26) create a list ['maths', 'che', 'phy', 'bio'] & convert into tuple using tuple() method."
      ]
    },
    {
      "metadata": {
        "id": "_m8nLTGyyWV2",
        "colab_type": "code",
        "colab": {}
      },
      "cell_type": "code",
      "source": [
        "## code here "
      ],
      "execution_count": 0,
      "outputs": []
    },
    {
      "metadata": {
        "id": "tGUYchElytvB",
        "colab_type": "text"
      },
      "cell_type": "markdown",
      "source": [
        " expected output\n",
        " tuple elements :  ('maths', 'che', 'phy', 'bio')"
      ]
    },
    {
      "metadata": {
        "id": "XeAPLY-9y1Mv",
        "colab_type": "text"
      },
      "cell_type": "markdown",
      "source": [
        "27) create a tuple ('a','p','p','l','e',)  and use count method to count element p"
      ]
    },
    {
      "metadata": {
        "id": "68SpPVIozL13",
        "colab_type": "code",
        "colab": {}
      },
      "cell_type": "code",
      "source": [
        "## code here\n"
      ],
      "execution_count": 0,
      "outputs": []
    },
    {
      "metadata": {
        "id": "_W1PBsPFzk5A",
        "colab_type": "text"
      },
      "cell_type": "markdown",
      "source": [
        "Expected Output : 2\n"
      ]
    },
    {
      "metadata": {
        "id": "3LX3eh9LzosU",
        "colab_type": "text"
      },
      "cell_type": "markdown",
      "source": [
        "28) create a tuple ('a','p','p','l','e',) and use index method to index element l"
      ]
    },
    {
      "metadata": {
        "id": "xjxSiIArz6Ea",
        "colab_type": "code",
        "colab": {}
      },
      "cell_type": "code",
      "source": [
        "## code here "
      ],
      "execution_count": 0,
      "outputs": []
    },
    {
      "metadata": {
        "id": "ykK0rcrqz8I9",
        "colab_type": "text"
      },
      "cell_type": "markdown",
      "source": [
        "Expected Output : 3"
      ]
    },
    {
      "metadata": {
        "id": "BC-WufIp0P0Z",
        "colab_type": "text"
      },
      "cell_type": "markdown",
      "source": [
        "29) create a dictionary with each item being a pair of a number and its square in range 6."
      ]
    },
    {
      "metadata": {
        "id": "meAuyrED0V6I",
        "colab_type": "code",
        "colab": {}
      },
      "cell_type": "code",
      "source": [
        "##code here "
      ],
      "execution_count": 0,
      "outputs": []
    },
    {
      "metadata": {
        "id": "GZYqnKEW0Z3o",
        "colab_type": "text"
      },
      "cell_type": "markdown",
      "source": [
        "Output: {0: 0, 1: 1, 2: 4, 3: 9, 4: 16, 5: 25}"
      ]
    },
    {
      "metadata": {
        "id": "wKCFVgXs0o-H",
        "colab_type": "text"
      },
      "cell_type": "markdown",
      "source": [
        "30) create a dictionary squares = {1: 1, 3: 9, 5: 25, 7: 49, 9: 81} & test whether  1 is present in list"
      ]
    },
    {
      "metadata": {
        "id": "BsTw7vI61BYj",
        "colab_type": "code",
        "colab": {}
      },
      "cell_type": "code",
      "source": [
        "## code here \n"
      ],
      "execution_count": 0,
      "outputs": []
    },
    {
      "metadata": {
        "id": "DgBzzFPh1FWX",
        "colab_type": "text"
      },
      "cell_type": "markdown",
      "source": [
        "Expected Output : True"
      ]
    },
    {
      "metadata": {
        "id": "j_EdRnqg1bJ6",
        "colab_type": "text"
      },
      "cell_type": "markdown",
      "source": [
        "31) create a dictionery squares = {1: 1, 3: 9, 5: 25, 7: 49, 9: 81} print length in squares"
      ]
    },
    {
      "metadata": {
        "id": "_jLTaX_q1ipI",
        "colab_type": "code",
        "colab": {}
      },
      "cell_type": "code",
      "source": [
        "## code here "
      ],
      "execution_count": 0,
      "outputs": []
    },
    {
      "metadata": {
        "id": "6ni--Pxu1ssD",
        "colab_type": "text"
      },
      "cell_type": "markdown",
      "source": [
        "Expected Output : 5"
      ]
    },
    {
      "metadata": {
        "id": "2NujgUlj1xKY",
        "colab_type": "text"
      },
      "cell_type": "markdown",
      "source": [
        "32) create  a nested dictionary \n",
        "nested_list = [['blue', 'green'], ['red', 'black'], ['blue', 'white']] & print its length."
      ]
    },
    {
      "metadata": {
        "id": "pTlWZE162Qto",
        "colab_type": "code",
        "colab": {}
      },
      "cell_type": "code",
      "source": [
        "nested_list = [['blue', 'green'], ['red', 'black'], ['blue', 'white']]\n",
        "##code here "
      ],
      "execution_count": 0,
      "outputs": []
    },
    {
      "metadata": {
        "id": "oJ4-PQc52RDq",
        "colab_type": "text"
      },
      "cell_type": "markdown",
      "source": [
        "Expected Output : {1: 'Geeks', 2: 'For', 3:{'A' : 'Welcome', 'B' : 'To', 'C' : 'Geeks'}} "
      ]
    },
    {
      "metadata": {
        "id": "J6tt59vu24Yj",
        "colab_type": "text"
      },
      "cell_type": "markdown",
      "source": [
        "33) create a Dictionary {\"A\":1, \"B\":2}  use get method to with A , B , C"
      ]
    },
    {
      "metadata": {
        "id": "eqpXjDVQxPf_",
        "colab_type": "code",
        "colab": {}
      },
      "cell_type": "code",
      "source": [
        "## CODE HERE \n"
      ],
      "execution_count": 0,
      "outputs": []
    },
    {
      "metadata": {
        "id": "k4uTKTkx25MK",
        "colab_type": "text"
      },
      "cell_type": "markdown",
      "source": [
        "Expected Output : 1\n",
        "None\n",
        "Not Found ! "
      ]
    },
    {
      "metadata": {
        "id": "q6sACjHT3279",
        "colab_type": "text"
      },
      "cell_type": "markdown",
      "source": [
        "Deque can be implemented in python using the module “collections“. Deque is preferred over list in the cases where we need quicker append and pop operations from both the ends of container, as deque provides an O(1) time complexity for append and pop operations as compared to list which provides O(n) time complexity.\n",
        "\n",
        "     Operations on deque :\n",
        "\n",
        "1.**append()** :- This function is used to insert the value in its argument to the right end of deque.\n",
        "\n",
        "2. **appendleft()** :- This function is used to insert the value in its argument to the left end of deque.\n",
        "\n",
        "3. **pop()** :- This function is used to delete an argument from the right end of deque.\n",
        "\n",
        "\n",
        "4.**popleft()** :- This function is used to delete an argument from the left end of deque."
      ]
    },
    {
      "metadata": {
        "id": "2R3bIkVX33ed",
        "colab_type": "code",
        "outputId": "69f01435-6d35-4224-8f45-517f46d6c461",
        "colab": {
          "base_uri": "https://localhost:8080/",
          "height": 159
        }
      },
      "cell_type": "code",
      "source": [
        "# Python code to demonstrate working of \n",
        "# append(), appendleft(), pop(), and popleft() \n",
        "\n",
        "# importing \"collections\" for deque operations \n",
        "import collections \n",
        "\n",
        "# initializing deque \n",
        "de = collections.deque([1,2,3]) \n",
        "\n",
        "# using append() to insert element at right end \n",
        "# inserts 4 at the end of deque \n",
        "de.append(4) \n",
        "\n",
        "# printing modified deque \n",
        "print (\"The deque after appending at right is : \") \n",
        "print (de) \n",
        "\n",
        "# using appendleft() to insert element at right end \n",
        "# inserts 6 at the beginning of deque \n",
        "de.appendleft(6) \n",
        "\n",
        "# printing modified deque \n",
        "print (\"The deque after appending at left is : \") \n",
        "print (de) \n",
        "\n",
        "# using pop() to delete element from right end \n",
        "# deletes 4 from the right end of deque \n",
        "de.pop() \n",
        "\n",
        "# printing modified deque \n",
        "print (\"The deque after deleting from right is : \") \n",
        "print (de) \n",
        "\n",
        "# using popleft() to delete element from left end \n",
        "# deletes 6 from the left end of deque \n",
        "de.popleft() \n",
        "\n",
        "# printing modified deque \n",
        "print (\"The deque after deleting from left is : \") \n",
        "print (de) \n"
      ],
      "execution_count": 0,
      "outputs": [
        {
          "output_type": "stream",
          "text": [
            "The deque after appending at right is : \n",
            "deque([1, 2, 3, 4])\n",
            "The deque after appending at left is : \n",
            "deque([6, 1, 2, 3, 4])\n",
            "The deque after deleting from right is : \n",
            "deque([6, 1, 2, 3])\n",
            "The deque after deleting from left is : \n",
            "deque([1, 2, 3])\n"
          ],
          "name": "stdout"
        }
      ]
    },
    {
      "metadata": {
        "id": "yuw2JxgUqRhR",
        "colab_type": "text"
      },
      "cell_type": "markdown",
      "source": [
        "\n",
        "\n",
        "---\n",
        "\n",
        "Solutions : \n",
        "\\[link text](https://drive.google.com/open?id=1O_MP8ErYQ0i-4WJiCFAkpU8A45L87nAE)"
      ]
    }
  ]
}