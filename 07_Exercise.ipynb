{
  "nbformat": 4,
  "nbformat_minor": 0,
  "metadata": {
    "colab": {
      "name": "07-Exercise.ipynb",
      "version": "0.3.2",
      "provenance": [],
      "collapsed_sections": []
    },
    "kernelspec": {
      "name": "python2",
      "display_name": "Python 2"
    }
  },
  "cells": [
    {
      "metadata": {
        "id": "Q5EHIHDjFv3N",
        "colab_type": "text"
      },
      "cell_type": "markdown",
      "source": [
        "#  Introduction to Python\n",
        "\n",
        "##***Welcome to your first iPython Notebook.***\n",
        "\n",
        "![python](https://cognitiveclass.ai/wp-content/uploads/2016/10/Machine-Learning-with-Python.png)\n",
        "\n",
        "## **About iPython Notebooks**\n",
        "\n",
        "iPython Notebooks are interactive coding environments embedded in a webpage. You will be using iPython notebooks in this class. You only need to write code between the ### START CODE HERE ### and ### END CODE HERE ### comments. After writing your code, you can run the cell by either pressing \"SHIFT\"+\"ENTER\" or by clicking on \"Run Cell\" (denoted by a play symbol) in the left bar of the cell.\n",
        "\n",
        "\n",
        "**In this notebook you will learn -**\n",
        "\n",
        "\n",
        "* Basic Syntax\n",
        "* Variables\n",
        "* Numbers\n",
        "* Casting\n",
        "* String\n",
        "\n",
        "\n",
        "\n",
        "\n",
        "\n",
        "\n",
        "\n",
        "\n",
        "\n",
        "\n",
        "\n"
      ]
    },
    {
      "metadata": {
        "id": "WGjnY7KEfYTk",
        "colab_type": "text"
      },
      "cell_type": "markdown",
      "source": [
        "##Miscellaneous exercise"
      ]
    },
    {
      "metadata": {
        "id": "l92sD8SfizHs",
        "colab_type": "text"
      },
      "cell_type": "markdown",
      "source": [
        "1.   Create a function that multiplies any number x by 13\n",
        "\n",
        "\n",
        "*   x=14\n",
        "*   if result is greater than 130 print \"x is greater than 10\"\n",
        "*   else print \"x is less than 10\"\n",
        "\n",
        "\n",
        "\n"
      ]
    },
    {
      "metadata": {
        "colab_type": "code",
        "id": "UIq9XQ4Cta93",
        "colab": {}
      },
      "cell_type": "code",
      "source": [
        "### START CODE HERE ### \n",
        "\n",
        "\n",
        "\n",
        "### END CODE HERE ###"
      ],
      "execution_count": 0,
      "outputs": []
    },
    {
      "metadata": {
        "id": "JhY-9TP2kZTw",
        "colab_type": "text"
      },
      "cell_type": "markdown",
      "source": [
        "2.   Create a class called student\n",
        "\n",
        "\n",
        "\n",
        "*   use the init() function to assign values for name and BirthYear, where name=\"vinay\" and BirthYear=\"1998\"\n",
        "*   Create a function to find the age\n",
        "\n"
      ]
    },
    {
      "metadata": {
        "colab_type": "code",
        "id": "EJY9I5J9td8X",
        "colab": {}
      },
      "cell_type": "code",
      "source": [
        "### START CODE HERE ### \n",
        "\n",
        "\n",
        "\n",
        "### END CODE HERE ###"
      ],
      "execution_count": 0,
      "outputs": []
    },
    {
      "metadata": {
        "id": "SrlhRBCCFkMX",
        "colab_type": "text"
      },
      "cell_type": "markdown",
      "source": [
        "3. Write a Python program which accepts the radius of a circle from the user and compute the area."
      ]
    },
    {
      "metadata": {
        "colab_type": "code",
        "id": "meIKa7FgFqrq",
        "colab": {}
      },
      "cell_type": "code",
      "source": [
        "### START CODE HERE ### \n",
        "\n",
        "\n",
        "\n",
        "### END CODE HERE ###"
      ],
      "execution_count": 0,
      "outputs": []
    },
    {
      "metadata": {
        "id": "BDAHxAQ5FmwS",
        "colab_type": "code",
        "colab": {}
      },
      "cell_type": "code",
      "source": [
        ""
      ],
      "execution_count": 0,
      "outputs": []
    }
  ]
}